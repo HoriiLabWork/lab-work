{
 "cells": [
  {
   "cell_type": "code",
   "execution_count": 1,
   "metadata": {},
   "outputs": [
    {
     "name": "stderr",
     "output_type": "stream",
     "text": [
      "/home/rkn/.local/share/virtualenvs/lab-work-gFKfzxI5/lib/python3.10/site-packages/tqdm/auto.py:22: TqdmWarning: IProgress not found. Please update jupyter and ipywidgets. See https://ipywidgets.readthedocs.io/en/stable/user_install.html\n",
      "  from .autonotebook import tqdm as notebook_tqdm\n"
     ]
    },
    {
     "data": {
      "text/plain": [
       "device(type='cuda')"
      ]
     },
     "execution_count": 1,
     "metadata": {},
     "output_type": "execute_result"
    }
   ],
   "source": [
    "import torch\n",
    "\n",
    "device = torch.device('cuda' if torch.cuda.is_available() else 'cpu')\n",
    "device"
   ]
  },
  {
   "cell_type": "code",
   "execution_count": 2,
   "metadata": {},
   "outputs": [
    {
     "name": "stderr",
     "output_type": "stream",
     "text": [
      "/home/rkn/.local/share/virtualenvs/lab-work-gFKfzxI5/lib/python3.10/site-packages/transformers/models/vit/feature_extraction_vit.py:28: FutureWarning: The class ViTFeatureExtractor is deprecated and will be removed in version 5 of Transformers. Please use ViTImageProcessor instead.\n",
      "  warnings.warn(\n"
     ]
    }
   ],
   "source": [
    "from transformers import ViTFeatureExtractor\n",
    "\n",
    "feature_extractor = ViTFeatureExtractor.from_pretrained('google/vit-base-patch16-224-in21k')"
   ]
  },
  {
   "cell_type": "code",
   "execution_count": 3,
   "metadata": {},
   "outputs": [],
   "source": [
    "import os\n",
    "import numpy as np\n",
    "import pandas as pd\n",
    "import torch\n",
    "import torchvision\n",
    "from torch.utils.data import Dataset, DataLoader\n",
    "from torchvision import transforms\n",
    "from PIL import Image\n",
    "\n",
    "def csv2labelnp(csv_file):\n",
    "    label_df = pd.read_csv(csv_file, header=None)\n",
    "    return label_df.loc[:,2:].to_numpy() / 10\n",
    "\n",
    "def pil_loader(path):\n",
    "    with open(path, 'rb') as f:\n",
    "        img = Image.open(f)\n",
    "        return img.convert('RGB')\n",
    "\n",
    "class FERPlusDataset(Dataset):\n",
    "    def __init__(self, root, mode, threshold=0.3, transform=None):\n",
    "        self.labels = csv2labelnp(os.path.join(root, 'label.csv'))\n",
    "        self.samples = [os.path.join(root, img_name) for img_name in sorted(os.listdir(root))[:-1]]\n",
    "        self.mode = mode\n",
    "        self.threshold = threshold\n",
    "        self.transform = transform\n",
    "    \n",
    "    def __getitem__(self, idx):\n",
    "        img = pil_loader(self.samples[idx])\n",
    "        if self.transform:\n",
    "            img = self.transform(img)\n",
    "        target = self.labels[idx]\n",
    "        if self.mode == 'majority':\n",
    "            target = np.argmax(target)\n",
    "            target = torch.tensor(target)\n",
    "        elif self.mode == 'multi-label':\n",
    "            target = (target > self.threshold).astype(int)\n",
    "            target = torch.from_numpy(target)\n",
    "        else:\n",
    "            target = torch.from_numpy(target)\n",
    "        return img, target\n",
    "    \n",
    "    def __len__(self):\n",
    "        return len(self.samples)"
   ]
  },
  {
   "cell_type": "code",
   "execution_count": 4,
   "metadata": {},
   "outputs": [
    {
     "name": "stdout",
     "output_type": "stream",
     "text": [
      "train: 28558\n",
      "val: 3579\n",
      "test: 3573\n"
     ]
    }
   ],
   "source": [
    "from torchvision.transforms import (Compose,\n",
    "                                    Normalize,\n",
    "                                    Resize,\n",
    "                                    ToTensor,\n",
    "                                    RandomAffine)\n",
    "\n",
    "normalize = Normalize(mean=sum(feature_extractor.image_mean) / len(feature_extractor.image_mean),\n",
    "                      std=sum(feature_extractor.image_std) / len(feature_extractor.image_std))\n",
    "\n",
    "train_transform = Compose([RandomAffine(30),\n",
    "                           Resize(tuple(feature_extractor.size.values())),\n",
    "                           ToTensor()])\n",
    "\n",
    "val_test_transform = Compose([Resize(tuple(feature_extractor.size.values())),\n",
    "                              ToTensor()])\n",
    "\n",
    "mode = 'majority'\n",
    "\n",
    "train_dataset = FERPlusDataset('FERPlus/data/FER2013Train',\n",
    "                               mode,\n",
    "                               transform=train_transform)\n",
    "val_dataset = FERPlusDataset('FERPlus/data/FER2013Valid',\n",
    "                             mode,\n",
    "                             transform=val_test_transform)\n",
    "test_dataset = FERPlusDataset('FERPlus/data/FER2013Test',\n",
    "                              mode,\n",
    "                              transform=val_test_transform)\n",
    "\n",
    "print('train:', len(train_dataset))\n",
    "print('val:', len(val_dataset))\n",
    "print('test:', len(test_dataset))"
   ]
  },
  {
   "cell_type": "code",
   "execution_count": 5,
   "metadata": {},
   "outputs": [],
   "source": [
    "def collate_fn(examples):\n",
    "    imgs, labels = zip(*examples)\n",
    "    pixel_values = torch.stack(imgs)\n",
    "    labels = torch.stack(labels)\n",
    "    return {'pixel_values': pixel_values, 'labels': labels}"
   ]
  },
  {
   "cell_type": "code",
   "execution_count": 6,
   "metadata": {},
   "outputs": [
    {
     "name": "stdout",
     "output_type": "stream",
     "text": [
      "pixel_values torch.Size([4, 3, 224, 224])\n",
      "labels torch.Size([4])\n"
     ]
    }
   ],
   "source": [
    "train_dataloader = DataLoader(train_dataset, collate_fn=collate_fn, batch_size=4)\n",
    "\n",
    "batch = next(iter(train_dataloader))\n",
    "for k,v in batch.items():\n",
    "  if isinstance(v, torch.Tensor):\n",
    "    print(k, v.shape)"
   ]
  },
  {
   "cell_type": "code",
   "execution_count": 7,
   "metadata": {},
   "outputs": [
    {
     "data": {
      "text/plain": [
       "{'neutral': 0,\n",
       " 'happiness': 1,\n",
       " 'surprise': 2,\n",
       " 'sadness': 3,\n",
       " 'anger': 4,\n",
       " 'disgust': 5,\n",
       " 'fear': 6,\n",
       " 'contempt': 7,\n",
       " 'unknown': 8,\n",
       " 'NF': 9}"
      ]
     },
     "execution_count": 7,
     "metadata": {},
     "output_type": "execute_result"
    }
   ],
   "source": [
    "id2label = {\n",
    "    0: 'neutral',\n",
    "    1: 'happiness',\n",
    "    2: 'surprise',\n",
    "    3: 'sadness',\n",
    "    4: 'anger',\n",
    "    5: 'disgust',\n",
    "    6: 'fear',\n",
    "    7: 'contempt',\n",
    "    8: 'unknown',\n",
    "    9: 'NF'\n",
    "}\n",
    "label2id = {v:k for k,v in id2label.items()}\n",
    "\n",
    "label2id"
   ]
  },
  {
   "cell_type": "code",
   "execution_count": 8,
   "metadata": {},
   "outputs": [
    {
     "name": "stderr",
     "output_type": "stream",
     "text": [
      "Some weights of the model checkpoint at google/vit-base-patch16-224-in21k were not used when initializing ViTForImageClassification: ['pooler.dense.bias', 'pooler.dense.weight']\n",
      "- This IS expected if you are initializing ViTForImageClassification from the checkpoint of a model trained on another task or with another architecture (e.g. initializing a BertForSequenceClassification model from a BertForPreTraining model).\n",
      "- This IS NOT expected if you are initializing ViTForImageClassification from the checkpoint of a model that you expect to be exactly identical (initializing a BertForSequenceClassification model from a BertForSequenceClassification model).\n",
      "Some weights of ViTForImageClassification were not initialized from the model checkpoint at google/vit-base-patch16-224-in21k and are newly initialized: ['classifier.bias', 'classifier.weight']\n",
      "You should probably TRAIN this model on a down-stream task to be able to use it for predictions and inference.\n"
     ]
    }
   ],
   "source": [
    "from transformers import ViTForImageClassification\n",
    "\n",
    "model = ViTForImageClassification.from_pretrained('google/vit-base-patch16-224-in21k',\n",
    "                                                  num_labels=len(label2id),\n",
    "                                                  label2id=label2id,\n",
    "                                                  id2label=id2label)"
   ]
  },
  {
   "cell_type": "code",
   "execution_count": 9,
   "metadata": {},
   "outputs": [],
   "source": [
    "from transformers import TrainingArguments, Trainer\n",
    "\n",
    "metric_name = \"accuracy\"\n",
    "\n",
    "args = TrainingArguments(\n",
    "    f\"fer-majority-vit\",\n",
    "    save_strategy=\"epoch\",\n",
    "    evaluation_strategy=\"epoch\",\n",
    "    learning_rate=2e-5,\n",
    "    per_device_train_batch_size=32,\n",
    "    per_device_eval_batch_size=8,\n",
    "    num_train_epochs=10,\n",
    "    weight_decay=0.01,\n",
    "    load_best_model_at_end=True,\n",
    "    metric_for_best_model=metric_name,\n",
    "    logging_dir='logs',\n",
    "    remove_unused_columns=False,\n",
    ")"
   ]
  },
  {
   "cell_type": "code",
   "execution_count": 10,
   "metadata": {},
   "outputs": [
    {
     "name": "stderr",
     "output_type": "stream",
     "text": [
      "/tmp/ipykernel_461950/1052707893.py:4: FutureWarning: load_metric is deprecated and will be removed in the next major version of datasets. Use 'evaluate.load' instead, from the new library 🤗 Evaluate: https://huggingface.co/docs/evaluate\n",
      "  metric = load_metric(\"accuracy\")\n"
     ]
    }
   ],
   "source": [
    "from datasets import load_metric\n",
    "import numpy as np\n",
    "\n",
    "metric = load_metric(\"accuracy\")\n",
    "\n",
    "def compute_metrics(eval_pred):\n",
    "    predictions, labels = eval_pred\n",
    "    predictions = np.argmax(predictions, axis=1)\n",
    "    return metric.compute(predictions=predictions, references=labels)"
   ]
  },
  {
   "cell_type": "code",
   "execution_count": 11,
   "metadata": {},
   "outputs": [
    {
     "name": "stdout",
     "output_type": "stream",
     "text": [
      "tensor([2.7740e+00, 3.7946e+00, 8.0287e+00, 8.0901e+00, 1.1595e+01, 1.4952e+02,\n",
      "        4.3600e+01, 1.6999e+02, 1.6701e+02, 1.4279e+04], device='cuda:0')\n",
      "tensor([1.0203, 1.3336, 2.0830, 2.0906, 2.4506, 5.0074, 3.7751, 5.1357, 1.0000,\n",
      "        1.0000], device='cuda:0')\n"
     ]
    }
   ],
   "source": [
    "label_ratio = torch.tensor([0]*len(id2label))\n",
    "for _, label in train_dataset:\n",
    "    label = label.tolist()\n",
    "    label_ratio[label] += 1\n",
    "label_ratio = label_ratio / len(train_dataset)\n",
    "weight = (1 / label_ratio).clone().to(device, torch.float32)\n",
    "log_weight = (-torch.log(label_ratio)).clone().to(device, torch.float32)\n",
    "log_weight[-2] = log_weight[-1] = 1\n",
    "print(weight)\n",
    "print(log_weight)"
   ]
  },
  {
   "cell_type": "code",
   "execution_count": 12,
   "metadata": {},
   "outputs": [],
   "source": [
    "import torch.nn as nn\n",
    "from torch.utils.data.sampler import WeightedRandomSampler\n",
    "\n",
    "class WeightedLossTrainer(Trainer):\n",
    "    def compute_loss(self, model, inputs, return_outputs=False):\n",
    "        labels = inputs.get('labels')\n",
    "        outputs = model(**inputs)\n",
    "        logits = outputs.get('logits')\n",
    "        loss_fct = nn.CrossEntropyLoss(weight=weight)\n",
    "        loss = loss_fct(logits.view(-1, self.model.config.num_labels), labels.view(-1))\n",
    "        return (loss, outputs) if return_outputs else loss\n",
    "\n",
    "class WeightedRandomSamplerTrainer(Trainer):\n",
    "    def get_train_dataloader(self) -> DataLoader:\n",
    "        if self.train_dataset is None:\n",
    "            raise ValueError(\"Trainer: training requires a train_dataset.\")\n",
    "\n",
    "        train_dataset = self.train_dataset\n",
    "        data_collator = self.data_collator\n",
    "        return DataLoader(\n",
    "            train_dataset,\n",
    "            batch_size=self._train_batch_size,\n",
    "            sampler=WeightedRandomSampler(weights=weight, num_samples=len(train_dataset)),\n",
    "            collate_fn=data_collator,\n",
    "            drop_last=self.args.dataloader_drop_last,\n",
    "            num_workers=self.args.dataloader_num_workers,\n",
    "            pin_memory=self.args.dataloader_pin_memory,\n",
    "        )"
   ]
  },
  {
   "cell_type": "code",
   "execution_count": 13,
   "metadata": {},
   "outputs": [],
   "source": [
    "trainer = WeightedLossTrainer(\n",
    "# trainer = WeightedRandomSamplerTrainer(\n",
    "    model,\n",
    "    args,\n",
    "    train_dataset=train_dataset,\n",
    "    eval_dataset=val_dataset,\n",
    "    data_collator=collate_fn,\n",
    "    compute_metrics=compute_metrics,\n",
    "    tokenizer=feature_extractor,\n",
    ")"
   ]
  },
  {
   "cell_type": "code",
   "execution_count": 14,
   "metadata": {},
   "outputs": [
    {
     "name": "stderr",
     "output_type": "stream",
     "text": [
      "/home/rkn/.local/share/virtualenvs/lab-work-gFKfzxI5/lib/python3.10/site-packages/transformers/optimization.py:306: FutureWarning: This implementation of AdamW is deprecated and will be removed in a future version. Use the PyTorch implementation torch.optim.AdamW instead, or set `no_deprecation_warning=True` to disable this warning\n",
      "  warnings.warn(\n",
      "***** Running training *****\n",
      "  Num examples = 28558\n",
      "  Num Epochs = 10\n",
      "  Instantaneous batch size per device = 32\n",
      "  Total train batch size (w. parallel, distributed & accumulation) = 32\n",
      "  Gradient Accumulation steps = 1\n",
      "  Total optimization steps = 8930\n",
      "  Number of trainable parameters = 85806346\n",
      "  6%|▌         | 500/8930 [02:32<42:17,  3.32it/s]"
     ]
    },
    {
     "name": "stdout",
     "output_type": "stream",
     "text": [
      "{'loss': 1.8302, 'learning_rate': 1.888017917133259e-05, 'epoch': 0.56}\n"
     ]
    },
    {
     "name": "stderr",
     "output_type": "stream",
     "text": [
      " 10%|█         | 893/8930 [04:30<33:15,  4.03it/s]***** Running Evaluation *****\n",
      "  Num examples = 3579\n",
      "  Batch size = 8\n",
      "                                                  \n",
      " 10%|█         | 893/8930 [04:44<33:15,  4.03it/s]Saving model checkpoint to fer-majority-vit/checkpoint-893\n",
      "Configuration saved in fer-majority-vit/checkpoint-893/config.json\n"
     ]
    },
    {
     "name": "stdout",
     "output_type": "stream",
     "text": [
      "{'eval_loss': 1.2074694633483887, 'eval_accuracy': 0.7292539815590947, 'eval_runtime': 13.2251, 'eval_samples_per_second': 270.621, 'eval_steps_per_second': 33.875, 'epoch': 1.0}\n"
     ]
    },
    {
     "name": "stderr",
     "output_type": "stream",
     "text": [
      "Model weights saved in fer-majority-vit/checkpoint-893/pytorch_model.bin\n",
      "Image processor saved in fer-majority-vit/checkpoint-893/preprocessor_config.json\n",
      " 11%|█         | 1000/8930 [05:22<38:40,  3.42it/s]  "
     ]
    },
    {
     "name": "stdout",
     "output_type": "stream",
     "text": [
      "{'loss': 1.4318, 'learning_rate': 1.7760358342665175e-05, 'epoch': 1.12}\n"
     ]
    },
    {
     "name": "stderr",
     "output_type": "stream",
     "text": [
      " 17%|█▋        | 1500/8930 [07:51<37:35,  3.29it/s]"
     ]
    },
    {
     "name": "stdout",
     "output_type": "stream",
     "text": [
      "{'loss': 1.279, 'learning_rate': 1.6640537513997762e-05, 'epoch': 1.68}\n"
     ]
    },
    {
     "name": "stderr",
     "output_type": "stream",
     "text": [
      " 20%|██        | 1786/8930 [09:18<30:57,  3.85it/s]***** Running Evaluation *****\n",
      "  Num examples = 3579\n",
      "  Batch size = 8\n",
      "                                                   \n",
      " 20%|██        | 1786/8930 [09:31<30:57,  3.85it/s]Saving model checkpoint to fer-majority-vit/checkpoint-1786\n",
      "Configuration saved in fer-majority-vit/checkpoint-1786/config.json\n"
     ]
    },
    {
     "name": "stdout",
     "output_type": "stream",
     "text": [
      "{'eval_loss': 1.007039189338684, 'eval_accuracy': 0.7404302877898854, 'eval_runtime': 13.521, 'eval_samples_per_second': 264.7, 'eval_steps_per_second': 33.134, 'epoch': 2.0}\n"
     ]
    },
    {
     "name": "stderr",
     "output_type": "stream",
     "text": [
      "Model weights saved in fer-majority-vit/checkpoint-1786/pytorch_model.bin\n",
      "Image processor saved in fer-majority-vit/checkpoint-1786/preprocessor_config.json\n",
      " 22%|██▏       | 2000/8930 [10:43<34:36,  3.34it/s]   "
     ]
    },
    {
     "name": "stdout",
     "output_type": "stream",
     "text": [
      "{'loss': 1.1537, 'learning_rate': 1.552071668533035e-05, 'epoch': 2.24}\n"
     ]
    },
    {
     "name": "stderr",
     "output_type": "stream",
     "text": [
      " 28%|██▊       | 2500/8930 [13:12<32:08,  3.33it/s]"
     ]
    },
    {
     "name": "stdout",
     "output_type": "stream",
     "text": [
      "{'loss': 1.061, 'learning_rate': 1.4400895856662935e-05, 'epoch': 2.8}\n"
     ]
    },
    {
     "name": "stderr",
     "output_type": "stream",
     "text": [
      " 30%|███       | 2679/8930 [14:06<27:07,  3.84it/s]***** Running Evaluation *****\n",
      "  Num examples = 3579\n",
      "  Batch size = 8\n",
      "                                                   \n",
      " 30%|███       | 2679/8930 [14:20<27:07,  3.84it/s]Saving model checkpoint to fer-majority-vit/checkpoint-2679\n",
      "Configuration saved in fer-majority-vit/checkpoint-2679/config.json\n"
     ]
    },
    {
     "name": "stdout",
     "output_type": "stream",
     "text": [
      "{'eval_loss': 0.8996833562850952, 'eval_accuracy': 0.7706063146130204, 'eval_runtime': 13.4763, 'eval_samples_per_second': 265.577, 'eval_steps_per_second': 33.244, 'epoch': 3.0}\n"
     ]
    },
    {
     "name": "stderr",
     "output_type": "stream",
     "text": [
      "Model weights saved in fer-majority-vit/checkpoint-2679/pytorch_model.bin\n",
      "Image processor saved in fer-majority-vit/checkpoint-2679/preprocessor_config.json\n",
      " 34%|███▎      | 3000/8930 [16:04<30:18,  3.26it/s]   "
     ]
    },
    {
     "name": "stdout",
     "output_type": "stream",
     "text": [
      "{'loss': 0.9916, 'learning_rate': 1.3281075027995522e-05, 'epoch': 3.36}\n"
     ]
    },
    {
     "name": "stderr",
     "output_type": "stream",
     "text": [
      " 39%|███▉      | 3500/8930 [18:35<26:54,  3.36it/s]"
     ]
    },
    {
     "name": "stdout",
     "output_type": "stream",
     "text": [
      "{'loss': 0.9333, 'learning_rate': 1.2161254199328107e-05, 'epoch': 3.92}\n"
     ]
    },
    {
     "name": "stderr",
     "output_type": "stream",
     "text": [
      " 40%|████      | 3572/8930 [18:56<22:19,  4.00it/s]***** Running Evaluation *****\n",
      "  Num examples = 3579\n",
      "  Batch size = 8\n",
      "                                                   \n",
      " 40%|████      | 3572/8930 [19:09<22:19,  4.00it/s]Saving model checkpoint to fer-majority-vit/checkpoint-3572\n",
      "Configuration saved in fer-majority-vit/checkpoint-3572/config.json\n"
     ]
    },
    {
     "name": "stdout",
     "output_type": "stream",
     "text": [
      "{'eval_loss': 0.8445628881454468, 'eval_accuracy': 0.7829002514668902, 'eval_runtime': 13.24, 'eval_samples_per_second': 270.317, 'eval_steps_per_second': 33.837, 'epoch': 4.0}\n"
     ]
    },
    {
     "name": "stderr",
     "output_type": "stream",
     "text": [
      "Model weights saved in fer-majority-vit/checkpoint-3572/pytorch_model.bin\n",
      "Image processor saved in fer-majority-vit/checkpoint-3572/preprocessor_config.json\n",
      " 45%|████▍     | 4000/8930 [21:24<25:11,  3.26it/s]  "
     ]
    },
    {
     "name": "stdout",
     "output_type": "stream",
     "text": [
      "{'loss': 0.8604, 'learning_rate': 1.1041433370660695e-05, 'epoch': 4.48}\n"
     ]
    },
    {
     "name": "stderr",
     "output_type": "stream",
     "text": [
      " 50%|█████     | 4465/8930 [23:45<18:58,  3.92it/s]***** Running Evaluation *****\n",
      "  Num examples = 3579\n",
      "  Batch size = 8\n",
      "                                                   \n",
      " 50%|█████     | 4465/8930 [23:58<18:58,  3.92it/s]Saving model checkpoint to fer-majority-vit/checkpoint-4465\n",
      "Configuration saved in fer-majority-vit/checkpoint-4465/config.json\n"
     ]
    },
    {
     "name": "stdout",
     "output_type": "stream",
     "text": [
      "{'eval_loss': 0.806887686252594, 'eval_accuracy': 0.7982676725342275, 'eval_runtime': 13.3846, 'eval_samples_per_second': 267.397, 'eval_steps_per_second': 33.471, 'epoch': 5.0}\n"
     ]
    },
    {
     "name": "stderr",
     "output_type": "stream",
     "text": [
      "Model weights saved in fer-majority-vit/checkpoint-4465/pytorch_model.bin\n",
      "Image processor saved in fer-majority-vit/checkpoint-4465/preprocessor_config.json\n",
      " 50%|█████     | 4500/8930 [24:15<22:20,  3.31it/s]  "
     ]
    },
    {
     "name": "stdout",
     "output_type": "stream",
     "text": [
      "{'loss': 0.8227, 'learning_rate': 9.921612541993282e-06, 'epoch': 5.04}\n"
     ]
    },
    {
     "name": "stderr",
     "output_type": "stream",
     "text": [
      " 56%|█████▌    | 5000/8930 [26:44<19:22,  3.38it/s]"
     ]
    },
    {
     "name": "stdout",
     "output_type": "stream",
     "text": [
      "{'loss': 0.7609, 'learning_rate': 8.801791713325869e-06, 'epoch': 5.6}\n"
     ]
    },
    {
     "name": "stderr",
     "output_type": "stream",
     "text": [
      " 60%|██████    | 5358/8930 [28:30<15:07,  3.94it/s]***** Running Evaluation *****\n",
      "  Num examples = 3579\n",
      "  Batch size = 8\n",
      "                                                   \n",
      " 60%|██████    | 5358/8930 [28:44<15:07,  3.94it/s]Saving model checkpoint to fer-majority-vit/checkpoint-5358\n",
      "Configuration saved in fer-majority-vit/checkpoint-5358/config.json\n"
     ]
    },
    {
     "name": "stdout",
     "output_type": "stream",
     "text": [
      "{'eval_loss': 0.8158136606216431, 'eval_accuracy': 0.8044146409611623, 'eval_runtime': 13.3117, 'eval_samples_per_second': 268.861, 'eval_steps_per_second': 33.655, 'epoch': 6.0}\n"
     ]
    },
    {
     "name": "stderr",
     "output_type": "stream",
     "text": [
      "Model weights saved in fer-majority-vit/checkpoint-5358/pytorch_model.bin\n",
      "Image processor saved in fer-majority-vit/checkpoint-5358/preprocessor_config.json\n",
      " 62%|██████▏   | 5500/8930 [29:33<17:02,  3.36it/s]  "
     ]
    },
    {
     "name": "stdout",
     "output_type": "stream",
     "text": [
      "{'loss': 0.7393, 'learning_rate': 7.681970884658456e-06, 'epoch': 6.16}\n"
     ]
    },
    {
     "name": "stderr",
     "output_type": "stream",
     "text": [
      " 67%|██████▋   | 6000/8930 [32:03<14:33,  3.35it/s]"
     ]
    },
    {
     "name": "stdout",
     "output_type": "stream",
     "text": [
      "{'loss': 0.6729, 'learning_rate': 6.562150055991042e-06, 'epoch': 6.72}\n"
     ]
    },
    {
     "name": "stderr",
     "output_type": "stream",
     "text": [
      " 70%|███████   | 6251/8930 [33:18<11:09,  4.00it/s]***** Running Evaluation *****\n",
      "  Num examples = 3579\n",
      "  Batch size = 8\n",
      "                                                   \n",
      " 70%|███████   | 6251/8930 [33:31<11:09,  4.00it/s]Saving model checkpoint to fer-majority-vit/checkpoint-6251\n",
      "Configuration saved in fer-majority-vit/checkpoint-6251/config.json\n"
     ]
    },
    {
     "name": "stdout",
     "output_type": "stream",
     "text": [
      "{'eval_loss': 0.7966660857200623, 'eval_accuracy': 0.8005029337803856, 'eval_runtime': 13.2242, 'eval_samples_per_second': 270.64, 'eval_steps_per_second': 33.877, 'epoch': 7.0}\n"
     ]
    },
    {
     "name": "stderr",
     "output_type": "stream",
     "text": [
      "Model weights saved in fer-majority-vit/checkpoint-6251/pytorch_model.bin\n",
      "Image processor saved in fer-majority-vit/checkpoint-6251/preprocessor_config.json\n",
      " 73%|███████▎  | 6500/8930 [34:52<12:16,  3.30it/s]  "
     ]
    },
    {
     "name": "stdout",
     "output_type": "stream",
     "text": [
      "{'loss': 0.675, 'learning_rate': 5.442329227323628e-06, 'epoch': 7.28}\n"
     ]
    },
    {
     "name": "stderr",
     "output_type": "stream",
     "text": [
      " 78%|███████▊  | 7000/8930 [37:24<09:48,  3.28it/s]"
     ]
    },
    {
     "name": "stdout",
     "output_type": "stream",
     "text": [
      "{'loss': 0.6344, 'learning_rate': 4.322508398656216e-06, 'epoch': 7.84}\n"
     ]
    },
    {
     "name": "stderr",
     "output_type": "stream",
     "text": [
      " 80%|████████  | 7144/8930 [38:08<07:44,  3.85it/s]***** Running Evaluation *****\n",
      "  Num examples = 3579\n",
      "  Batch size = 8\n",
      "                                                   \n",
      " 80%|████████  | 7144/8930 [38:22<07:44,  3.85it/s]Saving model checkpoint to fer-majority-vit/checkpoint-7144\n",
      "Configuration saved in fer-majority-vit/checkpoint-7144/config.json\n"
     ]
    },
    {
     "name": "stdout",
     "output_type": "stream",
     "text": [
      "{'eval_loss': 0.791093111038208, 'eval_accuracy': 0.8100027940765577, 'eval_runtime': 13.4797, 'eval_samples_per_second': 265.51, 'eval_steps_per_second': 33.235, 'epoch': 8.0}\n"
     ]
    },
    {
     "name": "stderr",
     "output_type": "stream",
     "text": [
      "Model weights saved in fer-majority-vit/checkpoint-7144/pytorch_model.bin\n",
      "Image processor saved in fer-majority-vit/checkpoint-7144/preprocessor_config.json\n",
      " 84%|████████▍ | 7500/8930 [40:15<07:08,  3.34it/s]  "
     ]
    },
    {
     "name": "stdout",
     "output_type": "stream",
     "text": [
      "{'loss': 0.583, 'learning_rate': 3.202687569988802e-06, 'epoch': 8.4}\n"
     ]
    },
    {
     "name": "stderr",
     "output_type": "stream",
     "text": [
      " 90%|████████▉ | 8000/8930 [42:44<04:40,  3.31it/s]"
     ]
    },
    {
     "name": "stdout",
     "output_type": "stream",
     "text": [
      "{'loss': 0.5548, 'learning_rate': 2.082866741321389e-06, 'epoch': 8.96}\n"
     ]
    },
    {
     "name": "stderr",
     "output_type": "stream",
     "text": [
      " 90%|█████████ | 8037/8930 [42:55<03:47,  3.93it/s]***** Running Evaluation *****\n",
      "  Num examples = 3579\n",
      "  Batch size = 8\n",
      "                                                   \n",
      " 90%|█████████ | 8037/8930 [43:08<03:47,  3.93it/s]Saving model checkpoint to fer-majority-vit/checkpoint-8037\n",
      "Configuration saved in fer-majority-vit/checkpoint-8037/config.json\n"
     ]
    },
    {
     "name": "stdout",
     "output_type": "stream",
     "text": [
      "{'eval_loss': 0.7849414348602295, 'eval_accuracy': 0.8074881251746298, 'eval_runtime': 13.3738, 'eval_samples_per_second': 267.613, 'eval_steps_per_second': 33.498, 'epoch': 9.0}\n"
     ]
    },
    {
     "name": "stderr",
     "output_type": "stream",
     "text": [
      "Model weights saved in fer-majority-vit/checkpoint-8037/pytorch_model.bin\n",
      "Image processor saved in fer-majority-vit/checkpoint-8037/preprocessor_config.json\n",
      " 95%|█████████▌| 8500/8930 [45:34<02:10,  3.30it/s]  "
     ]
    },
    {
     "name": "stdout",
     "output_type": "stream",
     "text": [
      "{'loss': 0.5378, 'learning_rate': 9.630459126539753e-07, 'epoch': 9.52}\n"
     ]
    },
    {
     "name": "stderr",
     "output_type": "stream",
     "text": [
      "100%|██████████| 8930/8930 [47:41<00:00,  3.98it/s]***** Running Evaluation *****\n",
      "  Num examples = 3579\n",
      "  Batch size = 8\n",
      "                                                   \n",
      "100%|██████████| 8930/8930 [47:54<00:00,  3.98it/s]Saving model checkpoint to fer-majority-vit/checkpoint-8930\n",
      "Configuration saved in fer-majority-vit/checkpoint-8930/config.json\n"
     ]
    },
    {
     "name": "stdout",
     "output_type": "stream",
     "text": [
      "{'eval_loss': 0.7842400074005127, 'eval_accuracy': 0.8094439787650182, 'eval_runtime': 13.0871, 'eval_samples_per_second': 273.475, 'eval_steps_per_second': 34.232, 'epoch': 10.0}\n"
     ]
    },
    {
     "name": "stderr",
     "output_type": "stream",
     "text": [
      "Model weights saved in fer-majority-vit/checkpoint-8930/pytorch_model.bin\n",
      "Image processor saved in fer-majority-vit/checkpoint-8930/preprocessor_config.json\n",
      "\n",
      "\n",
      "Training completed. Do not forget to share your model on huggingface.co/models =)\n",
      "\n",
      "\n",
      "Loading best model from fer-majority-vit/checkpoint-7144 (score: 0.8100027940765577).\n",
      "100%|██████████| 8930/8930 [48:01<00:00,  3.10it/s]"
     ]
    },
    {
     "name": "stdout",
     "output_type": "stream",
     "text": [
      "{'train_runtime': 2881.1404, 'train_samples_per_second': 99.12, 'train_steps_per_second': 3.099, 'train_loss': 0.8950281482794784, 'epoch': 10.0}\n"
     ]
    },
    {
     "name": "stderr",
     "output_type": "stream",
     "text": [
      "\n"
     ]
    },
    {
     "data": {
      "text/plain": [
       "TrainOutput(global_step=8930, training_loss=0.8950281482794784, metrics={'train_runtime': 2881.1404, 'train_samples_per_second': 99.12, 'train_steps_per_second': 3.099, 'train_loss': 0.8950281482794784, 'epoch': 10.0})"
      ]
     },
     "execution_count": 14,
     "metadata": {},
     "output_type": "execute_result"
    }
   ],
   "source": [
    "trainer.train()"
   ]
  },
  {
   "cell_type": "code",
   "execution_count": 15,
   "metadata": {},
   "outputs": [
    {
     "name": "stderr",
     "output_type": "stream",
     "text": [
      "***** Running Prediction *****\n",
      "  Num examples = 3573\n",
      "  Batch size = 8\n",
      "100%|██████████| 447/447 [00:13<00:00, 33.89it/s]\n"
     ]
    }
   ],
   "source": [
    "outputs = trainer.predict(test_dataset)"
   ]
  },
  {
   "cell_type": "code",
   "execution_count": 16,
   "metadata": {},
   "outputs": [
    {
     "name": "stdout",
     "output_type": "stream",
     "text": [
      "{'test_loss': 0.8740112781524658, 'test_accuracy': 0.7982087881332214, 'test_runtime': 13.2241, 'test_samples_per_second': 270.188, 'test_steps_per_second': 33.802}\n"
     ]
    }
   ],
   "source": [
    "print(outputs.metrics)"
   ]
  },
  {
   "cell_type": "code",
   "execution_count": 22,
   "metadata": {},
   "outputs": [
    {
     "data": {
      "text/plain": [
       "<sklearn.metrics._plot.confusion_matrix.ConfusionMatrixDisplay at 0x7fcd243357e0>"
      ]
     },
     "execution_count": 22,
     "metadata": {},
     "output_type": "execute_result"
    },
    {
     "data": {
      "image/png": "[encoded data removed]",
      "text/plain": [
       "<Figure size 1200x1200 with 2 Axes>"
      ]
     },
     "metadata": {},
     "output_type": "display_data"
    }
   ],
   "source": [
    "from sklearn.metrics import confusion_matrix, ConfusionMatrixDisplay\n",
    "import matplotlib.pyplot as plt\n",
    "\n",
    "y_true = outputs.label_ids\n",
    "y_pred = outputs.predictions.argmax(1)\n",
    "\n",
    "labels = list(label2id.keys())[:-1]\n",
    "cm = confusion_matrix(y_true, y_pred, normalize='true')\n",
    "disp = ConfusionMatrixDisplay(confusion_matrix=cm, display_labels=labels)\n",
    "fig, ax = plt.subplots(figsize=(12,12))\n",
    "disp.plot(ax=ax)"
   ]
  },
  {
   "cell_type": "code",
   "execution_count": null,
   "metadata": {},
   "outputs": [],
   "source": []
  }
 ],
 "metadata": {
  "kernelspec": {
   "display_name": "lab-work-gFKfzxI5",
   "language": "python",
   "name": "python3"
  },
  "language_info": {
   "codemirror_mode": {
    "name": "ipython",
    "version": 3
   },
   "file_extension": ".py",
   "mimetype": "text/x-python",
   "name": "python",
   "nbconvert_exporter": "python",
   "pygments_lexer": "ipython3",
   "version": "3.10.10"
  },
  "orig_nbformat": 4,
  "vscode": {
   "interpreter": {
    "hash": "849f61b40a9f0695613f10abe0801a9209e9c807f7f85006c3621f09dc21595f"
   }
  }
 },
 "nbformat": 4,
 "nbformat_minor": 2
}
