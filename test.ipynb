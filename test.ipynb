{
 "cells": [
  {
   "cell_type": "code",
   "execution_count": 6,
   "metadata": {},
   "outputs": [],
   "source": [
    "from PIL import Image\n",
    "import pandas as pd\n",
    "import matplotlib.pyplot as plt\n",
    "import numpy as np"
   ]
  },
  {
   "cell_type": "code",
   "execution_count": 2,
   "metadata": {},
   "outputs": [
    {
     "data": {
      "text/html": [
       "<div>\n",
       "<style scoped>\n",
       "    .dataframe tbody tr th:only-of-type {\n",
       "        vertical-align: middle;\n",
       "    }\n",
       "\n",
       "    .dataframe tbody tr th {\n",
       "        vertical-align: top;\n",
       "    }\n",
       "\n",
       "    .dataframe thead th {\n",
       "        text-align: right;\n",
       "    }\n",
       "</style>\n",
       "<table border=\"1\" class=\"dataframe\">\n",
       "  <thead>\n",
       "    <tr style=\"text-align: right;\">\n",
       "      <th></th>\n",
       "      <th>subDirectory_filePath</th>\n",
       "      <th>face_x</th>\n",
       "      <th>face_y</th>\n",
       "      <th>face_width</th>\n",
       "      <th>face_height</th>\n",
       "      <th>facial_landmarks</th>\n",
       "      <th>expression</th>\n",
       "      <th>valence</th>\n",
       "      <th>arousal</th>\n",
       "    </tr>\n",
       "  </thead>\n",
       "  <tbody>\n",
       "    <tr>\n",
       "      <th>0</th>\n",
       "      <td>689/737db2483489148d783ef278f43f486c0a97e140fc...</td>\n",
       "      <td>134</td>\n",
       "      <td>134</td>\n",
       "      <td>899</td>\n",
       "      <td>899</td>\n",
       "      <td>181.64;530.91;188.32;627.82;195.1;723.37;205.2...</td>\n",
       "      <td>1</td>\n",
       "      <td>0.785714</td>\n",
       "      <td>-0.055556</td>\n",
       "    </tr>\n",
       "    <tr>\n",
       "      <th>1</th>\n",
       "      <td>392/c4db2f9b7e4b422d14b6e038f0cdc3ecee239b5532...</td>\n",
       "      <td>20</td>\n",
       "      <td>20</td>\n",
       "      <td>137</td>\n",
       "      <td>137</td>\n",
       "      <td>28.82;77.52;29.12;93.25;31.04;108.51;33.03;123...</td>\n",
       "      <td>0</td>\n",
       "      <td>-0.017253</td>\n",
       "      <td>0.004313</td>\n",
       "    </tr>\n",
       "    <tr>\n",
       "      <th>2</th>\n",
       "      <td>468/21772b68dc8c2a11678c8739eca33adb6ccc658600...</td>\n",
       "      <td>11</td>\n",
       "      <td>11</td>\n",
       "      <td>176</td>\n",
       "      <td>176</td>\n",
       "      <td>30.52;87.33;32.55;106.43;36.94;125.81;43.06;14...</td>\n",
       "      <td>0</td>\n",
       "      <td>0.174603</td>\n",
       "      <td>0.007937</td>\n",
       "    </tr>\n",
       "    <tr>\n",
       "      <th>3</th>\n",
       "      <td>944/06e9ae8d3b240eb68fa60534783eacafce2def60a8...</td>\n",
       "      <td>40</td>\n",
       "      <td>40</td>\n",
       "      <td>269</td>\n",
       "      <td>269</td>\n",
       "      <td>44.43;158.17;47.08;189.2;50.54;221.88;58.3;253...</td>\n",
       "      <td>1</td>\n",
       "      <td>0.153401</td>\n",
       "      <td>0.038890</td>\n",
       "    </tr>\n",
       "    <tr>\n",
       "      <th>4</th>\n",
       "      <td>993/02e06ee5521958b4042dd73abb444220609d96f57b...</td>\n",
       "      <td>22</td>\n",
       "      <td>22</td>\n",
       "      <td>153</td>\n",
       "      <td>153</td>\n",
       "      <td>50.59;78.72;48.6;93.23;48.72;109.06;48.8;123.0...</td>\n",
       "      <td>8</td>\n",
       "      <td>0.783972</td>\n",
       "      <td>-0.551684</td>\n",
       "    </tr>\n",
       "    <tr>\n",
       "      <th>...</th>\n",
       "      <td>...</td>\n",
       "      <td>...</td>\n",
       "      <td>...</td>\n",
       "      <td>...</td>\n",
       "      <td>...</td>\n",
       "      <td>...</td>\n",
       "      <td>...</td>\n",
       "      <td>...</td>\n",
       "      <td>...</td>\n",
       "    </tr>\n",
       "    <tr>\n",
       "      <th>414794</th>\n",
       "      <td>1215/65e2c4fe91780f417c0edf3c71561d0e41e4db248...</td>\n",
       "      <td>52</td>\n",
       "      <td>52</td>\n",
       "      <td>348</td>\n",
       "      <td>348</td>\n",
       "      <td>83.9;225.92;88.93;260.62;97.28;296.78;108.34;3...</td>\n",
       "      <td>2</td>\n",
       "      <td>-0.662960</td>\n",
       "      <td>-0.249501</td>\n",
       "    </tr>\n",
       "    <tr>\n",
       "      <th>414795</th>\n",
       "      <td>375/a0077b9ae7ab3fd9241dd0775cb9f88c1d8913c7af...</td>\n",
       "      <td>49</td>\n",
       "      <td>49</td>\n",
       "      <td>330</td>\n",
       "      <td>330</td>\n",
       "      <td>106.87;161.43;105.49;191.66;109.81;224.48;113....</td>\n",
       "      <td>2</td>\n",
       "      <td>-0.833333</td>\n",
       "      <td>-0.380952</td>\n",
       "    </tr>\n",
       "    <tr>\n",
       "      <th>414796</th>\n",
       "      <td>606/08e4e677c377461ec5400d74b4fd07dd6454cf2d7e...</td>\n",
       "      <td>28</td>\n",
       "      <td>28</td>\n",
       "      <td>191</td>\n",
       "      <td>191</td>\n",
       "      <td>52.53;97.98;50.5;116.98;50.65;136.12;53.3;155....</td>\n",
       "      <td>1</td>\n",
       "      <td>0.542562</td>\n",
       "      <td>-0.015803</td>\n",
       "    </tr>\n",
       "    <tr>\n",
       "      <th>414797</th>\n",
       "      <td>867/d5c098b92c063caf1c8761c9b4ee5d7a8c3c08f94b...</td>\n",
       "      <td>65</td>\n",
       "      <td>65</td>\n",
       "      <td>724</td>\n",
       "      <td>724</td>\n",
       "      <td>95.85;340.5;99.96;432.63;117.87;521.21;138.52;...</td>\n",
       "      <td>10</td>\n",
       "      <td>-2.000000</td>\n",
       "      <td>-2.000000</td>\n",
       "    </tr>\n",
       "    <tr>\n",
       "      <th>414798</th>\n",
       "      <td>1372/115ea14e515a51da3b4aa021ac6b927296566de0d...</td>\n",
       "      <td>17</td>\n",
       "      <td>17</td>\n",
       "      <td>266</td>\n",
       "      <td>266</td>\n",
       "      <td>9.41;132.61;11.55;165.9;16.94;200.19;27.08;232...</td>\n",
       "      <td>10</td>\n",
       "      <td>-2.000000</td>\n",
       "      <td>-2.000000</td>\n",
       "    </tr>\n",
       "  </tbody>\n",
       "</table>\n",
       "<p>414799 rows × 9 columns</p>\n",
       "</div>"
      ],
      "text/plain": [
       "                                    subDirectory_filePath  face_x  face_y  \\\n",
       "0       689/737db2483489148d783ef278f43f486c0a97e140fc...     134     134   \n",
       "1       392/c4db2f9b7e4b422d14b6e038f0cdc3ecee239b5532...      20      20   \n",
       "2       468/21772b68dc8c2a11678c8739eca33adb6ccc658600...      11      11   \n",
       "3       944/06e9ae8d3b240eb68fa60534783eacafce2def60a8...      40      40   \n",
       "4       993/02e06ee5521958b4042dd73abb444220609d96f57b...      22      22   \n",
       "...                                                   ...     ...     ...   \n",
       "414794  1215/65e2c4fe91780f417c0edf3c71561d0e41e4db248...      52      52   \n",
       "414795  375/a0077b9ae7ab3fd9241dd0775cb9f88c1d8913c7af...      49      49   \n",
       "414796  606/08e4e677c377461ec5400d74b4fd07dd6454cf2d7e...      28      28   \n",
       "414797  867/d5c098b92c063caf1c8761c9b4ee5d7a8c3c08f94b...      65      65   \n",
       "414798  1372/115ea14e515a51da3b4aa021ac6b927296566de0d...      17      17   \n",
       "\n",
       "        face_width  face_height  \\\n",
       "0              899          899   \n",
       "1              137          137   \n",
       "2              176          176   \n",
       "3              269          269   \n",
       "4              153          153   \n",
       "...            ...          ...   \n",
       "414794         348          348   \n",
       "414795         330          330   \n",
       "414796         191          191   \n",
       "414797         724          724   \n",
       "414798         266          266   \n",
       "\n",
       "                                         facial_landmarks  expression  \\\n",
       "0       181.64;530.91;188.32;627.82;195.1;723.37;205.2...           1   \n",
       "1       28.82;77.52;29.12;93.25;31.04;108.51;33.03;123...           0   \n",
       "2       30.52;87.33;32.55;106.43;36.94;125.81;43.06;14...           0   \n",
       "3       44.43;158.17;47.08;189.2;50.54;221.88;58.3;253...           1   \n",
       "4       50.59;78.72;48.6;93.23;48.72;109.06;48.8;123.0...           8   \n",
       "...                                                   ...         ...   \n",
       "414794  83.9;225.92;88.93;260.62;97.28;296.78;108.34;3...           2   \n",
       "414795  106.87;161.43;105.49;191.66;109.81;224.48;113....           2   \n",
       "414796  52.53;97.98;50.5;116.98;50.65;136.12;53.3;155....           1   \n",
       "414797  95.85;340.5;99.96;432.63;117.87;521.21;138.52;...          10   \n",
       "414798  9.41;132.61;11.55;165.9;16.94;200.19;27.08;232...          10   \n",
       "\n",
       "         valence   arousal  \n",
       "0       0.785714 -0.055556  \n",
       "1      -0.017253  0.004313  \n",
       "2       0.174603  0.007937  \n",
       "3       0.153401  0.038890  \n",
       "4       0.783972 -0.551684  \n",
       "...          ...       ...  \n",
       "414794 -0.662960 -0.249501  \n",
       "414795 -0.833333 -0.380952  \n",
       "414796  0.542562 -0.015803  \n",
       "414797 -2.000000 -2.000000  \n",
       "414798 -2.000000 -2.000000  \n",
       "\n",
       "[414799 rows x 9 columns]"
      ]
     },
     "execution_count": 2,
     "metadata": {},
     "output_type": "execute_result"
    }
   ],
   "source": [
    "train_df = pd.read_csv('Affectnet/training.csv')\n",
    "train_df"
   ]
  },
  {
   "cell_type": "code",
   "execution_count": 3,
   "metadata": {},
   "outputs": [
    {
     "data": {
      "text/html": [
       "<div>\n",
       "<style scoped>\n",
       "    .dataframe tbody tr th:only-of-type {\n",
       "        vertical-align: middle;\n",
       "    }\n",
       "\n",
       "    .dataframe tbody tr th {\n",
       "        vertical-align: top;\n",
       "    }\n",
       "\n",
       "    .dataframe thead th {\n",
       "        text-align: right;\n",
       "    }\n",
       "</style>\n",
       "<table border=\"1\" class=\"dataframe\">\n",
       "  <thead>\n",
       "    <tr style=\"text-align: right;\">\n",
       "      <th></th>\n",
       "      <th>subDirectory_filePath</th>\n",
       "      <th>face_x</th>\n",
       "      <th>face_y</th>\n",
       "      <th>face_width</th>\n",
       "      <th>face_height</th>\n",
       "      <th>facial_landmarks</th>\n",
       "      <th>expression</th>\n",
       "      <th>valence</th>\n",
       "      <th>arousal</th>\n",
       "    </tr>\n",
       "  </thead>\n",
       "  <tbody>\n",
       "    <tr>\n",
       "      <th>0</th>\n",
       "      <td>459/81456263be241927c7a59a2646f88c2700ce4b7cba...</td>\n",
       "      <td>147</td>\n",
       "      <td>147</td>\n",
       "      <td>981</td>\n",
       "      <td>981</td>\n",
       "      <td>233.58;512.99;246.97;623.96;262.53;733.87;285....</td>\n",
       "      <td>7</td>\n",
       "      <td>-0.653310</td>\n",
       "      <td>0.653310</td>\n",
       "    </tr>\n",
       "    <tr>\n",
       "      <th>1</th>\n",
       "      <td>680/cfa0c679da3dbe9f01e92cdeda2da1065aa50e7bf0...</td>\n",
       "      <td>99</td>\n",
       "      <td>99</td>\n",
       "      <td>666</td>\n",
       "      <td>666</td>\n",
       "      <td>98.98;341.86;107.43;422.6;123.41;503.32;144.97...</td>\n",
       "      <td>0</td>\n",
       "      <td>-0.176846</td>\n",
       "      <td>-0.077640</td>\n",
       "    </tr>\n",
       "    <tr>\n",
       "      <th>2</th>\n",
       "      <td>1042/83dac9d7eec7fb0bfef79b4d35ddc69a6f7fb458d...</td>\n",
       "      <td>16</td>\n",
       "      <td>16</td>\n",
       "      <td>133</td>\n",
       "      <td>133</td>\n",
       "      <td>42.69;79.9;42.94;90.59;43.83;101.27;44.2;112.5...</td>\n",
       "      <td>0</td>\n",
       "      <td>-0.367789</td>\n",
       "      <td>0.183895</td>\n",
       "    </tr>\n",
       "    <tr>\n",
       "      <th>3</th>\n",
       "      <td>887/49e4872adc501d5e69b8898930bbd4f4e037022874...</td>\n",
       "      <td>78</td>\n",
       "      <td>78</td>\n",
       "      <td>522</td>\n",
       "      <td>522</td>\n",
       "      <td>49.66;304.48;48.91;361.36;52.08;421.7;64.76;48...</td>\n",
       "      <td>4</td>\n",
       "      <td>-0.062911</td>\n",
       "      <td>0.532327</td>\n",
       "    </tr>\n",
       "    <tr>\n",
       "      <th>4</th>\n",
       "      <td>1057/0745dd0386476ae193ca709034378c9207e48ae88...</td>\n",
       "      <td>36</td>\n",
       "      <td>36</td>\n",
       "      <td>258</td>\n",
       "      <td>258</td>\n",
       "      <td>21.82;115.14;18.22;152.92;20.65;190.43;26.14;2...</td>\n",
       "      <td>0</td>\n",
       "      <td>0.004839</td>\n",
       "      <td>-0.004839</td>\n",
       "    </tr>\n",
       "    <tr>\n",
       "      <th>...</th>\n",
       "      <td>...</td>\n",
       "      <td>...</td>\n",
       "      <td>...</td>\n",
       "      <td>...</td>\n",
       "      <td>...</td>\n",
       "      <td>...</td>\n",
       "      <td>...</td>\n",
       "      <td>...</td>\n",
       "      <td>...</td>\n",
       "    </tr>\n",
       "    <tr>\n",
       "      <th>5495</th>\n",
       "      <td>957/66f024fee5e8dd72e9807787166ea5923d99ee5b03...</td>\n",
       "      <td>21</td>\n",
       "      <td>21</td>\n",
       "      <td>145</td>\n",
       "      <td>145</td>\n",
       "      <td>40.35;85.68;43.62;101.91;49.89;117.36;56.73;13...</td>\n",
       "      <td>3</td>\n",
       "      <td>-0.275842</td>\n",
       "      <td>0.590399</td>\n",
       "    </tr>\n",
       "    <tr>\n",
       "      <th>5496</th>\n",
       "      <td>417/8a553f8e144d055ee52f37a36025c157e2959ec393...</td>\n",
       "      <td>116</td>\n",
       "      <td>116</td>\n",
       "      <td>776</td>\n",
       "      <td>776</td>\n",
       "      <td>158.38;377.09;166.39;472.26;180.6;567.84;199.9...</td>\n",
       "      <td>2</td>\n",
       "      <td>-0.667828</td>\n",
       "      <td>-0.246806</td>\n",
       "    </tr>\n",
       "    <tr>\n",
       "      <th>5497</th>\n",
       "      <td>875/7c5fba7d0edf2b0a981e4b8804e63a034a61267bb1...</td>\n",
       "      <td>26</td>\n",
       "      <td>26</td>\n",
       "      <td>460</td>\n",
       "      <td>460</td>\n",
       "      <td>91.05;236.47;86.12;286.48;88.71;338.39;97.17;3...</td>\n",
       "      <td>10</td>\n",
       "      <td>-2.000000</td>\n",
       "      <td>-2.000000</td>\n",
       "    </tr>\n",
       "    <tr>\n",
       "      <th>5498</th>\n",
       "      <td>873/acaf1253cea3bf9753710218c980fd9c98b21e6003...</td>\n",
       "      <td>47</td>\n",
       "      <td>47</td>\n",
       "      <td>314</td>\n",
       "      <td>314</td>\n",
       "      <td>74.96;188.88;81.33;227.6;94.57;264.14;108.56;3...</td>\n",
       "      <td>8</td>\n",
       "      <td>0.000000</td>\n",
       "      <td>0.253968</td>\n",
       "    </tr>\n",
       "    <tr>\n",
       "      <th>5499</th>\n",
       "      <td>1176/94f5564aed80a7806ffda40e781e4b5a5e72cfcad...</td>\n",
       "      <td>29</td>\n",
       "      <td>29</td>\n",
       "      <td>196</td>\n",
       "      <td>196</td>\n",
       "      <td>66.27;102.29;63.81;121.27;64.45;140.87;65.54;1...</td>\n",
       "      <td>10</td>\n",
       "      <td>-2.000000</td>\n",
       "      <td>-2.000000</td>\n",
       "    </tr>\n",
       "  </tbody>\n",
       "</table>\n",
       "<p>5500 rows × 9 columns</p>\n",
       "</div>"
      ],
      "text/plain": [
       "                                  subDirectory_filePath  face_x  face_y  \\\n",
       "0     459/81456263be241927c7a59a2646f88c2700ce4b7cba...     147     147   \n",
       "1     680/cfa0c679da3dbe9f01e92cdeda2da1065aa50e7bf0...      99      99   \n",
       "2     1042/83dac9d7eec7fb0bfef79b4d35ddc69a6f7fb458d...      16      16   \n",
       "3     887/49e4872adc501d5e69b8898930bbd4f4e037022874...      78      78   \n",
       "4     1057/0745dd0386476ae193ca709034378c9207e48ae88...      36      36   \n",
       "...                                                 ...     ...     ...   \n",
       "5495  957/66f024fee5e8dd72e9807787166ea5923d99ee5b03...      21      21   \n",
       "5496  417/8a553f8e144d055ee52f37a36025c157e2959ec393...     116     116   \n",
       "5497  875/7c5fba7d0edf2b0a981e4b8804e63a034a61267bb1...      26      26   \n",
       "5498  873/acaf1253cea3bf9753710218c980fd9c98b21e6003...      47      47   \n",
       "5499  1176/94f5564aed80a7806ffda40e781e4b5a5e72cfcad...      29      29   \n",
       "\n",
       "      face_width  face_height  \\\n",
       "0            981          981   \n",
       "1            666          666   \n",
       "2            133          133   \n",
       "3            522          522   \n",
       "4            258          258   \n",
       "...          ...          ...   \n",
       "5495         145          145   \n",
       "5496         776          776   \n",
       "5497         460          460   \n",
       "5498         314          314   \n",
       "5499         196          196   \n",
       "\n",
       "                                       facial_landmarks  expression   valence  \\\n",
       "0     233.58;512.99;246.97;623.96;262.53;733.87;285....           7 -0.653310   \n",
       "1     98.98;341.86;107.43;422.6;123.41;503.32;144.97...           0 -0.176846   \n",
       "2     42.69;79.9;42.94;90.59;43.83;101.27;44.2;112.5...           0 -0.367789   \n",
       "3     49.66;304.48;48.91;361.36;52.08;421.7;64.76;48...           4 -0.062911   \n",
       "4     21.82;115.14;18.22;152.92;20.65;190.43;26.14;2...           0  0.004839   \n",
       "...                                                 ...         ...       ...   \n",
       "5495  40.35;85.68;43.62;101.91;49.89;117.36;56.73;13...           3 -0.275842   \n",
       "5496  158.38;377.09;166.39;472.26;180.6;567.84;199.9...           2 -0.667828   \n",
       "5497  91.05;236.47;86.12;286.48;88.71;338.39;97.17;3...          10 -2.000000   \n",
       "5498  74.96;188.88;81.33;227.6;94.57;264.14;108.56;3...           8  0.000000   \n",
       "5499  66.27;102.29;63.81;121.27;64.45;140.87;65.54;1...          10 -2.000000   \n",
       "\n",
       "       arousal  \n",
       "0     0.653310  \n",
       "1    -0.077640  \n",
       "2     0.183895  \n",
       "3     0.532327  \n",
       "4    -0.004839  \n",
       "...        ...  \n",
       "5495  0.590399  \n",
       "5496 -0.246806  \n",
       "5497 -2.000000  \n",
       "5498  0.253968  \n",
       "5499 -2.000000  \n",
       "\n",
       "[5500 rows x 9 columns]"
      ]
     },
     "execution_count": 3,
     "metadata": {},
     "output_type": "execute_result"
    }
   ],
   "source": [
    "val_df = pd.read_csv('Affectnet/validation.csv')\n",
    "val_df"
   ]
  },
  {
   "cell_type": "code",
   "execution_count": 4,
   "metadata": {},
   "outputs": [],
   "source": [
    "train_df = train_df[~((train_df['expression'] == 10) | (train_df['expression'] == 9))].reset_index(drop=True)\n",
    "val_df = val_df[~((val_df['expression'] == 10) | (val_df['expression'] == 9))].reset_index(drop=True)"
   ]
  },
  {
   "cell_type": "code",
   "execution_count": 5,
   "metadata": {},
   "outputs": [
    {
     "name": "stdout",
     "output_type": "stream",
     "text": [
      "train: 320739\n",
      "val: 4500\n"
     ]
    }
   ],
   "source": [
    "print('train:', len(train_df))\n",
    "print('val:', len(val_df))"
   ]
  },
  {
   "cell_type": "code",
   "execution_count": 8,
   "metadata": {},
   "outputs": [
    {
     "data": {
      "text/plain": [
       "320739"
      ]
     },
     "execution_count": 8,
     "metadata": {},
     "output_type": "execute_result"
    }
   ],
   "source": [
    "len(np.array(train_df['arousal']))"
   ]
  },
  {
   "cell_type": "code",
   "execution_count": 37,
   "metadata": {},
   "outputs": [
    {
     "data": {
      "image/png": "[encoded data removed]",
      "text/plain": [
       "<Figure size 1500x1500 with 4 Axes>"
      ]
     },
     "metadata": {},
     "output_type": "display_data"
    }
   ],
   "source": [
    "import matplotlib.cm as cm\n",
    "import matplotlib.colors as cl\n",
    "\n",
    "fig = plt.figure(figsize=(15, 15))\n",
    "plt.subplots_adjust(wspace=0.4, hspace=0.6)\n",
    "for i, df in enumerate([train_df, val_df]):\n",
    "    x = np.array(df['valence'])\n",
    "    y = np.array(df['arousal'])\n",
    "    ax = fig.add_subplot(1, 2, i+1)\n",
    "    ax.set_aspect('equal', adjustable='box')\n",
    "    h = ax.hist2d(x,y, bins=70, cmap=cm.jet, norm=cl.LogNorm())\n",
    "    ax.set_title(['train', 'val'][i])\n",
    "    ax.set_xlabel('valence')\n",
    "    ax.set_ylabel('arousal')\n",
    "    fig.colorbar(h[3],ax=ax, shrink=0.335)\n",
    "plt.show()"
   ]
  },
  {
   "cell_type": "code",
   "execution_count": 38,
   "metadata": {},
   "outputs": [
    {
     "name": "stderr",
     "output_type": "stream",
     "text": [
      "Failed to detect the name of this notebook, you can set it manually with the WANDB_NOTEBOOK_NAME environment variable to enable code saving.\n",
      "\u001b[34m\u001b[1mwandb\u001b[0m: Currently logged in as: \u001b[33mrkn\u001b[0m. Use \u001b[1m`wandb login --relogin`\u001b[0m to force relogin\n"
     ]
    },
    {
     "data": {
      "text/html": [
       "Tracking run with wandb version 0.14.0"
      ],
      "text/plain": [
       "<IPython.core.display.HTML object>"
      ]
     },
     "metadata": {},
     "output_type": "display_data"
    },
    {
     "data": {
      "text/html": [
       "Run data is saved locally in <code>c:\\Users\\rkn\\MyProjects\\lab-work\\wandb\\run-20230402_171750-test</code>"
      ],
      "text/plain": [
       "<IPython.core.display.HTML object>"
      ]
     },
     "metadata": {},
     "output_type": "display_data"
    },
    {
     "data": {
      "text/html": [
       "Syncing run <strong><a href='https://wandb.ai/rkn/lab-work/runs/test' target=\"_blank\">test</a></strong> to <a href='https://wandb.ai/rkn/lab-work' target=\"_blank\">Weights & Biases</a> (<a href='https://wandb.me/run' target=\"_blank\">docs</a>)<br/>"
      ],
      "text/plain": [
       "<IPython.core.display.HTML object>"
      ]
     },
     "metadata": {},
     "output_type": "display_data"
    },
    {
     "data": {
      "text/html": [
       " View project at <a href='https://wandb.ai/rkn/lab-work' target=\"_blank\">https://wandb.ai/rkn/lab-work</a>"
      ],
      "text/plain": [
       "<IPython.core.display.HTML object>"
      ]
     },
     "metadata": {},
     "output_type": "display_data"
    },
    {
     "data": {
      "text/html": [
       " View run at <a href='https://wandb.ai/rkn/lab-work/runs/test' target=\"_blank\">https://wandb.ai/rkn/lab-work/runs/test</a>"
      ],
      "text/plain": [
       "<IPython.core.display.HTML object>"
      ]
     },
     "metadata": {},
     "output_type": "display_data"
    },
    {
     "data": {
      "text/html": [
       "<button onClick=\"this.nextSibling.style.display='block';this.style.display='none';\">Display W&B run</button><iframe src='https://wandb.ai/rkn/lab-work/runs/test?jupyter=true' style='border:none;width:100%;height:420px;display:none;'></iframe>"
      ],
      "text/plain": [
       "<wandb.sdk.wandb_run.Run at 0x1c79b5bff10>"
      ]
     },
     "execution_count": 38,
     "metadata": {},
     "output_type": "execute_result"
    }
   ],
   "source": [
    "import wandb\n",
    "wandb.init(id='test')\n"
   ]
  },
  {
   "cell_type": "code",
   "execution_count": 40,
   "metadata": {},
   "outputs": [],
   "source": [
    "wandb.log({'affectnet_histgram': wandb.Image(fig)})"
   ]
  },
  {
   "cell_type": "code",
   "execution_count": 41,
   "metadata": {},
   "outputs": [
    {
     "data": {
      "text/html": [
       "Waiting for W&B process to finish... <strong style=\"color:green\">(success).</strong>"
      ],
      "text/plain": [
       "<IPython.core.display.HTML object>"
      ]
     },
     "metadata": {},
     "output_type": "display_data"
    },
    {
     "data": {
      "text/html": [
       " View run <strong style=\"color:#cdcd00\">test</strong> at: <a href='https://wandb.ai/rkn/lab-work/runs/test' target=\"_blank\">https://wandb.ai/rkn/lab-work/runs/test</a><br/>Synced 4 W&B file(s), 1 media file(s), 0 artifact file(s) and 0 other file(s)"
      ],
      "text/plain": [
       "<IPython.core.display.HTML object>"
      ]
     },
     "metadata": {},
     "output_type": "display_data"
    },
    {
     "data": {
      "text/html": [
       "Find logs at: <code>.\\wandb\\run-20230402_171750-test\\logs</code>"
      ],
      "text/plain": [
       "<IPython.core.display.HTML object>"
      ]
     },
     "metadata": {},
     "output_type": "display_data"
    }
   ],
   "source": [
    "wandb.finish()"
   ]
  },
  {
   "cell_type": "code",
   "execution_count": 13,
   "metadata": {},
   "outputs": [],
   "source": [
    "import pandas as pd\n",
    "from scipy.stats import gaussian_kde\n",
    "\n",
    "train_df = pd.read_csv('Affectnet/training.csv')\n",
    "train_df = train_df[~((train_df['expression'] == 10) | (train_df['expression'] == 9))].reset_index(drop=True)\n",
    "train_valaro = train_df[['valence', 'arousal']].to_numpy().T\n",
    "kernel = gaussian_kde(train_valaro, bw_method=0.2)"
   ]
  },
  {
   "cell_type": "code",
   "execution_count": 10,
   "metadata": {},
   "outputs": [],
   "source": [
    "import numpy as np\n",
    "xx,yy = np.mgrid[-1:1:0.02,-1:1:0.02]\n",
    "positions = np.vstack([xx.ravel(),yy.ravel()])"
   ]
  },
  {
   "cell_type": "code",
   "execution_count": 11,
   "metadata": {},
   "outputs": [
    {
     "data": {
      "text/plain": [
       "(2, 10000)"
      ]
     },
     "execution_count": 11,
     "metadata": {},
     "output_type": "execute_result"
    }
   ],
   "source": [
    "positions.shape"
   ]
  },
  {
   "cell_type": "code",
   "execution_count": 40,
   "metadata": {},
   "outputs": [],
   "source": [
    "eps = 1e-5"
   ]
  },
  {
   "cell_type": "code",
   "execution_count": 42,
   "metadata": {},
   "outputs": [
    {
     "name": "stdout",
     "output_type": "stream",
     "text": [
      "tensor([[-7.4699e-02,  1.2989e-01],\n",
      "        [-7.8336e-01,  1.2745e+00],\n",
      "        [ 1.1355e+00, -4.3791e-01],\n",
      "        [ 2.1837e-01,  8.8941e-02],\n",
      "        [ 4.8131e-03,  8.4227e-01],\n",
      "        [ 1.1444e-01, -1.1964e+00],\n",
      "        [-4.3866e-01, -1.5105e-03],\n",
      "        [ 4.0498e-01,  1.2565e+00],\n",
      "        [-7.2727e-01,  1.2188e+00],\n",
      "        [ 1.0842e+00,  1.6684e-01],\n",
      "        [ 2.0199e-01, -7.4353e-01],\n",
      "        [ 3.2376e-01,  6.7323e-01],\n",
      "        [-1.0521e-01,  1.6623e+00],\n",
      "        [-3.6640e-01,  9.0236e-01],\n",
      "        [-8.0020e-01,  9.3546e-01],\n",
      "        [-1.0170e+00, -8.8915e-02],\n",
      "        [-6.7579e-01,  1.1553e-03],\n",
      "        [ 6.6083e-01,  1.9841e-02],\n",
      "        [ 1.4030e+00,  1.1125e+00],\n",
      "        [-1.9811e+00,  9.2083e-01],\n",
      "        [-1.6611e-01,  1.2772e-01],\n",
      "        [ 2.3495e-01,  1.1553e+00],\n",
      "        [ 9.3799e-02,  1.4466e+00],\n",
      "        [-1.4542e-01, -5.9063e-01],\n",
      "        [ 3.7627e-01, -1.7496e+00],\n",
      "        [-1.2984e+00, -5.1319e-02],\n",
      "        [-1.4078e+00,  2.6298e-02],\n",
      "        [-1.8941e-01,  7.1055e-01],\n",
      "        [-5.6006e-01,  5.0129e-01],\n",
      "        [ 2.6765e-01,  6.3889e-01],\n",
      "        [-1.8218e-02, -2.1030e-01],\n",
      "        [ 2.4884e+00, -1.0728e+00]])\n"
     ]
    },
    {
     "data": {
      "text/plain": [
       "tensor([1.7176e+00, 1.0000e+05, 2.2428e+03, 2.0423e+00, 4.1184e+00, 1.7110e+04,\n",
       "        7.8930e+00, 9.9624e+04, 9.9969e+04, 6.4645e+00, 2.7643e+01, 5.0053e+00,\n",
       "        1.0000e+05, 6.8063e+00, 1.6128e+03, 1.4370e+01, 2.2547e+01, 5.7048e-01,\n",
       "        1.0000e+05, 1.0000e+05, 2.8155e+00, 5.6440e+03, 1.0000e+05, 1.8085e+01,\n",
       "        1.0000e+05, 6.1316e+03, 9.0679e+04, 4.0301e+00, 4.8671e+00, 4.4072e+00,\n",
       "        5.2360e+00, 1.0000e+05])"
      ]
     },
     "execution_count": 42,
     "metadata": {},
     "output_type": "execute_result"
    }
   ],
   "source": [
    "import torch\n",
    "target = torch.randn(32, 2)\n",
    "print(target)\n",
    "torch.tensor(1 / (kernel(target.T) + eps)).T.float()"
   ]
  },
  {
   "cell_type": "code",
   "execution_count": 33,
   "metadata": {},
   "outputs": [],
   "source": [
    "pred = torch.randn(32, 2, requires_grad=True)\n",
    "target = torch.randn(32, 2)"
   ]
  },
  {
   "cell_type": "code",
   "execution_count": 37,
   "metadata": {},
   "outputs": [
    {
     "data": {
      "text/plain": [
       "tensor(5.2766, grad_fn=<MeanBackward0>)"
      ]
     },
     "execution_count": 37,
     "metadata": {},
     "output_type": "execute_result"
    }
   ],
   "source": [
    "import torch.nn as nn\n",
    "import torch\n",
    "\n",
    "loss = torch.mean(torch.dot(torch.tensor(kernel(target.T)).float(), ((pred - target) ** 2).sum(1)))\n",
    "loss"
   ]
  },
  {
   "cell_type": "code",
   "execution_count": null,
   "metadata": {},
   "outputs": [],
   "source": []
  },
  {
   "cell_type": "code",
   "execution_count": null,
   "metadata": {},
   "outputs": [],
   "source": []
  }
 ],
 "metadata": {
  "kernelspec": {
   "display_name": "lab-work-gFKfzxI5",
   "language": "python",
   "name": "python3"
  },
  "language_info": {
   "codemirror_mode": {
    "name": "ipython",
    "version": 3
   },
   "file_extension": ".py",
   "mimetype": "text/x-python",
   "name": "python",
   "nbconvert_exporter": "python",
   "pygments_lexer": "ipython3",
   "version": "3.10.10"
  },
  "orig_nbformat": 4
 },
 "nbformat": 4,
 "nbformat_minor": 2
}
