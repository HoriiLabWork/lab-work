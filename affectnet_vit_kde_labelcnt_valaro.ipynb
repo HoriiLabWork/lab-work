{
 "cells": [
  {
   "cell_type": "code",
   "execution_count": null,
   "metadata": {},
   "outputs": [],
   "source": [
    "import torch\n",
    "\n",
    "device = torch.device('cuda' if torch.cuda.is_available() else 'cpu')\n",
    "device"
   ]
  },
  {
   "cell_type": "code",
   "execution_count": null,
   "metadata": {},
   "outputs": [],
   "source": [
    "from transformers import ViTFeatureExtractor\n",
    "\n",
    "model_ckpt = 'google/vit-base-patch16-224-in21k'\n",
    "feature_extractor = ViTFeatureExtractor.from_pretrained(model_ckpt)"
   ]
  },
  {
   "cell_type": "code",
   "execution_count": null,
   "metadata": {},
   "outputs": [],
   "source": [
    "images_root = 'Affectnet/Manually_Annotated/Manually_Annotated_Images'"
   ]
  },
  {
   "cell_type": "code",
   "execution_count": null,
   "metadata": {},
   "outputs": [],
   "source": [
    "import pandas as pd\n",
    "from torch.utils.data import Dataset\n",
    "from PIL import Image\n",
    "import os\n",
    "\n",
    "\n",
    "def pil_loader(path):\n",
    "    with open(path, 'rb') as f:\n",
    "        img = Image.open(f)\n",
    "        return img.convert('RGB')\n",
    "\n",
    "class AffectNetDataset(Dataset):\n",
    "    def __init__(self,\n",
    "                 csvfile,\n",
    "                 root,\n",
    "                 mode='classification',\n",
    "                 crop=False,\n",
    "                 transform=None,\n",
    "                 invalid_files=None):\n",
    "        assert mode in ('valence', 'arousal', 'valence-arousal')\n",
    "        self.df = pd.read_csv(csvfile)\n",
    "        self.root = root\n",
    "        self.mode = mode\n",
    "        self.crop = crop\n",
    "        self.transform = transform\n",
    "        self.invalid_files = invalid_files\n",
    "        \n",
    "        if self.invalid_files:\n",
    "            self.df = self.df[~self.df['subDirectory_filePath'].isin(invalid_files)]\n",
    "            self.df = self.df\n",
    "        \n",
    "        self.df = self.df[~((self.df['expression'] == 9) | (self.df['expression'] == 10))].reset_index(drop=True)\n",
    "    \n",
    "    def __getitem__(self, idx):\n",
    "        try:\n",
    "            img = pil_loader(os.path.join(self.root, self.df['subDirectory_filePath'][idx]))\n",
    "        except KeyError:\n",
    "            raise IndexError\n",
    "        if self.crop:\n",
    "            img = img.crop((self.df['face_x'][idx],\n",
    "                            self.df['face_y'][idx],\n",
    "                            self.df['face_x'][idx]+self.df['face_width'][idx],\n",
    "                            self.df['face_y'][idx]+self.df['face_height'][idx],))\n",
    "        if self.transform:\n",
    "            img = self.transform(img)\n",
    "        if self.mode == 'classification':\n",
    "            target = torch.tensor(self.df['expression'][idx])\n",
    "        elif self.mode == 'valence':\n",
    "            target = torch.tensor([self.df['valence'][idx]])\n",
    "        elif self.mode == 'arousal':\n",
    "            target = torch.tensor([self.df['arousal'][idx]])\n",
    "        else:\n",
    "            target = torch.tensor([self.df['valence'][idx],\n",
    "                                   self.df['arousal'][idx]])\n",
    "        return img.float(), target.float()\n",
    "    \n",
    "    def __len__(self):\n",
    "        return len(self.df)"
   ]
  },
  {
   "cell_type": "code",
   "execution_count": null,
   "metadata": {},
   "outputs": [],
   "source": [
    "class AffectNetDatasetForSupCon(Dataset):\n",
    "    def __init__(self,\n",
    "                 csvfile,\n",
    "                 root,\n",
    "                 transform,\n",
    "                 crop=False,\n",
    "                 invalid_files=None):\n",
    "        self.df = pd.read_csv(csvfile)\n",
    "        self.root = root\n",
    "        self.crop = crop\n",
    "        self.transform = transform\n",
    "        self.invalid_files = invalid_files\n",
    "        \n",
    "        if self.invalid_files:\n",
    "            self.df = self.df[~self.df['subDirectory_filePath'].isin(invalid_files)]\n",
    "            self.df = self.df\n",
    "        \n",
    "        self.df = self.df[~((self.df['expression'] == 9) | (self.df['expression'] == 10))].reset_index(drop=True)\n",
    "    \n",
    "    def __getitem__(self, idx):\n",
    "        try:\n",
    "            img = pil_loader(os.path.join(self.root, self.df['subDirectory_filePath'][idx]))\n",
    "        except KeyError:\n",
    "            raise IndexError\n",
    "        if self.crop:\n",
    "            img = img.crop((self.df['face_x'][idx],\n",
    "                            self.df['face_y'][idx],\n",
    "                            self.df['face_x'][idx]+self.df['face_width'][idx],\n",
    "                            self.df['face_y'][idx]+self.df['face_height'][idx],))\n",
    "        img1 = self.transform(img)\n",
    "        img2 = self.transform(img)\n",
    "        target = torch.tensor(self.df['expression'][idx])\n",
    "        return (img1.float(), img2.float()), target\n",
    "    \n",
    "    def __len__(self):\n",
    "        return len(self.df)"
   ]
  },
  {
   "cell_type": "code",
   "execution_count": null,
   "metadata": {},
   "outputs": [],
   "source": [
    "def collate_fn(examples):\n",
    "    imgs, targets = zip(*examples)\n",
    "    pixel_values = torch.stack(imgs)\n",
    "    targets = torch.stack(targets)\n",
    "    return {'pixel_values': pixel_values, 'labels': targets}"
   ]
  },
  {
   "cell_type": "code",
   "execution_count": null,
   "metadata": {},
   "outputs": [],
   "source": [
    "def contrastive_collate_fn(examples):\n",
    "    imgs, targets = zip(*examples)\n",
    "    imgs1, imgs2 = zip(*imgs)\n",
    "    imgs1 = torch.stack(imgs1)\n",
    "    imgs2 = torch.stack(imgs2)\n",
    "    pixel_values = torch.cat([imgs1, imgs2])\n",
    "    targets = torch.stack(targets)\n",
    "    return {'pixel_values': pixel_values, 'labels': targets}"
   ]
  },
  {
   "cell_type": "code",
   "execution_count": null,
   "metadata": {},
   "outputs": [],
   "source": [
    "train_invalid_files = ['103/29a31ebf1567693f4644c8ba3476ca9a72ee07fe67a5860d98707a0a.jpg']\n",
    "val_invalid_files = []"
   ]
  },
  {
   "cell_type": "code",
   "execution_count": null,
   "metadata": {},
   "outputs": [],
   "source": [
    "mode = 'valence-arousal'\n",
    "seed = 0"
   ]
  },
  {
   "cell_type": "code",
   "execution_count": null,
   "metadata": {},
   "outputs": [],
   "source": [
    "from torchvision.transforms import (Compose,\n",
    "                                    Normalize,\n",
    "                                    Resize,\n",
    "                                    RandomResizedCrop,\n",
    "                                    RandomHorizontalFlip,\n",
    "                                    RandomApply,\n",
    "                                    ColorJitter,\n",
    "                                    RandomGrayscale,\n",
    "                                    ToTensor)\n",
    "\n",
    "normalize = Normalize(mean=feature_extractor.image_mean, std=feature_extractor.image_std)\n",
    "\n",
    "supcon_transform = Compose([\n",
    "    RandomResizedCrop(size=tuple(feature_extractor.size.values()), scale=(0.2, 1.)),\n",
    "    RandomHorizontalFlip(),\n",
    "    RandomApply([\n",
    "        ColorJitter(0.4, 0.4, 0.4, 0.1)\n",
    "    ], p=0.8),\n",
    "    RandomGrayscale(p=0.2),\n",
    "    ToTensor(),\n",
    "    normalize\n",
    "])\n",
    "transform = Compose([Resize(tuple(feature_extractor.size.values())),\n",
    "                     ToTensor(),\n",
    "                     normalize])\n",
    "\n",
    "contrastive_dataset = AffectNetDatasetForSupCon('Affectnet/training.csv',\n",
    "                                                images_root,\n",
    "                                                crop=False,\n",
    "                                                transform=supcon_transform,\n",
    "                                                invalid_files=train_invalid_files)\n",
    "\n",
    "train_dataset = AffectNetDataset('Affectnet/training.csv',\n",
    "                                 images_root,\n",
    "                                 mode,\n",
    "                                 crop=False,\n",
    "                                 transform=transform,\n",
    "                                 invalid_files=train_invalid_files)\n",
    "\n",
    "val_dataset = AffectNetDataset('Affectnet/validation.csv',\n",
    "                               images_root,\n",
    "                               mode,\n",
    "                               crop=False,\n",
    "                               transform=transform,\n",
    "                               invalid_files=val_invalid_files)\n",
    "\n",
    "print('contrastive:', len(contrastive_dataset))\n",
    "print('train:', len(train_dataset))\n",
    "print('validation:', len(val_dataset))\n"
   ]
  },
  {
   "cell_type": "code",
   "execution_count": null,
   "metadata": {},
   "outputs": [],
   "source": [
    "from torch.utils.data import DataLoader\n",
    "\n",
    "train_dataloader = DataLoader(contrastive_dataset, collate_fn=contrastive_collate_fn, batch_size=4)\n",
    "\n",
    "batch = next(iter(train_dataloader))\n",
    "for k,v in batch.items():\n",
    "  if isinstance(v, torch.Tensor):\n",
    "    print(k, v.shape)"
   ]
  },
  {
   "attachments": {},
   "cell_type": "markdown",
   "metadata": {},
   "source": [
    "contrastive learning(https://arxiv.org/abs/2004.11362)による準事前学習"
   ]
  },
  {
   "cell_type": "code",
   "execution_count": null,
   "metadata": {},
   "outputs": [],
   "source": [
    "from transformers import Trainer\n",
    "\n",
    "from SupContrast.losses import SupConLoss\n",
    "\n",
    "class SupConTrainer(Trainer):\n",
    "    def __init__(self,\n",
    "                 model = None,\n",
    "                 args = None,\n",
    "                 data_collator = None,\n",
    "                 train_dataset = None,\n",
    "                 eval_dataset = None,\n",
    "                 tokenizer = None,\n",
    "                 model_init = None,\n",
    "                 compute_metrics = None,\n",
    "                 callbacks = None,\n",
    "                 optimizers = (None, None),\n",
    "                 preprocess_logits_for_metrics = None):\n",
    "        super().__init__(model, args, data_collator, train_dataset, eval_dataset, tokenizer, model_init, compute_metrics, callbacks, optimizers, preprocess_logits_for_metrics)\n",
    "        self.loss_fct = SupConLoss()\n",
    "    \n",
    "    def compute_loss(self, model, inputs, return_outputs=False):\n",
    "        labels = inputs.get('labels')\n",
    "        bsz = labels.shape[0]\n",
    "        features = model(**inputs, output_hidden_states=True)\n",
    "        f1, f2 = torch.split(features, [bsz, bsz])\n",
    "        features = torch.cat([f1.unsqueeze(1), f2.unsqueeze(1)], dim=1)\n",
    "        loss = self.loss_fct(features, labels)\n",
    "        return (loss, features) if return_outputs else loss"
   ]
  },
  {
   "cell_type": "code",
   "execution_count": null,
   "metadata": {},
   "outputs": [],
   "source": [
    "from transformers import ViTForImageClassification\n",
    "\n",
    "model = ViTForImageClassification.from_pretrained('google/vit-base-patch16-224-in21k',\n",
    "                                                  num_labels=128,\n",
    "                                                  problem_type='regression')\n"
   ]
  },
  {
   "cell_type": "code",
   "execution_count": null,
   "metadata": {},
   "outputs": [],
   "source": [
    "from transformers import TrainingArguments\n",
    "import wandb\n",
    "\n",
    "wandb.init(project='AffectNet-vit', name='contrastive-pretrain-valaro')\n",
    "\n",
    "contrastive_args = TrainingArguments(\n",
    "    f\"affectnet-contrastive\",\n",
    "    save_strategy='steps',\n",
    "    save_steps=500,\n",
    "    learning_rate=1e-6,\n",
    "    per_device_train_batch_size=32,\n",
    "    per_device_eval_batch_size=16,\n",
    "    num_train_epochs=200,\n",
    "    weight_decay=1e-3,\n",
    "    load_best_model_at_end=True,\n",
    "    logging_dir='logs',\n",
    "    remove_unused_columns=False,\n",
    "    report_to='wandb'\n",
    ")"
   ]
  },
  {
   "cell_type": "code",
   "execution_count": null,
   "metadata": {},
   "outputs": [],
   "source": [
    "from transformers import EarlyStoppingCallback\n",
    "\n",
    "contrastive_trainer = SupConTrainer(\n",
    "    model,\n",
    "    contrastive_args,\n",
    "    train_dataset=train_dataset,\n",
    "    eval_dataset=val_dataset,\n",
    "    data_collator=collate_fn,\n",
    "    tokenizer=feature_extractor,\n",
    "    # callbacks=[EarlyStoppingCallback(early_stopping_patience=5, early_stopping_threshold=0.005)]\n",
    ")"
   ]
  },
  {
   "cell_type": "code",
   "execution_count": null,
   "metadata": {},
   "outputs": [],
   "source": [
    "contrastive_trainer.train()"
   ]
  },
  {
   "cell_type": "code",
   "execution_count": null,
   "metadata": {},
   "outputs": [],
   "source": [
    "contrastive_trainer.save_model()\n",
    "contrastive_trainer.save_state()\n",
    "wandb.finish()"
   ]
  },
  {
   "attachments": {},
   "cell_type": "markdown",
   "metadata": {},
   "source": [
    "カーネル密度推定によるMSEに重みづけ"
   ]
  },
  {
   "cell_type": "code",
   "execution_count": null,
   "metadata": {},
   "outputs": [],
   "source": [
    "import torch.nn.functional as F\n",
    "import torch.nn as nn\n",
    "from torch.nn.modules.loss import _Loss\n",
    "from scipy.stats import gaussian_kde\n",
    "\n",
    "class KDEWeightLoss(_Loss):\n",
    "    def __init__(self, dataset, mode, bw_method=None, eps=1e-6, device=None):\n",
    "        super(KDEWeightLoss, self).__init__()\n",
    "        assert mode in ('valence', 'arousal', 'valence-arousal')\n",
    "        self.mode = mode\n",
    "        self.bw_method = bw_method\n",
    "        self.eps = eps\n",
    "        self.device = device\n",
    "        self.kernel = self._calc_kernel(dataset.df)\n",
    "    \n",
    "    def forward(self, pred, target):\n",
    "        loss = torch.mean(torch.dot(torch.tensor(1 / (self.kernel(target.cpu().T) + self.eps)).float().to(self.device),\n",
    "                                    ((pred - target) ** 2).sum(1)))\n",
    "        return loss\n",
    "    \n",
    "    def _calc_kernel(self, df):\n",
    "        if self.mode == 'arousal':\n",
    "            data = df[self.mode].to_numpy().T\n",
    "        elif self.mode == 'valence':\n",
    "            data = df[self.mode].to_numpy().T\n",
    "        else:\n",
    "            data = df[['valence', 'arousal']].to_numpy().T\n",
    "        return gaussian_kde(data, bw_method=self.bw_method)"
   ]
  },
  {
   "cell_type": "code",
   "execution_count": null,
   "metadata": {},
   "outputs": [],
   "source": [
    "import wandb\n",
    "\n",
    "class KDEWeightLossTrainer(Trainer):\n",
    "    def __init__(self,\n",
    "                 model = None,\n",
    "                 args = None,\n",
    "                 data_collator = None,\n",
    "                 train_dataset = None,\n",
    "                 eval_dataset = None,\n",
    "                 tokenizer = None,\n",
    "                 model_init = None,\n",
    "                 compute_metrics = None,\n",
    "                 callbacks = None,\n",
    "                 optimizers = (None, None),\n",
    "                 preprocess_logits_for_metrics = None):\n",
    "        super().__init__(model, args, data_collator, train_dataset, eval_dataset, tokenizer, model_init, compute_metrics, callbacks, optimizers, preprocess_logits_for_metrics)\n",
    "        self.loss_fct = KDEWeightLoss(dataset=train_dataset,\n",
    "                                                    mode=mode,\n",
    "                                                    bw_method=0.2,\n",
    "                                                    temperature=1.,\n",
    "                                                    device=self.args.device).to(self.args.device)\n",
    "        self.mse = nn.MSELoss()\n",
    "    \n",
    "    def compute_loss(self, model, inputs, return_outputs=False):\n",
    "        labels = inputs.get('labels')\n",
    "        outputs = model(**inputs, output_hidden_states=True)\n",
    "        logits = outputs.get('logits')\n",
    "        loss = self.loss_fct(logits, labels)\n",
    "        mse = self.mse(logits, labels)\n",
    "        rmse = torch.sqrt(mse)\n",
    "        wandb.log({'train/mse': mse, 'train/rmse': rmse})\n",
    "        return (loss, outputs) if return_outputs else loss"
   ]
  },
  {
   "cell_type": "code",
   "execution_count": null,
   "metadata": {},
   "outputs": [],
   "source": [
    "from transformers import TrainingArguments\n",
    "import wandb\n",
    "\n",
    "wandb.init(project='AffectNet-vit', name='KDE-contrastive-valaro')\n",
    "\n",
    "args = TrainingArguments(\n",
    "    f\"affectnet-kdecnt-aroval\",\n",
    "    evaluation_strategy=\"steps\",\n",
    "    eval_steps=1000,\n",
    "    save_strategy='steps',\n",
    "    save_steps=1000,\n",
    "    learning_rate=1e-6,\n",
    "    per_device_train_batch_size=32,\n",
    "    per_device_eval_batch_size=16,\n",
    "    num_train_epochs=30,\n",
    "    weight_decay=1e-3,\n",
    "    load_best_model_at_end=True,\n",
    "    logging_dir='logs',\n",
    "    remove_unused_columns=False,\n",
    "    report_to='wandb'\n",
    ")"
   ]
  },
  {
   "cell_type": "code",
   "execution_count": null,
   "metadata": {},
   "outputs": [],
   "source": [
    "from sklearn.metrics import mean_squared_error\n",
    "import numpy as np\n",
    "\n",
    "def compute_metrics(eval_pred):\n",
    "    preds, targets = eval_pred\n",
    "    mse = mean_squared_error(targets, preds, squared=True) / 2\n",
    "    rmse = np.sqrt(mse)\n",
    "    return {'mse': mse, 'rmse': rmse}"
   ]
  },
  {
   "cell_type": "code",
   "execution_count": null,
   "metadata": {},
   "outputs": [],
   "source": [
    "from transformers import EarlyStoppingCallback\n",
    "\n",
    "trainer = KDEWeightLossTrainer(\n",
    "    model,\n",
    "    args,\n",
    "    train_dataset=train_dataset,\n",
    "    eval_dataset=val_dataset,\n",
    "    data_collator=collate_fn,\n",
    "    compute_metrics=compute_metrics,\n",
    "    tokenizer=feature_extractor,\n",
    "    callbacks=[EarlyStoppingCallback(early_stopping_patience=3, early_stopping_threshold=0.005)]\n",
    ")"
   ]
  },
  {
   "cell_type": "code",
   "execution_count": null,
   "metadata": {},
   "outputs": [],
   "source": [
    "trainer.train()"
   ]
  },
  {
   "cell_type": "code",
   "execution_count": null,
   "metadata": {},
   "outputs": [],
   "source": []
  }
 ],
 "metadata": {
  "kernelspec": {
   "display_name": "lab-work-gFKfzxI5",
   "language": "python",
   "name": "python3"
  },
  "language_info": {
   "codemirror_mode": {
    "name": "ipython",
    "version": 3
   },
   "file_extension": ".py",
   "mimetype": "text/x-python",
   "name": "python",
   "nbconvert_exporter": "python",
   "pygments_lexer": "ipython3",
   "version": "3.10.10"
  },
  "orig_nbformat": 4
 },
 "nbformat": 4,
 "nbformat_minor": 2
}
