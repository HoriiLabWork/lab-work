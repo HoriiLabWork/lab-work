{
  "cells": [
    {
      "cell_type": "markdown",
      "metadata": {
        "colab_type": "text",
        "id": "view-in-github"
      },
      "source": [
        "<a href=\"https://colab.research.google.com/github/nRknpy/lab-work/blob/main/asl_vit_finetuning.ipynb\" target=\"_parent\"><img src=\"https://colab.research.google.com/assets/colab-badge.svg\" alt=\"Open In Colab\"/></a>"
      ]
    },
    {
      "cell_type": "markdown",
      "metadata": {
        "id": "_EWVZFmDS4Rp"
      },
      "source": [
        "# ViTを用いた手話の認識\n",
        "事前学習されたVisionTransformerのモデルを，手話のデータセットを用いてファインチューニングする．"
      ]
    },
    {
      "cell_type": "markdown",
      "metadata": {
        "id": "U1tVj0Z55cgm"
      },
      "source": [
        "# モジュールをインポート"
      ]
    },
    {
      "cell_type": "code",
      "execution_count": null,
      "metadata": {
        "colab": {
          "base_uri": "https://localhost:8080/",
          "height": 1000
        },
        "id": "GTePif1h5T0x",
        "outputId": "0aecc5bd-4c08-4660-d341-8c84d48a53e6",
        "vscode": {
          "languageId": "shellscript"
        }
      },
      "outputs": [
        {
          "name": "stdout",
          "output_type": "stream",
          "text": [
            "Looking in indexes: https://pypi.org/simple, https://us-python.pkg.dev/colab-wheels/public/simple/\n",
            "Requirement already satisfied: transformers in /usr/local/lib/python3.8/dist-packages (4.25.1)\n",
            "Collecting datasets\n",
            "  Downloading datasets-2.8.0-py3-none-any.whl (452 kB)\n",
            "\u001b[2K     \u001b[90m━━━━━━━━━━━━━━━━━━━━━━━━━━━━━━━━━━━━━━\u001b[0m \u001b[32m452.9/452.9 KB\u001b[0m \u001b[31m25.9 MB/s\u001b[0m eta \u001b[36m0:00:00\u001b[0m\n",
            "\u001b[?25hRequirement already satisfied: filelock in /usr/local/lib/python3.8/dist-packages (from transformers) (3.9.0)\n",
            "Requirement already satisfied: tqdm>=4.27 in /usr/local/lib/python3.8/dist-packages (from transformers) (4.64.1)\n",
            "Requirement already satisfied: requests in /usr/local/lib/python3.8/dist-packages (from transformers) (2.25.1)\n",
            "Requirement already satisfied: packaging>=20.0 in /usr/local/lib/python3.8/dist-packages (from transformers) (21.3)\n",
            "Requirement already satisfied: pyyaml>=5.1 in /usr/local/lib/python3.8/dist-packages (from transformers) (6.0)\n",
            "Requirement already satisfied: huggingface-hub<1.0,>=0.10.0 in /usr/local/lib/python3.8/dist-packages (from transformers) (0.11.1)\n",
            "Requirement already satisfied: tokenizers!=0.11.3,<0.14,>=0.11.1 in /usr/local/lib/python3.8/dist-packages (from transformers) (0.13.2)\n",
            "Requirement already satisfied: numpy>=1.17 in /usr/local/lib/python3.8/dist-packages (from transformers) (1.21.6)\n",
            "Requirement already satisfied: regex!=2019.12.17 in /usr/local/lib/python3.8/dist-packages (from transformers) (2022.6.2)\n",
            "Collecting responses<0.19\n",
            "  Downloading responses-0.18.0-py3-none-any.whl (38 kB)\n",
            "Requirement already satisfied: pandas in /usr/local/lib/python3.8/dist-packages (from datasets) (1.3.5)\n",
            "Requirement already satisfied: aiohttp in /usr/local/lib/python3.8/dist-packages (from datasets) (3.8.3)\n",
            "Collecting xxhash\n",
            "  Downloading xxhash-3.2.0-cp38-cp38-manylinux_2_17_x86_64.manylinux2014_x86_64.whl (213 kB)\n",
            "\u001b[2K     \u001b[90m━━━━━━━━━━━━━━━━━━━━━━━━━━━━━━━━━━━━━━\u001b[0m \u001b[32m213.0/213.0 KB\u001b[0m \u001b[31m24.3 MB/s\u001b[0m eta \u001b[36m0:00:00\u001b[0m\n",
            "\u001b[?25hRequirement already satisfied: pyarrow>=6.0.0 in /usr/local/lib/python3.8/dist-packages (from datasets) (9.0.0)\n",
            "Collecting multiprocess\n",
            "  Downloading multiprocess-0.70.14-py38-none-any.whl (132 kB)\n",
            "\u001b[2K     \u001b[90m━━━━━━━━━━━━━━━━━━━━━━━━━━━━━━━━━━━━━━\u001b[0m \u001b[32m132.0/132.0 KB\u001b[0m \u001b[31m15.9 MB/s\u001b[0m eta \u001b[36m0:00:00\u001b[0m\n",
            "\u001b[?25hRequirement already satisfied: fsspec[http]>=2021.11.1 in /usr/local/lib/python3.8/dist-packages (from datasets) (2022.11.0)\n",
            "Requirement already satisfied: dill<0.3.7 in /usr/local/lib/python3.8/dist-packages (from datasets) (0.3.6)\n",
            "Requirement already satisfied: yarl<2.0,>=1.0 in /usr/local/lib/python3.8/dist-packages (from aiohttp->datasets) (1.8.2)\n",
            "Requirement already satisfied: async-timeout<5.0,>=4.0.0a3 in /usr/local/lib/python3.8/dist-packages (from aiohttp->datasets) (4.0.2)\n",
            "Requirement already satisfied: multidict<7.0,>=4.5 in /usr/local/lib/python3.8/dist-packages (from aiohttp->datasets) (6.0.4)\n",
            "Requirement already satisfied: attrs>=17.3.0 in /usr/local/lib/python3.8/dist-packages (from aiohttp->datasets) (22.2.0)\n",
            "Requirement already satisfied: frozenlist>=1.1.1 in /usr/local/lib/python3.8/dist-packages (from aiohttp->datasets) (1.3.3)\n",
            "Requirement already satisfied: charset-normalizer<3.0,>=2.0 in /usr/local/lib/python3.8/dist-packages (from aiohttp->datasets) (2.1.1)\n",
            "Requirement already satisfied: aiosignal>=1.1.2 in /usr/local/lib/python3.8/dist-packages (from aiohttp->datasets) (1.3.1)\n",
            "Requirement already satisfied: typing-extensions>=3.7.4.3 in /usr/local/lib/python3.8/dist-packages (from huggingface-hub<1.0,>=0.10.0->transformers) (4.4.0)\n",
            "Requirement already satisfied: pyparsing!=3.0.5,>=2.0.2 in /usr/local/lib/python3.8/dist-packages (from packaging>=20.0->transformers) (3.0.9)\n",
            "Requirement already satisfied: urllib3<1.27,>=1.21.1 in /usr/local/lib/python3.8/dist-packages (from requests->transformers) (1.24.3)\n",
            "Requirement already satisfied: idna<3,>=2.5 in /usr/local/lib/python3.8/dist-packages (from requests->transformers) (2.10)\n",
            "Requirement already satisfied: certifi>=2017.4.17 in /usr/local/lib/python3.8/dist-packages (from requests->transformers) (2022.12.7)\n",
            "Requirement already satisfied: chardet<5,>=3.0.2 in /usr/local/lib/python3.8/dist-packages (from requests->transformers) (4.0.0)\n",
            "Collecting urllib3<1.27,>=1.21.1\n",
            "  Downloading urllib3-1.26.13-py2.py3-none-any.whl (140 kB)\n",
            "\u001b[2K     \u001b[90m━━━━━━━━━━━━━━━━━━━━━━━━━━━━━━━━━━━━━━\u001b[0m \u001b[32m140.6/140.6 KB\u001b[0m \u001b[31m18.3 MB/s\u001b[0m eta \u001b[36m0:00:00\u001b[0m\n",
            "\u001b[?25hRequirement already satisfied: python-dateutil>=2.7.3 in /usr/local/lib/python3.8/dist-packages (from pandas->datasets) (2.8.2)\n",
            "Requirement already satisfied: pytz>=2017.3 in /usr/local/lib/python3.8/dist-packages (from pandas->datasets) (2022.7)\n",
            "Requirement already satisfied: six>=1.5 in /usr/local/lib/python3.8/dist-packages (from python-dateutil>=2.7.3->pandas->datasets) (1.15.0)\n",
            "Installing collected packages: xxhash, urllib3, multiprocess, responses, datasets\n",
            "  Attempting uninstall: urllib3\n",
            "    Found existing installation: urllib3 1.24.3\n",
            "    Uninstalling urllib3-1.24.3:\n",
            "      Successfully uninstalled urllib3-1.24.3\n",
            "Successfully installed datasets-2.8.0 multiprocess-0.70.14 responses-0.18.0 urllib3-1.26.13 xxhash-3.2.0\n"
          ]
        },
        {
          "data": {
            "application/vnd.colab-display-data+json": {
              "pip_warning": {
                "packages": [
                  "urllib3"
                ]
              }
            }
          },
          "metadata": {},
          "output_type": "display_data"
        }
      ],
      "source": [
        "!pip install transformers datasets"
      ]
    },
    {
      "cell_type": "markdown",
      "metadata": {
        "id": "aW5SCym1S4Rr"
      },
      "source": [
        "## データセットの準備\n",
        "### ダウンロード\n",
        "データセットは，ASL Fingerspelling Images（ https://empslocal.ex.ac.uk/people/staff/np331/index.php?section=FingerSpellingDataset ） を用いる．\n",
        "次のコマンドでダウンロード，解凍を行う．"
      ]
    },
    {
      "cell_type": "code",
      "execution_count": null,
      "metadata": {
        "id": "5Fee1CgDS4Rs",
        "vscode": {
          "languageId": "shellscript"
        }
      },
      "outputs": [],
      "source": [
        "!wget http://www.cvssp.org/FingerSpellingKinect2011/fingerspelling5.tar.bz2\n",
        "!tar -jxvf fingerspelling5.tar.bz2"
      ]
    },
    {
      "cell_type": "markdown",
      "metadata": {
        "id": "qW9LLu5TS4Rt"
      },
      "source": [
        "### Dataset，collate_fnを作成\n",
        "データセットの中にはRGB画像と深度画像が含まれているが，ここでは前者のみ使う．\n",
        "\n",
        "pytorchのImageFolderを用いてDatasetを作成するために次のようなディレクトリを作成する．\n",
        "\n",
        "    asl\n",
        "    ├── a\n",
        "        ├── Acolor_0_0002.png\n",
        "        ├── Acolor_0_0003.png\n",
        "        ├── Acolor_0_0004.png\n",
        "        ︙\n",
        "    ├── b\n",
        "    ├── c\n",
        "    ├── d\n",
        "    ├── e\n",
        "    ︙\n",
        "\n",
        "次の関数を用いてDataset用のディレクトリを作成する．"
      ]
    },
    {
      "cell_type": "code",
      "execution_count": 1,
      "metadata": {
        "colab": {
          "base_uri": "https://localhost:8080/"
        },
        "id": "OhMsg4UuS4Rt",
        "outputId": "ce92dd52-27f7-47be-8eab-a1c6410eb732"
      },
      "outputs": [
        {
          "name": "stdout",
          "output_type": "stream",
          "text": [
            "image count: 65774\n"
          ]
        }
      ],
      "source": [
        "import os\n",
        "import shutil\n",
        "\n",
        "def prepare_asl_dataset(source, destination=\"asl\"):\n",
        "    cnt = 0\n",
        "    for person in os.listdir(source):\n",
        "        for label in os.listdir(source+'/'+person):\n",
        "            for image in os.listdir(source+'/'+person+'/'+label):\n",
        "                if image[0]=='c':\n",
        "                    image_path = source+'/'+person+'/'+label+'/'+image\n",
        "                    os.makedirs(destination+'/'+label, exist_ok=True)\n",
        "                    shutil.copyfile(image_path, destination+'/'+label+'/'+person+image)\n",
        "                    cnt += 1\n",
        "    print(\"image count:\", cnt)\n",
        "\n",
        "source_dir = 'asl'\n",
        "prepare_asl_dataset(\"dataset5\", source_dir)"
      ]
    },
    {
      "cell_type": "markdown",
      "metadata": {
        "id": "LFT24uMQ4nKr"
      },
      "source": [
        "\n",
        "モデルの事前学習で行われた画像の前処理の情報をもとに，オリジナルのデータに前処理を施す．前処理のクラスはhuggingfaceからロードできる．"
      ]
    },
    {
      "cell_type": "code",
      "execution_count": 4,
      "metadata": {
        "id": "k8lslAVg7pFq"
      },
      "outputs": [
        {
          "name": "stderr",
          "output_type": "stream",
          "text": [
            "/home/rkn/.local/share/virtualenvs/lab-work-gFKfzxI5/lib/python3.10/site-packages/transformers/models/vit/feature_extraction_vit.py:28: FutureWarning: The class ViTFeatureExtractor is deprecated and will be removed in version 5 of Transformers. Please use ViTImageProcessor instead.\n",
            "  warnings.warn(\n"
          ]
        }
      ],
      "source": [
        "from transformers import ViTFeatureExtractor\n",
        "\n",
        "feature_extractor = ViTFeatureExtractor.from_pretrained('google/vit-base-patch16-224-in21k')"
      ]
    },
    {
      "cell_type": "markdown",
      "metadata": {
        "id": "zEHGeesr9EXz"
      },
      "source": [
        "上で作成したディレクトリから，Datasetを作成する．"
      ]
    },
    {
      "cell_type": "code",
      "execution_count": 1,
      "metadata": {
        "colab": {
          "base_uri": "https://localhost:8080/"
        },
        "id": "UIP6Z0U6VpAz",
        "outputId": "e403a6c2-254d-4037-f787-0f9253092882"
      },
      "outputs": [
        {
          "name": "stderr",
          "output_type": "stream",
          "text": [
            "/home/rkn/.local/share/virtualenvs/lab-work-gFKfzxI5/lib/python3.10/site-packages/tqdm/auto.py:22: TqdmWarning: IProgress not found. Please update jupyter and ipywidgets. See https://ipywidgets.readthedocs.io/en/stable/user_install.html\n",
            "  from .autonotebook import tqdm as notebook_tqdm\n"
          ]
        },
        {
          "data": {
            "text/plain": [
              "{'a': 0,\n",
              " 'b': 1,\n",
              " 'c': 2,\n",
              " 'd': 3,\n",
              " 'e': 4,\n",
              " 'f': 5,\n",
              " 'g': 6,\n",
              " 'h': 7,\n",
              " 'i': 8,\n",
              " 'k': 9,\n",
              " 'l': 10,\n",
              " 'm': 11,\n",
              " 'n': 12,\n",
              " 'o': 13,\n",
              " 'p': 14,\n",
              " 'q': 15,\n",
              " 'r': 16,\n",
              " 's': 17,\n",
              " 't': 18,\n",
              " 'u': 19,\n",
              " 'v': 20,\n",
              " 'w': 21,\n",
              " 'x': 22,\n",
              " 'y': 23}"
            ]
          },
          "execution_count": 1,
          "metadata": {},
          "output_type": "execute_result"
        }
      ],
      "source": [
        "import torch\n",
        "import torchvision\n",
        "from torchvision.datasets import ImageFolder\n",
        "from torchvision import transforms\n",
        "\n",
        "all_dataset = ImageFolder(root='asl')\n",
        "\n",
        "label2id = all_dataset.class_to_idx\n",
        "id2label = {label:id for id,label in label2id.items()}\n",
        "label2id"
      ]
    },
    {
      "cell_type": "markdown",
      "metadata": {
        "id": "iJac0lBESjk0"
      },
      "source": [
        "### 前処理を定義\n",
        "データに対して次のような前処理を施す．torchvisionのtransformを用いて行う．\n",
        "\n",
        "1.   224x224にリサイズ\n",
        "2.   事前学習データの平均及び分散を用いて画像を正規化\n",
        "\n",
        "訓練用データセットには，加えてランダムな左右反転を施す（左右両方の手を学習させるため）．"
      ]
    },
    {
      "cell_type": "code",
      "execution_count": 5,
      "metadata": {
        "id": "QdZip8WItjav"
      },
      "outputs": [],
      "source": [
        "from torchvision.transforms import (CenterCrop, \n",
        "                                    Compose, \n",
        "                                    Normalize, \n",
        "                                    RandomHorizontalFlip,\n",
        "                                    RandomResizedCrop, \n",
        "                                    Resize, \n",
        "                                    ToTensor)\n",
        "\n",
        "normalize = Normalize(mean=feature_extractor.image_mean, std=feature_extractor.image_std)\n",
        "_train_transforms = Compose(\n",
        "        [\n",
        "            RandomResizedCrop(tuple(feature_extractor.size.values())),\n",
        "            RandomHorizontalFlip(),\n",
        "            ToTensor(),\n",
        "            normalize,\n",
        "        ]\n",
        "    )\n",
        "\n",
        "_val_transforms = Compose(\n",
        "        [\n",
        "            Resize(tuple(feature_extractor.size.values())),\n",
        "            CenterCrop(tuple(feature_extractor.size.values())),\n",
        "            ToTensor(),\n",
        "            normalize,\n",
        "        ]\n",
        "    )"
      ]
    },
    {
      "cell_type": "code",
      "execution_count": 6,
      "metadata": {
        "id": "4jJteJbrn7Cx"
      },
      "outputs": [],
      "source": [
        "from torch.utils.data import Dataset\n",
        "\n",
        "# random_splitを用いてデータセットをtrain,val,testに分割すると別々のtransformを割り当てられないため，\n",
        "# 自作のSubsetを定義してtransformを後から割り当てる．\n",
        "class SetTransform(Dataset):\n",
        "  def __init__(self, dataset, transform=None):\n",
        "    self.dataset = dataset\n",
        "    self.transform = transform\n",
        "  \n",
        "  def __getitem__(self, idx):\n",
        "    img, label = self.dataset[idx]\n",
        "    if self.transform:\n",
        "      img = self.transform(img)\n",
        "    return img, label\n",
        "  \n",
        "  def __len__(self):\n",
        "    return len(self.dataset)"
      ]
    },
    {
      "cell_type": "markdown",
      "metadata": {
        "id": "6_t07FuyZPob"
      },
      "source": [
        "データセットをtrain,validation,test用に分割し，各々にtransformを割り当てる．\n",
        "\n",
        "ここでは，val,test用のデータをそれぞれ1000個ずつとし，残りを訓練に使う．"
      ]
    },
    {
      "cell_type": "code",
      "execution_count": 7,
      "metadata": {
        "colab": {
          "base_uri": "https://localhost:8080/"
        },
        "id": "sM7fD0HJviYw",
        "outputId": "2aa871f4-45c3-4b3b-87e9-5638248f7a94"
      },
      "outputs": [
        {
          "name": "stdout",
          "output_type": "stream",
          "text": [
            "train: 63774\n",
            "validation: 1000\n",
            "test: 1000\n"
          ]
        }
      ],
      "source": [
        "val_size = 1000\n",
        "test_size = 1000\n",
        "train_size = len(all_dataset) - val_size - test_size\n",
        "\n",
        "test_dataset, trainval_dataset = torch.utils.data.random_split(all_dataset, [test_size, train_size + val_size])\n",
        "train_dataset, val_dataset = torch.utils.data.random_split(trainval_dataset, [train_size, val_size])\n",
        "\n",
        "train_dataset = SetTransform(train_dataset, _train_transforms)\n",
        "val_dataset = SetTransform(val_dataset, _val_transforms)\n",
        "test_dataset = SetTransform(test_dataset, _val_transforms)\n",
        "\n",
        "print('train:', len(train_dataset))\n",
        "print('validation:', len(val_dataset))\n",
        "print('test:', len(test_dataset))"
      ]
    },
    {
      "cell_type": "markdown",
      "metadata": {
        "id": "3xHKW3bqZmKA"
      },
      "source": [
        "バッチを`pixel_values`と`labels`をキーに持つ辞書にする，collate_fnを作成する．これは，Trainer内でモデルに入力する際にアンパックするためである．"
      ]
    },
    {
      "cell_type": "code",
      "execution_count": 8,
      "metadata": {
        "id": "D4oEzkVCuGCD"
      },
      "outputs": [],
      "source": [
        "def collate_fn(examples):\n",
        "    imgs, labels = zip(*examples)\n",
        "    pixel_values = torch.stack(imgs)\n",
        "    labels = torch.tensor(labels)\n",
        "    return {\"pixel_values\": pixel_values, \"labels\": labels}"
      ]
    },
    {
      "cell_type": "markdown",
      "metadata": {
        "id": "jo-BAviKcRol"
      },
      "source": [
        "挙動確認．バッチが辞書型になって返される．"
      ]
    },
    {
      "cell_type": "code",
      "execution_count": 9,
      "metadata": {
        "colab": {
          "base_uri": "https://localhost:8080/"
        },
        "id": "8rI7mylpipcy",
        "outputId": "410b63ec-14dd-48fa-d349-77e2d52c8c07"
      },
      "outputs": [
        {
          "name": "stdout",
          "output_type": "stream",
          "text": [
            "pixel_values torch.Size([4, 3, 224, 224])\n",
            "labels torch.Size([4])\n"
          ]
        }
      ],
      "source": [
        "from torch.utils.data import DataLoader\n",
        "\n",
        "train_dataloader = DataLoader(train_dataset, collate_fn=collate_fn, batch_size=4)\n",
        "\n",
        "batch = next(iter(train_dataloader))\n",
        "for k,v in batch.items():\n",
        "  if isinstance(v, torch.Tensor):\n",
        "    print(k, v.shape)"
      ]
    },
    {
      "cell_type": "markdown",
      "metadata": {
        "id": "3vNftu3lxamW"
      },
      "source": [
        "## モデルの定義\n",
        "huggingfaceから，事前学習されたViTのモデルをロードする．"
      ]
    },
    {
      "cell_type": "code",
      "execution_count": 14,
      "metadata": {
        "colab": {
          "base_uri": "https://localhost:8080/"
        },
        "id": "_nJ66X8YjpZR",
        "outputId": "00ae912c-995a-4ba7-8839-dee72310480f"
      },
      "outputs": [
        {
          "name": "stderr",
          "output_type": "stream",
          "text": [
            "Some weights of the model checkpoint at google/vit-base-patch16-224-in21k were not used when initializing ViTForImageClassification: ['pooler.dense.weight', 'pooler.dense.bias']\n",
            "- This IS expected if you are initializing ViTForImageClassification from the checkpoint of a model trained on another task or with another architecture (e.g. initializing a BertForSequenceClassification model from a BertForPreTraining model).\n",
            "- This IS NOT expected if you are initializing ViTForImageClassification from the checkpoint of a model that you expect to be exactly identical (initializing a BertForSequenceClassification model from a BertForSequenceClassification model).\n",
            "Some weights of ViTForImageClassification were not initialized from the model checkpoint at google/vit-base-patch16-224-in21k and are newly initialized: ['classifier.weight', 'classifier.bias']\n",
            "You should probably TRAIN this model on a down-stream task to be able to use it for predictions and inference.\n"
          ]
        }
      ],
      "source": [
        "from transformers import ViTForImageClassification\n",
        "\n",
        "model = ViTForImageClassification.from_pretrained('google/vit-base-patch16-224-in21k',\n",
        "                                                  num_labels=len(label2id),\n",
        "                                                  label2id=label2id,\n",
        "                                                  id2label=id2label)"
      ]
    },
    {
      "cell_type": "markdown",
      "metadata": {
        "id": "MX_DqRIfdAD8"
      },
      "source": [
        "TrainingArgumentsを設定する．詳細は以下の通り．\n",
        "\n",
        "* モデルのチェックポイント，パラメータを`asl-vit`ディレクトリに保存\n",
        "* 1エポックごとにチェックポイントを保存\n",
        "* 1エポックごとに評価\n",
        "* 学習率=$2.0×10^{-5}$\n",
        "* 訓練データのバッチサイズ=10\n",
        "* valデータのバッチサイズ=4\n",
        "* 3エポック分訓練を回す\n",
        "* 重み減衰=0.01\n",
        "* 学習中に得られたベストなモデルを学習後にロードする\n"
      ]
    },
    {
      "cell_type": "code",
      "execution_count": 11,
      "metadata": {
        "colab": {
          "base_uri": "https://localhost:8080/"
        },
        "id": "6HjE4icgyLsf",
        "outputId": "db54559a-7106-46d7-c893-0bec2af8ebfa"
      },
      "outputs": [],
      "source": [
        "from transformers import TrainingArguments, Trainer\n",
        "\n",
        "metric_name = \"accuracy\"\n",
        "\n",
        "args = TrainingArguments(\n",
        "    f\"asl-vit\",\n",
        "    save_strategy=\"epoch\",\n",
        "    evaluation_strategy=\"epoch\",\n",
        "    learning_rate=2e-5,\n",
        "    per_device_train_batch_size=10,\n",
        "    per_device_eval_batch_size=4,\n",
        "    num_train_epochs=3,\n",
        "    weight_decay=0.01,\n",
        "    load_best_model_at_end=True,\n",
        "    metric_for_best_model=metric_name,\n",
        "    logging_dir='logs',\n",
        "    remove_unused_columns=False,\n",
        ")"
      ]
    },
    {
      "cell_type": "markdown",
      "metadata": {
        "id": "LoYBvvQefZeM"
      },
      "source": [
        "評価基準（ここでは正解率）を定義"
      ]
    },
    {
      "cell_type": "code",
      "execution_count": 13,
      "metadata": {
        "id": "tzJrY80ry0PZ"
      },
      "outputs": [
        {
          "name": "stderr",
          "output_type": "stream",
          "text": [
            "/tmp/ipykernel_263934/1052707893.py:4: FutureWarning: load_metric is deprecated and will be removed in the next major version of datasets. Use 'evaluate.load' instead, from the new library 🤗 Evaluate: https://huggingface.co/docs/evaluate\n",
            "  metric = load_metric(\"accuracy\")\n"
          ]
        }
      ],
      "source": [
        "from datasets import load_metric\n",
        "import numpy as np\n",
        "\n",
        "metric = load_metric(\"accuracy\")\n",
        "\n",
        "def compute_metrics(eval_pred):\n",
        "    predictions, labels = eval_pred\n",
        "    predictions = np.argmax(predictions, axis=1)\n",
        "    return metric.compute(predictions=predictions, references=labels)"
      ]
    },
    {
      "cell_type": "markdown",
      "metadata": {
        "id": "ng7vR98Jfin4"
      },
      "source": [
        "Trainerを定義．"
      ]
    },
    {
      "cell_type": "code",
      "execution_count": 13,
      "metadata": {
        "id": "M5MyUA1h0RrM"
      },
      "outputs": [],
      "source": [
        "trainer = Trainer(\n",
        "    model,\n",
        "    args,\n",
        "    train_dataset=train_dataset,\n",
        "    eval_dataset=val_dataset,\n",
        "    data_collator=collate_fn,\n",
        "    compute_metrics=compute_metrics,\n",
        "    tokenizer=feature_extractor,\n",
        ")"
      ]
    },
    {
      "cell_type": "markdown",
      "metadata": {
        "id": "kJhqYyzXfpfS"
      },
      "source": [
        "## 訓練"
      ]
    },
    {
      "cell_type": "code",
      "execution_count": 14,
      "metadata": {
        "colab": {
          "base_uri": "https://localhost:8080/",
          "height": 866
        },
        "id": "5n7dMgl80eGO",
        "outputId": "2f4ce50b-144f-419d-a1c8-1858f2cf1a78"
      },
      "outputs": [
        {
          "name": "stderr",
          "output_type": "stream",
          "text": [
            "/home/rkn/.local/share/virtualenvs/lab-work-gFKfzxI5/lib/python3.10/site-packages/transformers/optimization.py:306: FutureWarning: This implementation of AdamW is deprecated and will be removed in a future version. Use the PyTorch implementation torch.optim.AdamW instead, or set `no_deprecation_warning=True` to disable this warning\n",
            "  warnings.warn(\n",
            "***** Running training *****\n",
            "  Num examples = 63774\n",
            "  Num Epochs = 3\n",
            "  Instantaneous batch size per device = 10\n",
            "  Total train batch size (w. parallel, distributed & accumulation) = 10\n",
            "  Gradient Accumulation steps = 1\n",
            "  Total optimization steps = 19134\n",
            "  Number of trainable parameters = 85817112\n",
            "  3%|▎         | 500/19134 [02:53<1:43:50,  2.99it/s]"
          ]
        },
        {
          "name": "stdout",
          "output_type": "stream",
          "text": [
            "{'loss': 2.6987, 'learning_rate': 1.947737012647643e-05, 'epoch': 0.08}\n"
          ]
        },
        {
          "name": "stderr",
          "output_type": "stream",
          "text": [
            "  5%|▌         | 1000/19134 [05:39<2:50:12,  1.78it/s]"
          ]
        },
        {
          "name": "stdout",
          "output_type": "stream",
          "text": [
            "{'loss': 1.8825, 'learning_rate': 1.895474025295286e-05, 'epoch': 0.16}\n"
          ]
        },
        {
          "name": "stderr",
          "output_type": "stream",
          "text": [
            "  8%|▊         | 1500/19134 [08:27<1:38:48,  2.97it/s]"
          ]
        },
        {
          "name": "stdout",
          "output_type": "stream",
          "text": [
            "{'loss': 1.3638, 'learning_rate': 1.843211037942929e-05, 'epoch': 0.24}\n"
          ]
        },
        {
          "name": "stderr",
          "output_type": "stream",
          "text": [
            " 10%|█         | 2000/19134 [11:25<1:31:01,  3.14it/s]"
          ]
        },
        {
          "name": "stdout",
          "output_type": "stream",
          "text": [
            "{'loss': 1.0346, 'learning_rate': 1.790948050590572e-05, 'epoch': 0.31}\n"
          ]
        },
        {
          "name": "stderr",
          "output_type": "stream",
          "text": [
            " 13%|█▎        | 2500/19134 [14:26<1:28:16,  3.14it/s]"
          ]
        },
        {
          "name": "stdout",
          "output_type": "stream",
          "text": [
            "{'loss': 0.8563, 'learning_rate': 1.7386850632382148e-05, 'epoch': 0.39}\n"
          ]
        },
        {
          "name": "stderr",
          "output_type": "stream",
          "text": [
            " 16%|█▌        | 3000/19134 [17:45<2:06:08,  2.13it/s]"
          ]
        },
        {
          "name": "stdout",
          "output_type": "stream",
          "text": [
            "{'loss': 0.6886, 'learning_rate': 1.6864220758858578e-05, 'epoch': 0.47}\n"
          ]
        },
        {
          "name": "stderr",
          "output_type": "stream",
          "text": [
            " 18%|█▊        | 3500/19134 [21:02<1:22:06,  3.17it/s]"
          ]
        },
        {
          "name": "stdout",
          "output_type": "stream",
          "text": [
            "{'loss': 0.6067, 'learning_rate': 1.6341590885335007e-05, 'epoch': 0.55}\n"
          ]
        },
        {
          "name": "stderr",
          "output_type": "stream",
          "text": [
            " 21%|██        | 4000/19134 [24:34<1:18:43,  3.20it/s]"
          ]
        },
        {
          "name": "stdout",
          "output_type": "stream",
          "text": [
            "{'loss': 0.5285, 'learning_rate': 1.5818961011811436e-05, 'epoch': 0.63}\n"
          ]
        },
        {
          "name": "stderr",
          "output_type": "stream",
          "text": [
            " 24%|██▎       | 4500/19134 [27:49<1:32:23,  2.64it/s]"
          ]
        },
        {
          "name": "stdout",
          "output_type": "stream",
          "text": [
            "{'loss': 0.4598, 'learning_rate': 1.5296331138287865e-05, 'epoch': 0.71}\n"
          ]
        },
        {
          "name": "stderr",
          "output_type": "stream",
          "text": [
            " 26%|██▌       | 5000/19134 [31:09<1:08:55,  3.42it/s]"
          ]
        },
        {
          "name": "stdout",
          "output_type": "stream",
          "text": [
            "{'loss': 0.4529, 'learning_rate': 1.4773701264764295e-05, 'epoch': 0.78}\n"
          ]
        },
        {
          "name": "stderr",
          "output_type": "stream",
          "text": [
            " 29%|██▊       | 5500/19134 [34:30<1:13:27,  3.09it/s]"
          ]
        },
        {
          "name": "stdout",
          "output_type": "stream",
          "text": [
            "{'loss': 0.4121, 'learning_rate': 1.4251071391240726e-05, 'epoch': 0.86}\n"
          ]
        },
        {
          "name": "stderr",
          "output_type": "stream",
          "text": [
            " 31%|███▏      | 6000/19134 [37:47<3:05:29,  1.18it/s]"
          ]
        },
        {
          "name": "stdout",
          "output_type": "stream",
          "text": [
            "{'loss': 0.369, 'learning_rate': 1.3728441517717155e-05, 'epoch': 0.94}\n"
          ]
        },
        {
          "name": "stderr",
          "output_type": "stream",
          "text": [
            " 33%|███▎      | 6378/19134 [40:13<56:52,  3.74it/s]  ***** Running Evaluation *****\n",
            "  Num examples = 1000\n",
            "  Batch size = 4\n",
            "                                                    \n",
            " 33%|███▎      | 6378/19134 [40:43<56:52,  3.74it/s]Saving model checkpoint to asl-vit/checkpoint-6378\n",
            "Configuration saved in asl-vit/checkpoint-6378/config.json\n"
          ]
        },
        {
          "name": "stdout",
          "output_type": "stream",
          "text": [
            "{'eval_loss': 0.08873815834522247, 'eval_accuracy': 0.983, 'eval_runtime': 29.6106, 'eval_samples_per_second': 33.772, 'eval_steps_per_second': 8.443, 'epoch': 1.0}\n"
          ]
        },
        {
          "name": "stderr",
          "output_type": "stream",
          "text": [
            "Model weights saved in asl-vit/checkpoint-6378/pytorch_model.bin\n",
            "Image processor saved in asl-vit/checkpoint-6378/preprocessor_config.json\n",
            " 34%|███▍      | 6501/19134 [41:07<30:38,  6.87it/s]   "
          ]
        },
        {
          "name": "stdout",
          "output_type": "stream",
          "text": [
            "{'loss': 0.3753, 'learning_rate': 1.3205811644193583e-05, 'epoch': 1.02}\n"
          ]
        },
        {
          "name": "stderr",
          "output_type": "stream",
          "text": [
            " 37%|███▋      | 7001/19134 [42:19<26:51,  7.53it/s]  "
          ]
        },
        {
          "name": "stdout",
          "output_type": "stream",
          "text": [
            "{'loss': 0.3345, 'learning_rate': 1.2683181770670012e-05, 'epoch': 1.1}\n"
          ]
        },
        {
          "name": "stderr",
          "output_type": "stream",
          "text": [
            " 39%|███▉      | 7501/19134 [43:29<27:50,  6.96it/s]"
          ]
        },
        {
          "name": "stdout",
          "output_type": "stream",
          "text": [
            "{'loss': 0.3235, 'learning_rate': 1.2160551897146441e-05, 'epoch': 1.18}\n"
          ]
        },
        {
          "name": "stderr",
          "output_type": "stream",
          "text": [
            " 42%|████▏     | 8001/19134 [44:40<26:08,  7.10it/s]  "
          ]
        },
        {
          "name": "stdout",
          "output_type": "stream",
          "text": [
            "{'loss': 0.3206, 'learning_rate': 1.1637922023622872e-05, 'epoch': 1.25}\n"
          ]
        },
        {
          "name": "stderr",
          "output_type": "stream",
          "text": [
            " 44%|████▍     | 8501/19134 [45:50<27:07,  6.53it/s]  "
          ]
        },
        {
          "name": "stdout",
          "output_type": "stream",
          "text": [
            "{'loss': 0.2981, 'learning_rate': 1.1115292150099302e-05, 'epoch': 1.33}\n"
          ]
        },
        {
          "name": "stderr",
          "output_type": "stream",
          "text": [
            " 47%|████▋     | 9001/19134 [47:01<22:17,  7.57it/s]  "
          ]
        },
        {
          "name": "stdout",
          "output_type": "stream",
          "text": [
            "{'loss': 0.3083, 'learning_rate': 1.059266227657573e-05, 'epoch': 1.41}\n"
          ]
        },
        {
          "name": "stderr",
          "output_type": "stream",
          "text": [
            " 50%|████▉     | 9501/19134 [48:14<25:54,  6.20it/s]  "
          ]
        },
        {
          "name": "stdout",
          "output_type": "stream",
          "text": [
            "{'loss': 0.2813, 'learning_rate': 1.0070032403052159e-05, 'epoch': 1.49}\n"
          ]
        },
        {
          "name": "stderr",
          "output_type": "stream",
          "text": [
            " 52%|█████▏    | 10001/19134 [49:24<21:03,  7.23it/s]"
          ]
        },
        {
          "name": "stdout",
          "output_type": "stream",
          "text": [
            "{'loss': 0.2979, 'learning_rate': 9.547402529528588e-06, 'epoch': 1.57}\n"
          ]
        },
        {
          "name": "stderr",
          "output_type": "stream",
          "text": [
            " 55%|█████▍    | 10501/19134 [50:34<21:06,  6.82it/s]"
          ]
        },
        {
          "name": "stdout",
          "output_type": "stream",
          "text": [
            "{'loss': 0.2769, 'learning_rate': 9.024772656005017e-06, 'epoch': 1.65}\n"
          ]
        },
        {
          "name": "stderr",
          "output_type": "stream",
          "text": [
            " 57%|█████▋    | 11001/19134 [51:43<19:02,  7.12it/s]"
          ]
        },
        {
          "name": "stdout",
          "output_type": "stream",
          "text": [
            "{'loss': 0.2504, 'learning_rate': 8.502142782481447e-06, 'epoch': 1.72}\n"
          ]
        },
        {
          "name": "stderr",
          "output_type": "stream",
          "text": [
            " 60%|██████    | 11501/19134 [52:53<17:16,  7.36it/s]"
          ]
        },
        {
          "name": "stdout",
          "output_type": "stream",
          "text": [
            "{'loss': 0.2612, 'learning_rate': 7.979512908957878e-06, 'epoch': 1.8}\n"
          ]
        },
        {
          "name": "stderr",
          "output_type": "stream",
          "text": [
            " 63%|██████▎   | 12001/19134 [54:03<15:26,  7.70it/s]"
          ]
        },
        {
          "name": "stdout",
          "output_type": "stream",
          "text": [
            "{'loss': 0.2658, 'learning_rate': 7.456883035434306e-06, 'epoch': 1.88}\n"
          ]
        },
        {
          "name": "stderr",
          "output_type": "stream",
          "text": [
            " 65%|██████▌   | 12501/19134 [55:13<14:36,  7.57it/s]"
          ]
        },
        {
          "name": "stdout",
          "output_type": "stream",
          "text": [
            "{'loss': 0.2619, 'learning_rate': 6.934253161910735e-06, 'epoch': 1.96}\n"
          ]
        },
        {
          "name": "stderr",
          "output_type": "stream",
          "text": [
            " 67%|██████▋   | 12755/19134 [55:50<13:55,  7.63it/s]***** Running Evaluation *****\n",
            "  Num examples = 1000\n",
            "  Batch size = 4\n",
            "                                                     \n",
            " 67%|██████▋   | 12756/19134 [55:54<13:55,  7.63it/s]Saving model checkpoint to asl-vit/checkpoint-12756\n",
            "Configuration saved in asl-vit/checkpoint-12756/config.json\n"
          ]
        },
        {
          "name": "stdout",
          "output_type": "stream",
          "text": [
            "{'eval_loss': 0.03231218829751015, 'eval_accuracy': 0.992, 'eval_runtime': 4.5329, 'eval_samples_per_second': 220.609, 'eval_steps_per_second': 55.152, 'epoch': 2.0}\n"
          ]
        },
        {
          "name": "stderr",
          "output_type": "stream",
          "text": [
            "Model weights saved in asl-vit/checkpoint-12756/pytorch_model.bin\n",
            "Image processor saved in asl-vit/checkpoint-12756/preprocessor_config.json\n",
            " 68%|██████▊   | 13001/19134 [56:24<12:17,  8.31it/s]  "
          ]
        },
        {
          "name": "stdout",
          "output_type": "stream",
          "text": [
            "{'loss': 0.242, 'learning_rate': 6.411623288387165e-06, 'epoch': 2.04}\n"
          ]
        },
        {
          "name": "stderr",
          "output_type": "stream",
          "text": [
            " 71%|███████   | 13501/19134 [57:24<11:19,  8.29it/s]"
          ]
        },
        {
          "name": "stdout",
          "output_type": "stream",
          "text": [
            "{'loss': 0.2285, 'learning_rate': 5.888993414863594e-06, 'epoch': 2.12}\n"
          ]
        },
        {
          "name": "stderr",
          "output_type": "stream",
          "text": [
            " 73%|███████▎  | 14001/19134 [58:25<10:18,  8.30it/s]"
          ]
        },
        {
          "name": "stdout",
          "output_type": "stream",
          "text": [
            "{'loss': 0.239, 'learning_rate': 5.366363541340024e-06, 'epoch': 2.2}\n"
          ]
        },
        {
          "name": "stderr",
          "output_type": "stream",
          "text": [
            " 76%|███████▌  | 14501/19134 [59:26<09:20,  8.26it/s]"
          ]
        },
        {
          "name": "stdout",
          "output_type": "stream",
          "text": [
            "{'loss': 0.2369, 'learning_rate': 4.843733667816453e-06, 'epoch': 2.27}\n"
          ]
        },
        {
          "name": "stderr",
          "output_type": "stream",
          "text": [
            " 78%|███████▊  | 15001/19134 [1:00:28<08:24,  8.19it/s]"
          ]
        },
        {
          "name": "stdout",
          "output_type": "stream",
          "text": [
            "{'loss': 0.2288, 'learning_rate': 4.321103794292882e-06, 'epoch': 2.35}\n"
          ]
        },
        {
          "name": "stderr",
          "output_type": "stream",
          "text": [
            " 81%|████████  | 15501/19134 [1:01:31<13:13,  4.58it/s]"
          ]
        },
        {
          "name": "stdout",
          "output_type": "stream",
          "text": [
            "{'loss': 0.1968, 'learning_rate': 3.7984739207693117e-06, 'epoch': 2.43}\n"
          ]
        },
        {
          "name": "stderr",
          "output_type": "stream",
          "text": [
            " 84%|████████▎ | 16001/19134 [1:02:35<07:26,  7.02it/s]"
          ]
        },
        {
          "name": "stdout",
          "output_type": "stream",
          "text": [
            "{'loss': 0.2254, 'learning_rate': 3.275844047245741e-06, 'epoch': 2.51}\n"
          ]
        },
        {
          "name": "stderr",
          "output_type": "stream",
          "text": [
            " 86%|████████▌ | 16501/19134 [1:03:43<05:22,  8.18it/s]"
          ]
        },
        {
          "name": "stdout",
          "output_type": "stream",
          "text": [
            "{'loss': 0.2276, 'learning_rate': 2.7532141737221704e-06, 'epoch': 2.59}\n"
          ]
        },
        {
          "name": "stderr",
          "output_type": "stream",
          "text": [
            " 89%|████████▉ | 17001/19134 [1:04:53<05:27,  6.52it/s]"
          ]
        },
        {
          "name": "stdout",
          "output_type": "stream",
          "text": [
            "{'loss': 0.2077, 'learning_rate': 2.2305843001985997e-06, 'epoch': 2.67}\n"
          ]
        },
        {
          "name": "stderr",
          "output_type": "stream",
          "text": [
            " 91%|█████████▏| 17501/19134 [1:06:03<03:34,  7.61it/s]"
          ]
        },
        {
          "name": "stdout",
          "output_type": "stream",
          "text": [
            "{'loss': 0.1985, 'learning_rate': 1.707954426675029e-06, 'epoch': 2.74}\n"
          ]
        },
        {
          "name": "stderr",
          "output_type": "stream",
          "text": [
            " 94%|█████████▍| 18001/19134 [1:07:14<02:27,  7.69it/s]"
          ]
        },
        {
          "name": "stdout",
          "output_type": "stream",
          "text": [
            "{'loss': 0.201, 'learning_rate': 1.185324553151458e-06, 'epoch': 2.82}\n"
          ]
        },
        {
          "name": "stderr",
          "output_type": "stream",
          "text": [
            " 97%|█████████▋| 18501/19134 [1:08:22<01:22,  7.65it/s]"
          ]
        },
        {
          "name": "stdout",
          "output_type": "stream",
          "text": [
            "{'loss': 0.1831, 'learning_rate': 6.626946796278875e-07, 'epoch': 2.9}\n"
          ]
        },
        {
          "name": "stderr",
          "output_type": "stream",
          "text": [
            " 99%|█████████▉| 19001/19134 [1:09:26<00:16,  7.83it/s]"
          ]
        },
        {
          "name": "stdout",
          "output_type": "stream",
          "text": [
            "{'loss': 0.1969, 'learning_rate': 1.4006480610431694e-07, 'epoch': 2.98}\n"
          ]
        },
        {
          "name": "stderr",
          "output_type": "stream",
          "text": [
            "100%|█████████▉| 19133/19134 [1:09:44<00:00,  8.15it/s]***** Running Evaluation *****\n",
            "  Num examples = 1000\n",
            "  Batch size = 4\n",
            "                                                       \n",
            "100%|██████████| 19134/19134 [1:09:49<00:00,  8.15it/s]Saving model checkpoint to asl-vit/checkpoint-19134\n",
            "Configuration saved in asl-vit/checkpoint-19134/config.json\n"
          ]
        },
        {
          "name": "stdout",
          "output_type": "stream",
          "text": [
            "{'eval_loss': 0.013479172252118587, 'eval_accuracy': 0.998, 'eval_runtime': 4.5862, 'eval_samples_per_second': 218.047, 'eval_steps_per_second': 54.512, 'epoch': 3.0}\n"
          ]
        },
        {
          "name": "stderr",
          "output_type": "stream",
          "text": [
            "Model weights saved in asl-vit/checkpoint-19134/pytorch_model.bin\n",
            "Image processor saved in asl-vit/checkpoint-19134/preprocessor_config.json\n",
            "\n",
            "\n",
            "Training completed. Do not forget to share your model on huggingface.co/models =)\n",
            "\n",
            "\n",
            "Loading best model from asl-vit/checkpoint-19134 (score: 0.998).\n",
            "100%|██████████| 19134/19134 [1:09:50<00:00,  4.57it/s]"
          ]
        },
        {
          "name": "stdout",
          "output_type": "stream",
          "text": [
            "{'train_runtime': 4190.5228, 'train_samples_per_second': 45.656, 'train_steps_per_second': 4.566, 'train_loss': 0.47205575087906065, 'epoch': 3.0}\n"
          ]
        },
        {
          "name": "stderr",
          "output_type": "stream",
          "text": [
            "\n"
          ]
        },
        {
          "data": {
            "text/plain": [
              "TrainOutput(global_step=19134, training_loss=0.47205575087906065, metrics={'train_runtime': 4190.5228, 'train_samples_per_second': 45.656, 'train_steps_per_second': 4.566, 'train_loss': 0.47205575087906065, 'epoch': 3.0})"
            ]
          },
          "execution_count": 14,
          "metadata": {},
          "output_type": "execute_result"
        }
      ],
      "source": [
        "trainer.train()"
      ]
    },
    {
      "cell_type": "code",
      "execution_count": 45,
      "metadata": {},
      "outputs": [
        {
          "name": "stderr",
          "output_type": "stream",
          "text": [
            "Saving model checkpoint to asl-vit\n",
            "Configuration saved in asl-vit/config.json\n",
            "Model weights saved in asl-vit/pytorch_model.bin\n",
            "Image processor saved in asl-vit/preprocessor_config.json\n"
          ]
        }
      ],
      "source": [
        "trainer.save_state()\n",
        "trainer.save_model()"
      ]
    },
    {
      "cell_type": "markdown",
      "metadata": {
        "id": "QUJSflZqf1zW"
      },
      "source": [
        "## 評価\n",
        "ファインチューニングしたモデルの性能を評価する．\n",
        "\n",
        "テストデータをモデルに入力し，推定ラベルを得る．"
      ]
    },
    {
      "cell_type": "code",
      "execution_count": 15,
      "metadata": {
        "colab": {
          "base_uri": "https://localhost:8080/",
          "height": 69
        },
        "id": "rSGpvbNG008o",
        "outputId": "0daec1c6-0725-4578-f447-fe86fe4f4b39"
      },
      "outputs": [
        {
          "name": "stderr",
          "output_type": "stream",
          "text": [
            "***** Running Prediction *****\n",
            "  Num examples = 1000\n",
            "  Batch size = 4\n",
            "100%|██████████| 250/250 [00:25<00:00,  9.63it/s]\n"
          ]
        }
      ],
      "source": [
        "outputs = trainer.predict(test_dataset)"
      ]
    },
    {
      "cell_type": "markdown",
      "metadata": {
        "id": "9LS5ViWngGYI"
      },
      "source": [
        "テストデータに対する損失，正解率等を計算．"
      ]
    },
    {
      "cell_type": "code",
      "execution_count": 16,
      "metadata": {
        "colab": {
          "base_uri": "https://localhost:8080/"
        },
        "id": "lTMlXKqVTFUt",
        "outputId": "515c2659-8a63-49ef-9c3a-7c65fa69b9bd"
      },
      "outputs": [
        {
          "name": "stdout",
          "output_type": "stream",
          "text": [
            "{'test_loss': 0.016631782054901123, 'test_accuracy': 0.998, 'test_runtime': 26.3446, 'test_samples_per_second': 37.958, 'test_steps_per_second': 9.49}\n"
          ]
        }
      ],
      "source": [
        "print(outputs.metrics)"
      ]
    },
    {
      "cell_type": "markdown",
      "metadata": {
        "id": "b65dVRfOgOAL"
      },
      "source": [
        "混同行列を作成．"
      ]
    },
    {
      "cell_type": "code",
      "execution_count": 17,
      "metadata": {
        "colab": {
          "base_uri": "https://localhost:8080/",
          "height": 706
        },
        "id": "d3sojO21TJtl",
        "outputId": "c6b8bcaf-c8d6-4789-c05b-97a92efdaa2a"
      },
      "outputs": [
        {
          "data": {
            "text/plain": [
              "<sklearn.metrics._plot.confusion_matrix.ConfusionMatrixDisplay at 0x7f8743370df0>"
            ]
          },
          "execution_count": 17,
          "metadata": {},
          "output_type": "execute_result"
        },
        {
          "data": {
            "image/png": "[encoded data removed]",
            "text/plain": [
              "<Figure size 1200x1200 with 2 Axes>"
            ]
          },
          "metadata": {},
          "output_type": "display_data"
        }
      ],
      "source": [
        "from sklearn.metrics import confusion_matrix, ConfusionMatrixDisplay\n",
        "import matplotlib.pyplot as plt\n",
        "\n",
        "y_true = outputs.label_ids\n",
        "y_pred = outputs.predictions.argmax(1)\n",
        "\n",
        "labels = list(label2id.keys())\n",
        "cm = confusion_matrix(y_true, y_pred)\n",
        "disp = ConfusionMatrixDisplay(confusion_matrix=cm, display_labels=labels)\n",
        "fig, ax = plt.subplots(figsize=(12,12))\n",
        "disp.plot(ax=ax)"
      ]
    },
    {
      "attachments": {},
      "cell_type": "markdown",
      "metadata": {},
      "source": [
        "## 内部表現の比較"
      ]
    },
    {
      "attachments": {},
      "cell_type": "markdown",
      "metadata": {},
      "source": [
        "### fine-tuning前"
      ]
    },
    {
      "cell_type": "code",
      "execution_count": 10,
      "metadata": {},
      "outputs": [
        {
          "name": "stderr",
          "output_type": "stream",
          "text": [
            "Some weights of the model checkpoint at google/vit-base-patch16-224-in21k were not used when initializing ViTForImageClassification: ['pooler.dense.bias', 'pooler.dense.weight']\n",
            "- This IS expected if you are initializing ViTForImageClassification from the checkpoint of a model trained on another task or with another architecture (e.g. initializing a BertForSequenceClassification model from a BertForPreTraining model).\n",
            "- This IS NOT expected if you are initializing ViTForImageClassification from the checkpoint of a model that you expect to be exactly identical (initializing a BertForSequenceClassification model from a BertForSequenceClassification model).\n",
            "Some weights of ViTForImageClassification were not initialized from the model checkpoint at google/vit-base-patch16-224-in21k and are newly initialized: ['classifier.bias', 'classifier.weight']\n",
            "You should probably TRAIN this model on a down-stream task to be able to use it for predictions and inference.\n"
          ]
        }
      ],
      "source": [
        "from transformers import ViTForImageClassification\n",
        "\n",
        "non_finetuned_model = ViTForImageClassification.from_pretrained('google/vit-base-patch16-224-in21k',\n",
        "                                                                num_labels=len(label2id),\n",
        "                                                                label2id=label2id,\n",
        "                                                                id2label=id2label)"
      ]
    },
    {
      "cell_type": "code",
      "execution_count": 11,
      "metadata": {},
      "outputs": [
        {
          "data": {
            "text/plain": [
              "device(type='cuda')"
            ]
          },
          "execution_count": 11,
          "metadata": {},
          "output_type": "execute_result"
        }
      ],
      "source": [
        "device = torch.device('cuda' if torch.cuda.is_available() else 'cpu')\n",
        "device"
      ]
    },
    {
      "cell_type": "code",
      "execution_count": 12,
      "metadata": {},
      "outputs": [],
      "source": [
        "from tqdm import tqdm\n",
        "\n",
        "def CLE_tokens(model, tokenizer, dataset, device):\n",
        "    tokens = []\n",
        "    labels = []\n",
        "    for img, label in tqdm(dataset):\n",
        "        feature = tokenizer(img, return_tensors='pt').pixel_values.to(device)\n",
        "        with torch.no_grad():\n",
        "            token = model(feature, output_hidden_states=True).hidden_states[-1][0,0,:]\n",
        "        tokens.append(token.cpu())\n",
        "        labels.append(label)\n",
        "    return torch.stack(tokens).squeeze(), torch.tensor(labels)"
      ]
    },
    {
      "cell_type": "code",
      "execution_count": 13,
      "metadata": {},
      "outputs": [
        {
          "name": "stderr",
          "output_type": "stream",
          "text": [
            "100%|██████████| 1000/1000 [00:39<00:00, 25.51it/s]\n"
          ]
        },
        {
          "name": "stdout",
          "output_type": "stream",
          "text": [
            "torch.Size([1000, 768])\n",
            "(1000, 2)\n",
            "(1000,)\n"
          ]
        },
        {
          "name": "stderr",
          "output_type": "stream",
          "text": [
            "/tmp/ipykernel_13180/3321905619.py:29: UserWarning: No data for colormapping provided via 'c'. Parameters 'cmap' will be ignored\n",
            "  mp = ax.scatter(x[0], x[1],\n"
          ]
        },
        {
          "data": {
            "image/png": "[encoded data removed]",
            "text/plain": [
              "<Figure size 640x480 with 1 Axes>"
            ]
          },
          "metadata": {},
          "output_type": "display_data"
        }
      ],
      "source": [
        "from sklearn.manifold import TSNE\n",
        "from sklearn.decomposition import PCA\n",
        "from umap import UMAP\n",
        "\n",
        "import matplotlib.pyplot as plt\n",
        "import matplotlib.colors as colors\n",
        "import random\n",
        "\n",
        "def choose_colors(num_colors):\n",
        "    tmp = list(colors.CSS4_COLORS.values())\n",
        "    random.shuffle(tmp)\n",
        "    label2color = tmp[:num_colors]\n",
        "    return label2color\n",
        "\n",
        "def plot_tokens(tokens, labels, label2color):\n",
        "    # tsne = TSNE(n_components=2)\n",
        "    # zs = tsne.fit_transform(tokens.numpy())\n",
        "    umap = UMAP()\n",
        "    zs = umap.fit_transform(tokens.numpy())\n",
        "    ys = labels.numpy()\n",
        "    print(zs.shape)\n",
        "    print(ys.shape)\n",
        "    fig = plt.figure()\n",
        "    ax = fig.add_subplot()\n",
        "    ax.set_xlabel('feature-1')\n",
        "    ax.set_ylabel('feature-2')\n",
        "    \n",
        "    for x, y in zip(zs, ys):\n",
        "        mp = ax.scatter(x[0], x[1],\n",
        "                        alpha=1,\n",
        "                        label=id2label[y],\n",
        "                        c=label2color[y],\n",
        "                        s=3,\n",
        "                        cmap=\"jet\")\n",
        "    plt.show()\n",
        "\n",
        "label2color = choose_colors(len(label2id))\n",
        "\n",
        "tokens, labels = CLE_tokens(non_finetuned_model.to(device),\n",
        "                            feature_extractor,\n",
        "                            test_dataset,\n",
        "                            device)\n",
        "print(tokens.shape)\n",
        "plot_tokens(tokens, labels, label2color)"
      ]
    },
    {
      "attachments": {},
      "cell_type": "markdown",
      "metadata": {},
      "source": [
        "### fine-tuning後"
      ]
    },
    {
      "cell_type": "code",
      "execution_count": 14,
      "metadata": {},
      "outputs": [],
      "source": [
        "finetuned_model = ViTForImageClassification.from_pretrained('asl-vit/',\n",
        "                                                            num_labels=len(label2id),\n",
        "                                                            label2id=label2id,\n",
        "                                                            id2label=id2label).to(device)"
      ]
    },
    {
      "cell_type": "code",
      "execution_count": 15,
      "metadata": {},
      "outputs": [
        {
          "name": "stderr",
          "output_type": "stream",
          "text": [
            "100%|██████████| 1000/1000 [01:04<00:00, 15.47it/s]\n"
          ]
        },
        {
          "name": "stdout",
          "output_type": "stream",
          "text": [
            "(1000, 2)\n",
            "(1000,)\n"
          ]
        },
        {
          "name": "stderr",
          "output_type": "stream",
          "text": [
            "/tmp/ipykernel_13180/3321905619.py:29: UserWarning: No data for colormapping provided via 'c'. Parameters 'cmap' will be ignored\n",
            "  mp = ax.scatter(x[0], x[1],\n"
          ]
        },
        {
          "data": {
            "image/png": "[encoded data removed]",
            "text/plain": [
              "<Figure size 640x480 with 1 Axes>"
            ]
          },
          "metadata": {},
          "output_type": "display_data"
        }
      ],
      "source": [
        "tokens, labels = CLE_tokens(finetuned_model,\n",
        "                            feature_extractor,\n",
        "                            test_dataset,\n",
        "                            device)\n",
        "plot_tokens(tokens, labels, label2color)"
      ]
    },
    {
      "cell_type": "code",
      "execution_count": null,
      "metadata": {},
      "outputs": [],
      "source": []
    }
  ],
  "metadata": {
    "accelerator": "GPU",
    "colab": {
      "include_colab_link": true,
      "provenance": []
    },
    "gpuClass": "standard",
    "kernelspec": {
      "display_name": "lab-work-gFKfzxI5",
      "language": "python",
      "name": "python3"
    },
    "language_info": {
      "codemirror_mode": {
        "name": "ipython",
        "version": 3
      },
      "file_extension": ".py",
      "mimetype": "text/x-python",
      "name": "python",
      "nbconvert_exporter": "python",
      "pygments_lexer": "ipython3",
      "version": "3.10.10"
    },
    "orig_nbformat": 4,
    "vscode": {
      "interpreter": {
        "hash": "849f61b40a9f0695613f10abe0801a9209e9c807f7f85006c3621f09dc21595f"
      }
    }
  },
  "nbformat": 4,
  "nbformat_minor": 0
}
