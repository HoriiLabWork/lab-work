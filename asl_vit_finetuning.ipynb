{
  "cells": [
    {
      "cell_type": "markdown",
      "metadata": {
        "colab_type": "text",
        "id": "view-in-github"
      },
      "source": [
        "<a href=\"https://colab.research.google.com/github/nRknpy/lab-work/blob/main/asl_vit_finetuning.ipynb\" target=\"_parent\"><img src=\"https://colab.research.google.com/assets/colab-badge.svg\" alt=\"Open In Colab\"/></a>"
      ]
    },
    {
      "cell_type": "markdown",
      "metadata": {
        "id": "_EWVZFmDS4Rp"
      },
      "source": [
        "# ViTを用いた手話の認識\n",
        "事前学習されたVisionTransformerのモデルを，手話のデータセットを用いてファインチューニングする．"
      ]
    },
    {
      "cell_type": "markdown",
      "metadata": {
        "id": "U1tVj0Z55cgm"
      },
      "source": [
        "# モジュールをインポート"
      ]
    },
    {
      "cell_type": "code",
      "execution_count": null,
      "metadata": {
        "colab": {
          "base_uri": "https://localhost:8080/",
          "height": 1000
        },
        "id": "GTePif1h5T0x",
        "outputId": "0aecc5bd-4c08-4660-d341-8c84d48a53e6",
        "vscode": {
          "languageId": "shellscript"
        }
      },
      "outputs": [],
      "source": [
        "!pip install transformers datasets"
      ]
    },
    {
      "cell_type": "markdown",
      "metadata": {
        "id": "aW5SCym1S4Rr"
      },
      "source": [
        "## データセットの準備\n",
        "### ダウンロード\n",
        "データセットは，ASL Fingerspelling Images（ https://empslocal.ex.ac.uk/people/staff/np331/index.php?section=FingerSpellingDataset ） を用いる．\n",
        "次のコマンドでダウンロード，解凍を行う．"
      ]
    },
    {
      "cell_type": "code",
      "execution_count": null,
      "metadata": {
        "id": "5Fee1CgDS4Rs",
        "vscode": {
          "languageId": "shellscript"
        }
      },
      "outputs": [],
      "source": [
        "!wget http://www.cvssp.org/FingerSpellingKinect2011/fingerspelling5.tar.bz2\n",
        "!tar -jxvf fingerspelling5.tar.bz2"
      ]
    },
    {
      "cell_type": "markdown",
      "metadata": {
        "id": "qW9LLu5TS4Rt"
      },
      "source": [
        "### Dataset，collate_fnを作成\n",
        "データセットの中にはRGB画像と深度画像が含まれているが，ここでは前者のみ使う．\n",
        "\n",
        "pytorchのImageFolderを用いてDatasetを作成するために次のようなディレクトリを作成する．\n",
        "\n",
        "    asl\n",
        "    ├── a\n",
        "        ├── Acolor_0_0002.png\n",
        "        ├── Acolor_0_0003.png\n",
        "        ├── Acolor_0_0004.png\n",
        "        ︙\n",
        "    ├── b\n",
        "    ├── c\n",
        "    ├── d\n",
        "    ├── e\n",
        "    ︙\n",
        "\n",
        "次の関数を用いてDataset用のディレクトリを作成する．"
      ]
    },
    {
      "cell_type": "code",
      "execution_count": null,
      "metadata": {
        "colab": {
          "base_uri": "https://localhost:8080/"
        },
        "id": "OhMsg4UuS4Rt",
        "outputId": "ce92dd52-27f7-47be-8eab-a1c6410eb732"
      },
      "outputs": [],
      "source": [
        "import os\n",
        "import shutil\n",
        "\n",
        "def prepare_asl_dataset(source, destination=\"asl\"):\n",
        "    cnt = 0\n",
        "    for person in os.listdir(source):\n",
        "        for label in os.listdir(source+'/'+person):\n",
        "            for image in os.listdir(source+'/'+person+'/'+label):\n",
        "                if image[0]=='c':\n",
        "                    image_path = source+'/'+person+'/'+label+'/'+image\n",
        "                    os.makedirs(destination+'/'+label, exist_ok=True)\n",
        "                    shutil.copyfile(image_path, destination+'/'+label+'/'+person+image)\n",
        "                    cnt += 1\n",
        "    print(\"image count:\", cnt)\n",
        "\n",
        "source_dir = 'asl'\n",
        "prepare_asl_dataset(\"dataset5\", source_dir)"
      ]
    },
    {
      "cell_type": "code",
      "execution_count": 1,
      "metadata": {},
      "outputs": [
        {
          "data": {
            "text/plain": [
              "True"
            ]
          },
          "execution_count": 1,
          "metadata": {},
          "output_type": "execute_result"
        }
      ],
      "source": [
        "import torch\n",
        "torch.cuda.is_available()"
      ]
    },
    {
      "cell_type": "markdown",
      "metadata": {
        "id": "LFT24uMQ4nKr"
      },
      "source": [
        "\n",
        "モデルの事前学習で行われた画像の前処理の情報をもとに，オリジナルのデータに前処理を施す．前処理のクラスはhuggingfaceからロードできる．"
      ]
    },
    {
      "cell_type": "code",
      "execution_count": 2,
      "metadata": {
        "id": "k8lslAVg7pFq"
      },
      "outputs": [
        {
          "name": "stderr",
          "output_type": "stream",
          "text": [
            "/home/rkn/.local/share/virtualenvs/lab-work-gFKfzxI5/lib/python3.10/site-packages/tqdm/auto.py:21: TqdmWarning: IProgress not found. Please update jupyter and ipywidgets. See https://ipywidgets.readthedocs.io/en/stable/user_install.html\n",
            "  from .autonotebook import tqdm as notebook_tqdm\n",
            "/home/rkn/.local/share/virtualenvs/lab-work-gFKfzxI5/lib/python3.10/site-packages/transformers/models/vit/feature_extraction_vit.py:28: FutureWarning: The class ViTFeatureExtractor is deprecated and will be removed in version 5 of Transformers. Please use ViTImageProcessor instead.\n",
            "  warnings.warn(\n"
          ]
        }
      ],
      "source": [
        "from transformers import ViTFeatureExtractor\n",
        "\n",
        "feature_extractor = ViTFeatureExtractor.from_pretrained('google/vit-base-patch16-224-in21k')"
      ]
    },
    {
      "cell_type": "markdown",
      "metadata": {
        "id": "zEHGeesr9EXz"
      },
      "source": [
        "上で作成したディレクトリから，Datasetを作成する．"
      ]
    },
    {
      "cell_type": "code",
      "execution_count": 3,
      "metadata": {
        "colab": {
          "base_uri": "https://localhost:8080/"
        },
        "id": "UIP6Z0U6VpAz",
        "outputId": "e403a6c2-254d-4037-f787-0f9253092882"
      },
      "outputs": [
        {
          "data": {
            "text/plain": [
              "{'a': 0,\n",
              " 'b': 1,\n",
              " 'c': 2,\n",
              " 'd': 3,\n",
              " 'e': 4,\n",
              " 'f': 5,\n",
              " 'g': 6,\n",
              " 'h': 7,\n",
              " 'i': 8,\n",
              " 'k': 9,\n",
              " 'l': 10,\n",
              " 'm': 11,\n",
              " 'n': 12,\n",
              " 'o': 13,\n",
              " 'p': 14,\n",
              " 'q': 15,\n",
              " 'r': 16,\n",
              " 's': 17,\n",
              " 't': 18,\n",
              " 'u': 19,\n",
              " 'v': 20,\n",
              " 'w': 21,\n",
              " 'x': 22,\n",
              " 'y': 23}"
            ]
          },
          "execution_count": 3,
          "metadata": {},
          "output_type": "execute_result"
        }
      ],
      "source": [
        "import torch\n",
        "import torchvision\n",
        "from torchvision.datasets import ImageFolder\n",
        "from torchvision import transforms\n",
        "\n",
        "all_dataset = ImageFolder(root='asl')\n",
        "\n",
        "label2id = all_dataset.class_to_idx\n",
        "id2label = {label:id for id,label in label2id.items()}\n",
        "label2id"
      ]
    },
    {
      "cell_type": "markdown",
      "metadata": {
        "id": "iJac0lBESjk0"
      },
      "source": [
        "### 前処理を定義\n",
        "データに対して次のような前処理を施す．torchvisionのtransformを用いて行う．\n",
        "\n",
        "1.   224x224にリサイズ\n",
        "2.   事前学習データの平均及び分散を用いて画像を正規化\n",
        "\n",
        "訓練用データセットには，加えてランダムな左右反転を施す（左右両方の手を学習させるため）．"
      ]
    },
    {
      "cell_type": "code",
      "execution_count": 4,
      "metadata": {
        "id": "QdZip8WItjav"
      },
      "outputs": [],
      "source": [
        "from torchvision.transforms import (CenterCrop, \n",
        "                                    Compose, \n",
        "                                    Normalize, \n",
        "                                    RandomHorizontalFlip,\n",
        "                                    RandomResizedCrop, \n",
        "                                    Resize, \n",
        "                                    ToTensor)\n",
        "\n",
        "normalize = Normalize(mean=feature_extractor.image_mean, std=feature_extractor.image_std)\n",
        "_train_transforms = Compose(\n",
        "        [\n",
        "            RandomResizedCrop(tuple(feature_extractor.size.values())),\n",
        "            RandomHorizontalFlip(),\n",
        "            ToTensor(),\n",
        "            normalize,\n",
        "        ]\n",
        "    )\n",
        "\n",
        "_val_transforms = Compose(\n",
        "        [\n",
        "            Resize(tuple(feature_extractor.size.values())),\n",
        "            CenterCrop(tuple(feature_extractor.size.values())),\n",
        "            ToTensor(),\n",
        "            normalize,\n",
        "        ]\n",
        "    )"
      ]
    },
    {
      "cell_type": "code",
      "execution_count": 5,
      "metadata": {
        "id": "4jJteJbrn7Cx"
      },
      "outputs": [],
      "source": [
        "from torch.utils.data import Dataset\n",
        "\n",
        "# random_splitを用いてデータセットをtrain,val,testに分割すると別々のtransformを割り当てられないため，\n",
        "# 自作のSubsetを定義してtransformを後から割り当てる．\n",
        "class SetTransform(Dataset):\n",
        "  def __init__(self, dataset, transform=None):\n",
        "    self.dataset = dataset\n",
        "    self.transform = transform\n",
        "  \n",
        "  def __getitem__(self, idx):\n",
        "    img, label = self.dataset[idx]\n",
        "    if self.transform:\n",
        "      img = self.transform(img)\n",
        "    return img, label\n",
        "  \n",
        "  def __len__(self):\n",
        "    return len(self.dataset)"
      ]
    },
    {
      "cell_type": "markdown",
      "metadata": {
        "id": "6_t07FuyZPob"
      },
      "source": [
        "データセットをtrain,validation,test用に分割し，各々にtransformを割り当てる．\n",
        "\n",
        "ここでは，val,test用のデータをそれぞれ1000個ずつとし，残りを訓練に使う．"
      ]
    },
    {
      "cell_type": "code",
      "execution_count": 6,
      "metadata": {
        "colab": {
          "base_uri": "https://localhost:8080/"
        },
        "id": "sM7fD0HJviYw",
        "outputId": "2aa871f4-45c3-4b3b-87e9-5638248f7a94"
      },
      "outputs": [
        {
          "name": "stdout",
          "output_type": "stream",
          "text": [
            "train: 63774\n",
            "validation: 1000\n",
            "test: 1000\n"
          ]
        }
      ],
      "source": [
        "val_size = 1000\n",
        "test_size = 1000\n",
        "train_size = len(all_dataset) - val_size - test_size\n",
        "\n",
        "test_dataset, trainval_dataset = torch.utils.data.random_split(all_dataset, [test_size, train_size + val_size])\n",
        "train_dataset, val_dataset = torch.utils.data.random_split(trainval_dataset, [train_size, val_size])\n",
        "\n",
        "train_dataset = SetTransform(train_dataset, _train_transforms)\n",
        "val_dataset = SetTransform(val_dataset, _val_transforms)\n",
        "test_dataset = SetTransform(test_dataset, _val_transforms)\n",
        "\n",
        "print('train:', len(train_dataset))\n",
        "print('validation:', len(val_dataset))\n",
        "print('test:', len(test_dataset))"
      ]
    },
    {
      "cell_type": "markdown",
      "metadata": {
        "id": "3xHKW3bqZmKA"
      },
      "source": [
        "バッチを`pixel_values`と`labels`をキーに持つ辞書にする，collate_fnを作成する．これは，Trainer内でモデルに入力する際にアンパックするためである．"
      ]
    },
    {
      "cell_type": "code",
      "execution_count": 7,
      "metadata": {
        "id": "D4oEzkVCuGCD"
      },
      "outputs": [],
      "source": [
        "def collate_fn(examples):\n",
        "    imgs, labels = zip(*examples)\n",
        "    pixel_values = torch.stack(imgs)\n",
        "    labels = torch.tensor(labels)\n",
        "    return {\"pixel_values\": pixel_values, \"labels\": labels}"
      ]
    },
    {
      "cell_type": "markdown",
      "metadata": {
        "id": "jo-BAviKcRol"
      },
      "source": [
        "挙動確認．バッチが辞書型になって返される．"
      ]
    },
    {
      "cell_type": "code",
      "execution_count": 8,
      "metadata": {
        "colab": {
          "base_uri": "https://localhost:8080/"
        },
        "id": "8rI7mylpipcy",
        "outputId": "410b63ec-14dd-48fa-d349-77e2d52c8c07"
      },
      "outputs": [
        {
          "name": "stdout",
          "output_type": "stream",
          "text": [
            "pixel_values torch.Size([4, 3, 224, 224])\n",
            "labels torch.Size([4])\n"
          ]
        }
      ],
      "source": [
        "from torch.utils.data import DataLoader\n",
        "\n",
        "train_dataloader = DataLoader(train_dataset, collate_fn=collate_fn, batch_size=4)\n",
        "\n",
        "batch = next(iter(train_dataloader))\n",
        "for k,v in batch.items():\n",
        "  if isinstance(v, torch.Tensor):\n",
        "    print(k, v.shape)"
      ]
    },
    {
      "cell_type": "markdown",
      "metadata": {
        "id": "3vNftu3lxamW"
      },
      "source": [
        "## モデルの定義\n",
        "huggingfaceから，事前学習されたViTのモデルをロードする．"
      ]
    },
    {
      "cell_type": "code",
      "execution_count": 9,
      "metadata": {
        "colab": {
          "base_uri": "https://localhost:8080/"
        },
        "id": "_nJ66X8YjpZR",
        "outputId": "00ae912c-995a-4ba7-8839-dee72310480f"
      },
      "outputs": [
        {
          "name": "stderr",
          "output_type": "stream",
          "text": [
            "Some weights of the model checkpoint at google/vit-base-patch16-224-in21k were not used when initializing ViTForImageClassification: ['pooler.dense.weight', 'pooler.dense.bias']\n",
            "- This IS expected if you are initializing ViTForImageClassification from the checkpoint of a model trained on another task or with another architecture (e.g. initializing a BertForSequenceClassification model from a BertForPreTraining model).\n",
            "- This IS NOT expected if you are initializing ViTForImageClassification from the checkpoint of a model that you expect to be exactly identical (initializing a BertForSequenceClassification model from a BertForSequenceClassification model).\n",
            "Some weights of ViTForImageClassification were not initialized from the model checkpoint at google/vit-base-patch16-224-in21k and are newly initialized: ['classifier.weight', 'classifier.bias']\n",
            "You should probably TRAIN this model on a down-stream task to be able to use it for predictions and inference.\n"
          ]
        }
      ],
      "source": [
        "from transformers import ViTForImageClassification\n",
        "\n",
        "model = ViTForImageClassification.from_pretrained('google/vit-base-patch16-224-in21k',\n",
        "                                                  num_labels=len(label2id),\n",
        "                                                  label2id=label2id,\n",
        "                                                  id2label=id2label)"
      ]
    },
    {
      "cell_type": "markdown",
      "metadata": {
        "id": "MX_DqRIfdAD8"
      },
      "source": [
        "TrainingArgumentsを設定する．詳細は以下の通り．\n",
        "\n",
        "* モデルのチェックポイント，パラメータを`asl-vit`ディレクトリに保存\n",
        "* 1エポックごとにチェックポイントを保存\n",
        "* 1エポックごとに評価\n",
        "* 学習率=$2.0×10^{-5}$\n",
        "* 訓練データのバッチサイズ=10\n",
        "* valデータのバッチサイズ=4\n",
        "* 3エポック分訓練を回す\n",
        "* 重み減衰=0.01\n",
        "* 学習中に得られたベストなモデルを学習後にロードする\n"
      ]
    },
    {
      "cell_type": "code",
      "execution_count": 10,
      "metadata": {
        "colab": {
          "base_uri": "https://localhost:8080/"
        },
        "id": "6HjE4icgyLsf",
        "outputId": "db54559a-7106-46d7-c893-0bec2af8ebfa"
      },
      "outputs": [],
      "source": [
        "from transformers import TrainingArguments, Trainer\n",
        "\n",
        "metric_name = \"accuracy\"\n",
        "\n",
        "args = TrainingArguments(\n",
        "    f\"asl-vit-test\",\n",
        "    evaluation_strategy=\"epoch\",\n",
        "    save_strategy='epoch',\n",
        "    learning_rate=1e-6,\n",
        "    per_device_train_batch_size=16,\n",
        "    per_device_eval_batch_size=16,\n",
        "    num_train_epochs=10,\n",
        "    weight_decay=1e-3,\n",
        "    load_best_model_at_end=True,\n",
        "    metric_for_best_model=metric_name,\n",
        "    logging_dir='logs',\n",
        "    remove_unused_columns=False,\n",
        ")"
      ]
    },
    {
      "cell_type": "markdown",
      "metadata": {
        "id": "LoYBvvQefZeM"
      },
      "source": [
        "評価基準（ここでは正解率）を定義"
      ]
    },
    {
      "cell_type": "code",
      "execution_count": 11,
      "metadata": {
        "id": "tzJrY80ry0PZ"
      },
      "outputs": [
        {
          "name": "stderr",
          "output_type": "stream",
          "text": [
            "/tmp/ipykernel_5833/1052707893.py:4: FutureWarning: load_metric is deprecated and will be removed in the next major version of datasets. Use 'evaluate.load' instead, from the new library 🤗 Evaluate: https://huggingface.co/docs/evaluate\n",
            "  metric = load_metric(\"accuracy\")\n"
          ]
        }
      ],
      "source": [
        "from datasets import load_metric\n",
        "import numpy as np\n",
        "\n",
        "metric = load_metric(\"accuracy\")\n",
        "\n",
        "def compute_metrics(eval_pred):\n",
        "    predictions, labels = eval_pred\n",
        "    predictions = np.argmax(predictions, axis=1)\n",
        "    return metric.compute(predictions=predictions, references=labels)"
      ]
    },
    {
      "cell_type": "markdown",
      "metadata": {
        "id": "ng7vR98Jfin4"
      },
      "source": [
        "Trainerを定義．"
      ]
    },
    {
      "cell_type": "code",
      "execution_count": 12,
      "metadata": {
        "id": "M5MyUA1h0RrM"
      },
      "outputs": [],
      "source": [
        "from transformers import EarlyStoppingCallback\n",
        "\n",
        "trainer = Trainer(\n",
        "    model,\n",
        "    args,\n",
        "    train_dataset=train_dataset,\n",
        "    eval_dataset=val_dataset,\n",
        "    data_collator=collate_fn,\n",
        "    compute_metrics=compute_metrics,\n",
        "    tokenizer=feature_extractor,\n",
        "    callbacks=[EarlyStoppingCallback(early_stopping_patience=2, early_stopping_threshold=0.005)]\n",
        ")"
      ]
    },
    {
      "cell_type": "markdown",
      "metadata": {
        "id": "kJhqYyzXfpfS"
      },
      "source": [
        "## 訓練"
      ]
    },
    {
      "cell_type": "code",
      "execution_count": 13,
      "metadata": {
        "colab": {
          "base_uri": "https://localhost:8080/",
          "height": 866
        },
        "id": "5n7dMgl80eGO",
        "outputId": "2f4ce50b-144f-419d-a1c8-1858f2cf1a78"
      },
      "outputs": [
        {
          "name": "stderr",
          "output_type": "stream",
          "text": [
            "/home/rkn/.local/share/virtualenvs/lab-work-gFKfzxI5/lib/python3.10/site-packages/transformers/optimization.py:391: FutureWarning: This implementation of AdamW is deprecated and will be removed in a future version. Use the PyTorch implementation torch.optim.AdamW instead, or set `no_deprecation_warning=True` to disable this warning\n",
            "  warnings.warn(\n",
            "Failed to detect the name of this notebook, you can set it manually with the WANDB_NOTEBOOK_NAME environment variable to enable code saving.\n",
            "\u001b[34m\u001b[1mwandb\u001b[0m: Currently logged in as: \u001b[33mrkn\u001b[0m. Use \u001b[1m`wandb login --relogin`\u001b[0m to force relogin\n"
          ]
        },
        {
          "data": {
            "text/html": [
              "Tracking run with wandb version 0.14.2"
            ],
            "text/plain": [
              "<IPython.core.display.HTML object>"
            ]
          },
          "metadata": {},
          "output_type": "display_data"
        },
        {
          "data": {
            "text/html": [
              "Run data is saved locally in <code>/home/rkn/Projects/lab-work/wandb/run-20230417_213535-92626vpn</code>"
            ],
            "text/plain": [
              "<IPython.core.display.HTML object>"
            ]
          },
          "metadata": {},
          "output_type": "display_data"
        },
        {
          "data": {
            "text/html": [
              "Syncing run <strong><a href='https://wandb.ai/rkn/huggingface/runs/92626vpn' target=\"_blank\">stellar-snowball-7</a></strong> to <a href='https://wandb.ai/rkn/huggingface' target=\"_blank\">Weights & Biases</a> (<a href='https://wandb.me/run' target=\"_blank\">docs</a>)<br/>"
            ],
            "text/plain": [
              "<IPython.core.display.HTML object>"
            ]
          },
          "metadata": {},
          "output_type": "display_data"
        },
        {
          "data": {
            "text/html": [
              " View project at <a href='https://wandb.ai/rkn/huggingface' target=\"_blank\">https://wandb.ai/rkn/huggingface</a>"
            ],
            "text/plain": [
              "<IPython.core.display.HTML object>"
            ]
          },
          "metadata": {},
          "output_type": "display_data"
        },
        {
          "data": {
            "text/html": [
              " View run at <a href='https://wandb.ai/rkn/huggingface/runs/92626vpn' target=\"_blank\">https://wandb.ai/rkn/huggingface/runs/92626vpn</a>"
            ],
            "text/plain": [
              "<IPython.core.display.HTML object>"
            ]
          },
          "metadata": {},
          "output_type": "display_data"
        },
        {
          "name": "stderr",
          "output_type": "stream",
          "text": [
            "  1%|          | 487/39860 [03:51<4:11:01,  2.61it/s] "
          ]
        }
      ],
      "source": [
        "trainer.train()"
      ]
    },
    {
      "cell_type": "code",
      "execution_count": null,
      "metadata": {},
      "outputs": [],
      "source": [
        "\n",
        "\n",
        "\n",
        "trainer.save_state()\n",
        "trainer.save_model()"
      ]
    },
    {
      "cell_type": "markdown",
      "metadata": {
        "id": "QUJSflZqf1zW"
      },
      "source": [
        "## 評価\n",
        "ファインチューニングしたモデルの性能を評価する．\n",
        "\n",
        "テストデータをモデルに入力し，推定ラベルを得る．"
      ]
    },
    {
      "cell_type": "code",
      "execution_count": null,
      "metadata": {
        "colab": {
          "base_uri": "https://localhost:8080/",
          "height": 69
        },
        "id": "rSGpvbNG008o",
        "outputId": "0daec1c6-0725-4578-f447-fe86fe4f4b39"
      },
      "outputs": [],
      "source": [
        "outputs = trainer.predict(test_dataset)"
      ]
    },
    {
      "cell_type": "markdown",
      "metadata": {
        "id": "9LS5ViWngGYI"
      },
      "source": [
        "テストデータに対する損失，正解率等を計算．"
      ]
    },
    {
      "cell_type": "code",
      "execution_count": null,
      "metadata": {
        "colab": {
          "base_uri": "https://localhost:8080/"
        },
        "id": "lTMlXKqVTFUt",
        "outputId": "515c2659-8a63-49ef-9c3a-7c65fa69b9bd"
      },
      "outputs": [],
      "source": [
        "print(outputs.metrics)"
      ]
    },
    {
      "cell_type": "markdown",
      "metadata": {
        "id": "b65dVRfOgOAL"
      },
      "source": [
        "混同行列を作成．"
      ]
    },
    {
      "cell_type": "code",
      "execution_count": null,
      "metadata": {
        "colab": {
          "base_uri": "https://localhost:8080/",
          "height": 706
        },
        "id": "d3sojO21TJtl",
        "outputId": "c6b8bcaf-c8d6-4789-c05b-97a92efdaa2a"
      },
      "outputs": [],
      "source": [
        "from sklearn.metrics import confusion_matrix, ConfusionMatrixDisplay\n",
        "import matplotlib.pyplot as plt\n",
        "\n",
        "y_true = outputs.label_ids\n",
        "y_pred = outputs.predictions.argmax(1)\n",
        "\n",
        "labels = list(label2id.keys())\n",
        "cm = confusion_matrix(y_true, y_pred)\n",
        "disp = ConfusionMatrixDisplay(confusion_matrix=cm, display_labels=labels)\n",
        "fig, ax = plt.subplots(figsize=(12,12))\n",
        "disp.plot(ax=ax)"
      ]
    },
    {
      "attachments": {},
      "cell_type": "markdown",
      "metadata": {},
      "source": [
        "## 内部表現の比較"
      ]
    },
    {
      "attachments": {},
      "cell_type": "markdown",
      "metadata": {},
      "source": [
        "### fine-tuning前"
      ]
    },
    {
      "cell_type": "code",
      "execution_count": null,
      "metadata": {},
      "outputs": [],
      "source": [
        "from transformers import ViTForImageClassification\n",
        "\n",
        "non_finetuned_model = ViTForImageClassification.from_pretrained('google/vit-base-patch16-224-in21k',\n",
        "                                                                num_labels=len(label2id),\n",
        "                                                                label2id=label2id,\n",
        "                                                                id2label=id2label)"
      ]
    },
    {
      "cell_type": "code",
      "execution_count": null,
      "metadata": {},
      "outputs": [],
      "source": [
        "device = torch.device('cuda' if torch.cuda.is_available() else 'cpu')\n",
        "device"
      ]
    },
    {
      "cell_type": "code",
      "execution_count": null,
      "metadata": {},
      "outputs": [],
      "source": [
        "from tqdm import tqdm\n",
        "\n",
        "def CLE_tokens(model, tokenizer, dataset, device):\n",
        "    tokens = []\n",
        "    labels = []\n",
        "    for img, label in tqdm(dataset):\n",
        "        feature = tokenizer(img, return_tensors='pt').pixel_values.to(device)\n",
        "        with torch.no_grad():\n",
        "            token = model(feature, output_hidden_states=True).hidden_states[-1][0,0,:]\n",
        "        tokens.append(token.cpu())\n",
        "        labels.append(label)\n",
        "    return torch.stack(tokens).squeeze(), torch.tensor(labels)"
      ]
    },
    {
      "cell_type": "code",
      "execution_count": null,
      "metadata": {},
      "outputs": [],
      "source": [
        "from sklearn.manifold import TSNE\n",
        "from sklearn.decomposition import PCA\n",
        "from umap import UMAP\n",
        "\n",
        "import matplotlib.pyplot as plt\n",
        "import matplotlib.colors as colors\n",
        "import matplotlib.cm as cm\n",
        "import random\n",
        "\n",
        "def plot_tokens(tokens, labels, n_neighbors):\n",
        "    # tsne = TSNE(n_components=2)\n",
        "    # zs = tsne.fit_transform(tokens.numpy())\n",
        "    umap = UMAP(n_neighbors=n_neighbors)\n",
        "    zs = umap.fit_transform(tokens.numpy())\n",
        "    ys = labels.numpy()\n",
        "    print(zs.shape)\n",
        "    print(ys.shape)\n",
        "    fig = plt.figure()\n",
        "    ax = fig.add_subplot()\n",
        "    ax.set_xlabel('feature-1')\n",
        "    ax.set_ylabel('feature-2')\n",
        "    cmap = cm.get_cmap('gist_ncar')\n",
        "    \n",
        "    label2point = {}\n",
        "    for x, y in zip(zs, ys):\n",
        "        mp = ax.scatter(x[0], x[1],\n",
        "                        alpha=1,\n",
        "                        label=id2label[y],\n",
        "                        # c=label2color[y],\n",
        "                        c=y,\n",
        "                        cmap=cmap,\n",
        "                        vmin=0,\n",
        "                        vmax=len(set(ys)),\n",
        "                        s=3,)\n",
        "        label2point[id2label[y]] = mp\n",
        "    labels, handles = zip(*sorted(label2point.items()))\n",
        "    fig.legend(handles, labels, bbox_to_anchor=(0, -0.15), loc='lower left', ncol=10)\n",
        "    plt.show()\n"
      ]
    },
    {
      "cell_type": "code",
      "execution_count": null,
      "metadata": {},
      "outputs": [],
      "source": [
        "tokens, labels = CLE_tokens(non_finetuned_model.to(device),\n",
        "                            feature_extractor,\n",
        "                            test_dataset,\n",
        "                            device)\n",
        "plot_tokens(tokens, labels, 75)"
      ]
    },
    {
      "attachments": {},
      "cell_type": "markdown",
      "metadata": {},
      "source": [
        "### fine-tuning後"
      ]
    },
    {
      "cell_type": "code",
      "execution_count": null,
      "metadata": {},
      "outputs": [],
      "source": [
        "finetuned_model = ViTForImageClassification.from_pretrained('asl-vit/',\n",
        "                                                            num_labels=len(label2id),\n",
        "                                                            label2id=label2id,\n",
        "                                                            id2label=id2label).to(device)"
      ]
    },
    {
      "cell_type": "code",
      "execution_count": null,
      "metadata": {},
      "outputs": [],
      "source": [
        "tokens, labels = CLE_tokens(finetuned_model,\n",
        "                            feature_extractor,\n",
        "                            test_dataset,\n",
        "                            device)\n",
        "plot_tokens(tokens, labels, 75)"
      ]
    },
    {
      "cell_type": "code",
      "execution_count": null,
      "metadata": {},
      "outputs": [],
      "source": []
    }
  ],
  "metadata": {
    "accelerator": "GPU",
    "colab": {
      "include_colab_link": true,
      "provenance": []
    },
    "gpuClass": "standard",
    "kernelspec": {
      "display_name": "lab-work-gFKfzxI5",
      "language": "python",
      "name": "python3"
    },
    "language_info": {
      "codemirror_mode": {
        "name": "ipython",
        "version": 3
      },
      "file_extension": ".py",
      "mimetype": "text/x-python",
      "name": "python",
      "nbconvert_exporter": "python",
      "pygments_lexer": "ipython3",
      "version": "3.10.10"
    },
    "orig_nbformat": 4,
    "vscode": {
      "interpreter": {
        "hash": "849f61b40a9f0695613f10abe0801a9209e9c807f7f85006c3621f09dc21595f"
      }
    }
  },
  "nbformat": 4,
  "nbformat_minor": 0
}
