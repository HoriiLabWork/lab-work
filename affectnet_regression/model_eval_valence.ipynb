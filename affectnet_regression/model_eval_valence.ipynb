{
 "cells": [
  {
   "cell_type": "code",
   "execution_count": 1,
   "metadata": {},
   "outputs": [
    {
     "data": {
      "text/plain": [
       "device(type='cuda')"
      ]
     },
     "execution_count": 1,
     "metadata": {},
     "output_type": "execute_result"
    }
   ],
   "source": [
    "import torch\n",
    "\n",
    "device = torch.device('cuda' if torch.cuda.is_available() else 'cpu')\n",
    "device"
   ]
  },
  {
   "cell_type": "code",
   "execution_count": 2,
   "metadata": {},
   "outputs": [
    {
     "name": "stderr",
     "output_type": "stream",
     "text": [
      "/home/rkn/.local/share/virtualenvs/lab-work-gFKfzxI5/lib/python3.10/site-packages/tqdm/auto.py:21: TqdmWarning: IProgress not found. Please update jupyter and ipywidgets. See https://ipywidgets.readthedocs.io/en/stable/user_install.html\n",
      "  from .autonotebook import tqdm as notebook_tqdm\n",
      "/home/rkn/.local/share/virtualenvs/lab-work-gFKfzxI5/lib/python3.10/site-packages/transformers/models/vit/feature_extraction_vit.py:28: FutureWarning: The class ViTFeatureExtractor is deprecated and will be removed in version 5 of Transformers. Please use ViTImageProcessor instead.\n",
      "  warnings.warn(\n"
     ]
    }
   ],
   "source": [
    "from transformers import ViTForImageClassification, ViTFeatureExtractor\n",
    "\n",
    "feature_extractor = ViTFeatureExtractor.from_pretrained('./nonstd-divide-valence-bw=0.13604422505592878')\n",
    "model = ViTForImageClassification.from_pretrained('./nonstd-divide-valence-bw=0.13604422505592878').to(device)"
   ]
  },
  {
   "cell_type": "code",
   "execution_count": 3,
   "metadata": {},
   "outputs": [],
   "source": [
    "import torch\n",
    "import pandas as pd\n",
    "from torch.utils.data import Dataset\n",
    "from PIL import Image\n",
    "import os\n",
    "\n",
    "def pil_loader(path):\n",
    "    with open(path, 'rb') as f:\n",
    "        img = Image.open(f)\n",
    "        return img.convert('RGB')\n",
    "\n",
    "\n",
    "class AffectNetDataset(Dataset):\n",
    "    def __init__(self,\n",
    "                 csv_file,\n",
    "                 root,\n",
    "                 mode='classification',\n",
    "                 crop=False,\n",
    "                 transform=None,\n",
    "                 invalid_files=None):\n",
    "        assert mode in ('valence', 'arousal', 'valence-arousal', 'classification')\n",
    "        self.df = pd.read_csv(csv_file)\n",
    "        self.root = root\n",
    "        self.mode = mode\n",
    "        self.crop = crop\n",
    "        self.transform = transform\n",
    "        self.invalid_files = invalid_files\n",
    "        \n",
    "        if self.invalid_files:\n",
    "            self.df = self.df[~self.df['subDirectory_filePath'].isin(invalid_files)]\n",
    "        \n",
    "        self.df = self.df[~((self.df['expression'] == 9) | (self.df['expression'] == 10))].reset_index(drop=True)\n",
    "    \n",
    "    def __getitem__(self, idx):\n",
    "        try:\n",
    "            img = pil_loader(os.path.join(self.root, self.df['subDirectory_filePath'][idx]))\n",
    "        except KeyError:\n",
    "            raise IndexError\n",
    "        if self.crop:\n",
    "            img = img.crop((self.df['face_x'][idx],\n",
    "                            self.df['face_y'][idx],\n",
    "                            self.df['face_x'][idx]+self.df['face_width'][idx],\n",
    "                            self.df['face_y'][idx]+self.df['face_height'][idx],))\n",
    "        if self.transform:\n",
    "            img = self.transform(img)\n",
    "        if self.mode == 'classification':\n",
    "            target = torch.tensor(self.df['expression'][idx])\n",
    "        elif self.mode == 'valence':\n",
    "            target = torch.tensor([self.df['valence'][idx]])\n",
    "        elif self.mode == 'arousal':\n",
    "            target = torch.tensor([self.df['arousal'][idx]])\n",
    "        else:\n",
    "            target = torch.tensor([self.df['valence'][idx],\n",
    "                                   self.df['arousal'][idx]])\n",
    "        return img.float(), target.float()\n",
    "\n",
    "    def __len__(self):\n",
    "        return len(self.df)"
   ]
  },
  {
   "cell_type": "code",
   "execution_count": 4,
   "metadata": {},
   "outputs": [],
   "source": [
    "images_root = '../Affectnet/Manually_Annotated/Manually_Annotated_Images'\n",
    "train_invalid_files = ['103/29a31ebf1567693f4644c8ba3476ca9a72ee07fe67a5860d98707a0a.jpg']\n",
    "val_invalid_files = []\n",
    "mode = 'valence'"
   ]
  },
  {
   "cell_type": "code",
   "execution_count": 5,
   "metadata": {},
   "outputs": [
    {
     "name": "stdout",
     "output_type": "stream",
     "text": [
      "train: 320739\n",
      "validation: 4500\n"
     ]
    }
   ],
   "source": [
    "from torchvision.transforms import (Compose,\n",
    "                                    Normalize,\n",
    "                                    Resize,\n",
    "                                    ToTensor)\n",
    "from torch.utils.data import DataLoader\n",
    "from torch.utils.data.dataloader import default_collate\n",
    "\n",
    "normalize = Normalize(mean=feature_extractor.image_mean,\n",
    "                      std=feature_extractor.image_std)\n",
    "\n",
    "transform = Compose([Resize(tuple(feature_extractor.size.values())),\n",
    "                     ToTensor()])\n",
    "\n",
    "train_dataset = AffectNetDataset('../Affectnet/training.csv',\n",
    "                                 images_root,\n",
    "                                 mode,\n",
    "                                 transform=transform,\n",
    "                                 invalid_files=train_invalid_files)\n",
    "val_dataset = AffectNetDataset('../Affectnet/validation.csv',\n",
    "                               images_root,\n",
    "                               mode,\n",
    "                               transform=transform,\n",
    "                               invalid_files=val_invalid_files)\n",
    "\n",
    "print('train:', len(train_dataset))\n",
    "print('validation:', len(val_dataset))\n",
    "\n",
    "train_dataloader = DataLoader(train_dataset, 256, collate_fn=lambda x: tuple(x_.to(device) for x_ in default_collate(x)))\n",
    "val_dataloader = DataLoader(val_dataset, 256, collate_fn=lambda x: tuple(x_.to(device) for x_ in default_collate(x)))"
   ]
  },
  {
   "cell_type": "code",
   "execution_count": 6,
   "metadata": {},
   "outputs": [],
   "source": [
    "n_bins = 70"
   ]
  },
  {
   "cell_type": "code",
   "execution_count": 7,
   "metadata": {},
   "outputs": [],
   "source": [
    "from typing import Dict\n",
    "from matplotlib.figure import Figure\n",
    "from matplotlib.axes import Axes\n",
    "\n",
    "from tqdm import tqdm\n",
    "import pandas as pd\n",
    "import numpy as  np\n",
    "from sklearn.metrics import mean_squared_error\n",
    "import matplotlib.pyplot as plt\n",
    "import matplotlib.cm as cm\n",
    "import matplotlib.colors as cl\n",
    "\n",
    "def rmse(x):\n",
    "    x = x.drop(['valence', 'arousal'], axis=1)\n",
    "    x = np.array(x.values)\n",
    "    all_target, all_predict = np.split(x, 2, 1)\n",
    "    valence_target, arousal_target = np.split(all_target, 2, 1)\n",
    "    valence_pred, arousal_pred = np.split(all_predict, 2, 1)\n",
    "    return pd.Series({'both_rmse': mean_squared_error(all_target, all_predict, squared=False),\n",
    "                      'valence_rmse': mean_squared_error(valence_target, valence_pred, squared=False),\n",
    "                      'arousal_rmse': mean_squared_error(arousal_target, arousal_pred, squared=False)})\n",
    "\n",
    "def plot_metrics(fig: Figure, ax: Axes, table: pd.DataFrame, title: str):\n",
    "    ax.set_aspect('equal', adjustable='box')\n",
    "    pc = ax.pcolor(table.index, table.columns, table, cmap=cm.jet)\n",
    "    ax.set_title(title)\n",
    "    ax.set_xlabel('valence')\n",
    "    ax.set_ylabel('arousal')\n",
    "    fig.colorbar(pc, ax=ax)\n",
    "\n",
    "def evaluate_model(dataloaders: Dict[str, DataLoader]):\n",
    "    fig = plt.figure(figsize=(20, 10))\n",
    "    for i, (mode, dataloader) in enumerate(dataloaders.items()):\n",
    "        print(f'running prediction: {mode}')\n",
    "        preds, targets = [], []\n",
    "        for x, y in tqdm(dataloader):\n",
    "            with torch.no_grad():\n",
    "                output = model(x)\n",
    "            preds.append(output.logits)\n",
    "            targets.append(y)\n",
    "        preds = torch.concat(preds).cpu()\n",
    "        targets = torch.concat(targets).cpu()\n",
    "        result = torch.concat((targets, preds), dim=1).cpu()\n",
    "        \n",
    "        valence_rmse = mean_squared_error(targets, preds, squared=False)\n",
    "        print(f'{mode}: rmse')\n",
    "        print('valence:', valence_rmse)\n",
    "        \n",
    "    #     df = pd.DataFrame(result.numpy())\n",
    "    #     bins = np.linspace(-1, 1, n_bins+1)\n",
    "    #     labels = np.linspace(-1, 1, n_bins)\n",
    "    #     df = df.assign(valence=pd.cut(df[0], bins=bins, labels=labels),\n",
    "    #                    arousal=pd.cut(df[1], bins=bins, labels=labels))\n",
    "    #     bined = df.groupby(['valence', 'arousal'])\n",
    "    #     bin_df = bined.apply(rmse).reset_index()\n",
    "    #     both_tab = pd.pivot_table(bin_df, index='arousal', columns='valence', values='both_rmse')\n",
    "    #     valence_tab = pd.pivot_table(bin_df, index='arousal', columns='valence', values='valence_rmse')\n",
    "    #     arousal_tab = pd.pivot_table(bin_df, index='arousal', columns='valence', values='arousal_rmse')\n",
    "    #     tab_dict = {\n",
    "    #         'both': both_tab,\n",
    "    #         'valence': valence_tab,\n",
    "    #         'arousal': arousal_tab,\n",
    "    #     }\n",
    "        \n",
    "    #     print(f'plotting metrics: {mode}')\n",
    "    #     for j, (name, table) in enumerate(tab_dict.items()):\n",
    "    #         ax = fig.add_subplot(len(dataloaders), len(tab_dict), i*len(tab_dict)+j+1)\n",
    "    #         plot_metrics(fig, ax, table, f'{mode}: RMSE {name}')\n",
    "    # plt.tight_layout()\n",
    "    # plt.show()\n"
   ]
  },
  {
   "cell_type": "code",
   "execution_count": 8,
   "metadata": {},
   "outputs": [
    {
     "name": "stdout",
     "output_type": "stream",
     "text": [
      "running prediction: train\n"
     ]
    },
    {
     "name": "stderr",
     "output_type": "stream",
     "text": [
      "100%|██████████| 1253/1253 [28:15<00:00,  1.35s/it]\n"
     ]
    },
    {
     "name": "stdout",
     "output_type": "stream",
     "text": [
      "train: rmse\n",
      "valence: 0.31343567\n",
      "running prediction: validation\n"
     ]
    },
    {
     "name": "stderr",
     "output_type": "stream",
     "text": [
      "100%|██████████| 18/18 [00:23<00:00,  1.33s/it]\n"
     ]
    },
    {
     "name": "stdout",
     "output_type": "stream",
     "text": [
      "validation: rmse\n",
      "valence: 0.38199732\n"
     ]
    },
    {
     "data": {
      "text/plain": [
       "<Figure size 2000x1000 with 0 Axes>"
      ]
     },
     "metadata": {},
     "output_type": "display_data"
    }
   ],
   "source": [
    "dataloaders = {\n",
    "    'train': train_dataloader,\n",
    "    'validation': val_dataloader,\n",
    "}\n",
    "\n",
    "evaluate_model(dataloaders)"
   ]
  },
  {
   "cell_type": "code",
   "execution_count": null,
   "metadata": {},
   "outputs": [],
   "source": [
    "from tqdm import tqdm\n",
    "\n",
    "def CLS_tokens(model, tokenizer, dataset, device):\n",
    "    tokens = []\n",
    "    labels = []\n",
    "    for img, label in tqdm(dataset):\n",
    "        with torch.no_grad():\n",
    "            token = model(img.unsqueeze(0).to(device), output_hidden_states=True).hidden_states[-1][0,0,:]\n",
    "        tokens.append(token.cpu())\n",
    "        labels.append(label)\n",
    "    return torch.stack(tokens).squeeze(), torch.stack(labels)"
   ]
  },
  {
   "cell_type": "code",
   "execution_count": null,
   "metadata": {},
   "outputs": [],
   "source": [
    "from umap import UMAP\n",
    "import numpy as np\n",
    "\n",
    "import matplotlib.pyplot as plt\n",
    "import matplotlib.colors as colors\n",
    "import matplotlib.cm as cm\n",
    "\n",
    "def plot_tokens(tokens, targets, n_neighbors):\n",
    "    fig = plt.figure(figsize=(15, 15))\n",
    "    # plt.subplots_adjust(wspace=0.4, hspace=0.6)\n",
    "    umap = UMAP(n_neighbors=n_neighbors)\n",
    "    xy = np.array(umap.fit_transform(tokens.numpy()))\n",
    "    x = xy[:, 0]\n",
    "    y = xy[:, 1]\n",
    "    for i, category in enumerate(['valence', 'arousal']):\n",
    "        z = targets[:, i]\n",
    "        ax = fig.add_subplot(1, 2, i+1)\n",
    "        ax.set_aspect('equal', adjustable='box')\n",
    "        ax.set_xlabel('feature-1')\n",
    "        ax.set_ylabel('feature-2')\n",
    "        ax.set_title(category)\n",
    "        mp = ax.scatter(x, y,\n",
    "                        alpha=1,\n",
    "                        c=z,\n",
    "                        cmap='Oranges',\n",
    "                        vmin=-1,\n",
    "                        vmax=1,\n",
    "                        s=3)\n",
    "        fig.colorbar(mp, ax=ax, shrink=0.335)\n",
    "    plt.tight_layout()\n",
    "    plt.show()\n",
    "    return fig\n"
   ]
  },
  {
   "cell_type": "code",
   "execution_count": null,
   "metadata": {},
   "outputs": [],
   "source": [
    "tokens, targets = CLS_tokens(model,\n",
    "                             feature_extractor,\n",
    "                             val_dataset,\n",
    "                             device)\n",
    "print(tokens.shape, targets.shape)"
   ]
  },
  {
   "cell_type": "code",
   "execution_count": null,
   "metadata": {},
   "outputs": [],
   "source": [
    "finetuned_fig = plot_tokens(tokens, targets, 20)"
   ]
  },
  {
   "cell_type": "code",
   "execution_count": null,
   "metadata": {},
   "outputs": [],
   "source": [
    "non_finetuned_model = ViTForImageClassification.from_pretrained('google/vit-base-patch16-224-in21k',\n",
    "                                                                num_labels=2,\n",
    "                                                                problem_type='regression').to(device)"
   ]
  },
  {
   "cell_type": "code",
   "execution_count": null,
   "metadata": {},
   "outputs": [],
   "source": [
    "tokens, targets = CLS_tokens(non_finetuned_model,\n",
    "                             feature_extractor,\n",
    "                             val_dataset,\n",
    "                             device)\n"
   ]
  },
  {
   "cell_type": "code",
   "execution_count": null,
   "metadata": {},
   "outputs": [],
   "source": [
    "non_finetuned_fig = plot_tokens(tokens, targets, 20)"
   ]
  },
  {
   "cell_type": "code",
   "execution_count": null,
   "metadata": {},
   "outputs": [],
   "source": []
  }
 ],
 "metadata": {
  "kernelspec": {
   "display_name": "lab-work-bsKSxQpa",
   "language": "python",
   "name": "python3"
  },
  "language_info": {
   "codemirror_mode": {
    "name": "ipython",
    "version": 3
   },
   "file_extension": ".py",
   "mimetype": "text/x-python",
   "name": "python",
   "nbconvert_exporter": "python",
   "pygments_lexer": "ipython3",
   "version": "3.10.10"
  },
  "orig_nbformat": 4
 },
 "nbformat": 4,
 "nbformat_minor": 2
}
