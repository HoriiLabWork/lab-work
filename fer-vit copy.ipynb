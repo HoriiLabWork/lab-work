{
 "cells": [
  {
   "cell_type": "code",
   "execution_count": 1,
   "metadata": {},
   "outputs": [
    {
     "name": "stderr",
     "output_type": "stream",
     "text": [
      "/home/rkn/.local/share/virtualenvs/lab-work-gFKfzxI5/lib/python3.10/site-packages/tqdm/auto.py:22: TqdmWarning: IProgress not found. Please update jupyter and ipywidgets. See https://ipywidgets.readthedocs.io/en/stable/user_install.html\n",
      "  from .autonotebook import tqdm as notebook_tqdm\n"
     ]
    },
    {
     "data": {
      "text/plain": [
       "device(type='cuda')"
      ]
     },
     "execution_count": 1,
     "metadata": {},
     "output_type": "execute_result"
    }
   ],
   "source": [
    "import torch\n",
    "\n",
    "device = torch.device('cuda' if torch.cuda.is_available() else 'cpu')\n",
    "device"
   ]
  },
  {
   "cell_type": "code",
   "execution_count": 2,
   "metadata": {},
   "outputs": [
    {
     "name": "stderr",
     "output_type": "stream",
     "text": [
      "/home/rkn/.local/share/virtualenvs/lab-work-gFKfzxI5/lib/python3.10/site-packages/transformers/models/vit/feature_extraction_vit.py:28: FutureWarning: The class ViTFeatureExtractor is deprecated and will be removed in version 5 of Transformers. Please use ViTImageProcessor instead.\n",
      "  warnings.warn(\n"
     ]
    }
   ],
   "source": [
    "from transformers import ViTFeatureExtractor\n",
    "\n",
    "feature_extractor = ViTFeatureExtractor.from_pretrained('google/vit-base-patch16-224-in21k')"
   ]
  },
  {
   "cell_type": "code",
   "execution_count": 3,
   "metadata": {},
   "outputs": [],
   "source": [
    "import os\n",
    "import numpy as np\n",
    "import pandas as pd\n",
    "import torch\n",
    "import torchvision\n",
    "from torch.utils.data import Dataset, DataLoader\n",
    "from torchvision import transforms\n",
    "from PIL import Image\n",
    "\n",
    "def csv2labelnp(csv_file):\n",
    "    label_df = pd.read_csv(csv_file, header=None)\n",
    "    return label_df.loc[:,2:].to_numpy() / 10\n",
    "\n",
    "def pil_loader(path):\n",
    "    with open(path, 'rb') as f:\n",
    "        img = Image.open(f)\n",
    "        return img.convert('RGB')\n",
    "\n",
    "class FERPlusDataset(Dataset):\n",
    "    def __init__(self, root, mode, threshold=0.3, transform=None):\n",
    "        self.labels = csv2labelnp(os.path.join(root, 'label.csv'))\n",
    "        self.samples = [os.path.join(root, img_name) for img_name in sorted(os.listdir(root))[:-1]]\n",
    "        self.mode = mode\n",
    "        self.threshold = threshold\n",
    "        self.transform = transform\n",
    "    \n",
    "    def __getitem__(self, idx):\n",
    "        img = pil_loader(self.samples[idx])\n",
    "        if self.transform:\n",
    "            img = self.transform(img)\n",
    "        target = self.labels[idx]\n",
    "        if self.mode == 'majority':\n",
    "            target = np.argmax(target)\n",
    "            target = torch.tensor(target)\n",
    "        elif self.mode == 'multi-label':\n",
    "            target = (target > self.threshold).astype(int)\n",
    "            target = torch.from_numpy(target)\n",
    "        else:\n",
    "            target = torch.from_numpy(target)\n",
    "        return img, target\n",
    "    \n",
    "    def __len__(self):\n",
    "        return len(self.samples)"
   ]
  },
  {
   "cell_type": "code",
   "execution_count": 4,
   "metadata": {},
   "outputs": [
    {
     "name": "stdout",
     "output_type": "stream",
     "text": [
      "train: 28558\n",
      "val: 3579\n",
      "test: 3573\n"
     ]
    }
   ],
   "source": [
    "from torchvision.transforms import (Compose,\n",
    "                                    Normalize,\n",
    "                                    Resize,\n",
    "                                    ToTensor,\n",
    "                                    RandomAffine)\n",
    "\n",
    "normalize = Normalize(mean=sum(feature_extractor.image_mean) / len(feature_extractor.image_mean),\n",
    "                      std=sum(feature_extractor.image_std) / len(feature_extractor.image_std))\n",
    "\n",
    "train_transform = Compose([RandomAffine(30),\n",
    "                           Resize(tuple(feature_extractor.size.values())),\n",
    "                           ToTensor()])\n",
    "\n",
    "val_test_transform = Compose([Resize(tuple(feature_extractor.size.values())),\n",
    "                              ToTensor()])\n",
    "\n",
    "mode = 'majority'\n",
    "\n",
    "train_dataset = FERPlusDataset('FERPlus/data/FER2013Train',\n",
    "                               mode,\n",
    "                               transform=train_transform)\n",
    "val_dataset = FERPlusDataset('FERPlus/data/FER2013Valid',\n",
    "                             mode,\n",
    "                             transform=val_test_transform)\n",
    "test_dataset = FERPlusDataset('FERPlus/data/FER2013Test',\n",
    "                              mode,\n",
    "                              transform=val_test_transform)\n",
    "\n",
    "print('train:', len(train_dataset))\n",
    "print('val:', len(val_dataset))\n",
    "print('test:', len(test_dataset))"
   ]
  },
  {
   "cell_type": "code",
   "execution_count": 5,
   "metadata": {},
   "outputs": [],
   "source": [
    "def collate_fn(examples):\n",
    "    imgs, labels = zip(*examples)\n",
    "    pixel_values = torch.stack(imgs)\n",
    "    labels = torch.stack(labels)\n",
    "    return {'pixel_values': pixel_values, 'labels': labels}"
   ]
  },
  {
   "cell_type": "code",
   "execution_count": 6,
   "metadata": {},
   "outputs": [
    {
     "name": "stdout",
     "output_type": "stream",
     "text": [
      "pixel_values torch.Size([4, 3, 224, 224])\n",
      "labels torch.Size([4])\n"
     ]
    }
   ],
   "source": [
    "train_dataloader = DataLoader(train_dataset, collate_fn=collate_fn, batch_size=4)\n",
    "\n",
    "batch = next(iter(train_dataloader))\n",
    "for k,v in batch.items():\n",
    "  if isinstance(v, torch.Tensor):\n",
    "    print(k, v.shape)"
   ]
  },
  {
   "cell_type": "code",
   "execution_count": 7,
   "metadata": {},
   "outputs": [
    {
     "data": {
      "text/plain": [
       "{'neutral': 0,\n",
       " 'happiness': 1,\n",
       " 'surprise': 2,\n",
       " 'sadness': 3,\n",
       " 'anger': 4,\n",
       " 'disgust': 5,\n",
       " 'fear': 6,\n",
       " 'contempt': 7,\n",
       " 'unknown': 8,\n",
       " 'NF': 9}"
      ]
     },
     "execution_count": 7,
     "metadata": {},
     "output_type": "execute_result"
    }
   ],
   "source": [
    "id2label = {\n",
    "    0: 'neutral',\n",
    "    1: 'happiness',\n",
    "    2: 'surprise',\n",
    "    3: 'sadness',\n",
    "    4: 'anger',\n",
    "    5: 'disgust',\n",
    "    6: 'fear',\n",
    "    7: 'contempt',\n",
    "    8: 'unknown',\n",
    "    9: 'NF'\n",
    "}\n",
    "label2id = {v:k for k,v in id2label.items()}\n",
    "\n",
    "label2id"
   ]
  },
  {
   "cell_type": "code",
   "execution_count": 8,
   "metadata": {},
   "outputs": [
    {
     "name": "stderr",
     "output_type": "stream",
     "text": [
      "Some weights of the model checkpoint at google/vit-base-patch16-224-in21k were not used when initializing ViTForImageClassification: ['pooler.dense.bias', 'pooler.dense.weight']\n",
      "- This IS expected if you are initializing ViTForImageClassification from the checkpoint of a model trained on another task or with another architecture (e.g. initializing a BertForSequenceClassification model from a BertForPreTraining model).\n",
      "- This IS NOT expected if you are initializing ViTForImageClassification from the checkpoint of a model that you expect to be exactly identical (initializing a BertForSequenceClassification model from a BertForSequenceClassification model).\n",
      "Some weights of ViTForImageClassification were not initialized from the model checkpoint at google/vit-base-patch16-224-in21k and are newly initialized: ['classifier.bias', 'classifier.weight']\n",
      "You should probably TRAIN this model on a down-stream task to be able to use it for predictions and inference.\n"
     ]
    }
   ],
   "source": [
    "from transformers import ViTForImageClassification\n",
    "\n",
    "model = ViTForImageClassification.from_pretrained('google/vit-base-patch16-224-in21k',\n",
    "                                                  num_labels=len(label2id),\n",
    "                                                  label2id=label2id,\n",
    "                                                  id2label=id2label)"
   ]
  },
  {
   "cell_type": "code",
   "execution_count": 9,
   "metadata": {},
   "outputs": [],
   "source": [
    "from transformers import TrainingArguments, Trainer\n",
    "\n",
    "metric_name = \"accuracy\"\n",
    "\n",
    "args = TrainingArguments(\n",
    "    f\"fer-majority-vit\",\n",
    "    save_strategy=\"epoch\",\n",
    "    evaluation_strategy=\"epoch\",\n",
    "    learning_rate=2e-5,\n",
    "    per_device_train_batch_size=32,\n",
    "    per_device_eval_batch_size=8,\n",
    "    num_train_epochs=50,\n",
    "    weight_decay=0.01,\n",
    "    load_best_model_at_end=True,\n",
    "    metric_for_best_model=metric_name,\n",
    "    logging_dir='logs',\n",
    "    remove_unused_columns=False,\n",
    ")"
   ]
  },
  {
   "cell_type": "code",
   "execution_count": 10,
   "metadata": {},
   "outputs": [
    {
     "name": "stderr",
     "output_type": "stream",
     "text": [
      "/tmp/ipykernel_499528/1052707893.py:4: FutureWarning: load_metric is deprecated and will be removed in the next major version of datasets. Use 'evaluate.load' instead, from the new library 🤗 Evaluate: https://huggingface.co/docs/evaluate\n",
      "  metric = load_metric(\"accuracy\")\n"
     ]
    }
   ],
   "source": [
    "from datasets import load_metric\n",
    "import numpy as np\n",
    "\n",
    "metric = load_metric(\"accuracy\")\n",
    "\n",
    "def compute_metrics(eval_pred):\n",
    "    predictions, labels = eval_pred\n",
    "    predictions = np.argmax(predictions, axis=1)\n",
    "    return metric.compute(predictions=predictions, references=labels)"
   ]
  },
  {
   "cell_type": "code",
   "execution_count": 11,
   "metadata": {},
   "outputs": [
    {
     "name": "stdout",
     "output_type": "stream",
     "text": [
      "tensor([2.7740e+00, 3.7946e+00, 8.0287e+00, 8.0901e+00, 1.1595e+01, 1.4952e+02,\n",
      "        4.3600e+01, 1.6999e+02, 1.6701e+02, 1.4279e+04], device='cuda:0')\n",
      "tensor([1.0203, 1.3336, 2.0830, 2.0906, 2.4506, 5.0074, 3.7751, 5.1357, 1.0000,\n",
      "        1.0000], device='cuda:0')\n"
     ]
    }
   ],
   "source": [
    "label_ratio = torch.tensor([0]*len(id2label))\n",
    "for _, label in train_dataset:\n",
    "    label = label.tolist()\n",
    "    label_ratio[label] += 1\n",
    "label_ratio = label_ratio / len(train_dataset)\n",
    "weight = (1 / label_ratio).clone().to(device, torch.float32)\n",
    "log_weight = (-torch.log(label_ratio)).clone().to(device, torch.float32)\n",
    "log_weight[-2] = log_weight[-1] = 1\n",
    "print(weight)\n",
    "print(log_weight)"
   ]
  },
  {
   "cell_type": "code",
   "execution_count": 12,
   "metadata": {},
   "outputs": [],
   "source": [
    "import torch.nn as nn\n",
    "from torch.utils.data.sampler import WeightedRandomSampler\n",
    "\n",
    "class WeightedLossTrainer(Trainer):\n",
    "    def compute_loss(self, model, inputs, return_outputs=False):\n",
    "        labels = inputs.get('labels')\n",
    "        outputs = model(**inputs)\n",
    "        logits = outputs.get('logits')\n",
    "        loss_fct = nn.CrossEntropyLoss(weight=log_weight)\n",
    "        loss = loss_fct(logits.view(-1, self.model.config.num_labels), labels.view(-1))\n",
    "        return (loss, outputs) if return_outputs else loss\n",
    "\n",
    "class WeightedRandomSamplerTrainer(Trainer):\n",
    "    def get_train_dataloader(self) -> DataLoader:\n",
    "        if self.train_dataset is None:\n",
    "            raise ValueError(\"Trainer: training requires a train_dataset.\")\n",
    "\n",
    "        train_dataset = self.train_dataset\n",
    "        data_collator = self.data_collator\n",
    "        return DataLoader(\n",
    "            train_dataset,\n",
    "            batch_size=self._train_batch_size,\n",
    "            sampler=WeightedRandomSampler(weights=weight, num_samples=len(train_dataset)),\n",
    "            collate_fn=data_collator,\n",
    "            drop_last=self.args.dataloader_drop_last,\n",
    "            num_workers=self.args.dataloader_num_workers,\n",
    "            pin_memory=self.args.dataloader_pin_memory,\n",
    "        )"
   ]
  },
  {
   "cell_type": "code",
   "execution_count": 13,
   "metadata": {},
   "outputs": [],
   "source": [
    "trainer = WeightedLossTrainer(\n",
    "# trainer = WeightedRandomSamplerTrainer(\n",
    "    model,\n",
    "    args,\n",
    "    train_dataset=train_dataset,\n",
    "    eval_dataset=val_dataset,\n",
    "    data_collator=collate_fn,\n",
    "    compute_metrics=compute_metrics,\n",
    "    tokenizer=feature_extractor,\n",
    ")"
   ]
  },
  {
   "cell_type": "code",
   "execution_count": 14,
   "metadata": {},
   "outputs": [
    {
     "name": "stderr",
     "output_type": "stream",
     "text": [
      "/home/rkn/.local/share/virtualenvs/lab-work-gFKfzxI5/lib/python3.10/site-packages/transformers/optimization.py:306: FutureWarning: This implementation of AdamW is deprecated and will be removed in a future version. Use the PyTorch implementation torch.optim.AdamW instead, or set `no_deprecation_warning=True` to disable this warning\n",
      "  warnings.warn(\n",
      "***** Running training *****\n",
      "  Num examples = 28558\n",
      "  Num Epochs = 50\n",
      "  Instantaneous batch size per device = 32\n",
      "  Total train batch size (w. parallel, distributed & accumulation) = 32\n",
      "  Gradient Accumulation steps = 1\n",
      "  Total optimization steps = 44650\n",
      "  Number of trainable parameters = 85806346\n",
      "  1%|          | 500/44650 [02:34<3:46:39,  3.25it/s]"
     ]
    },
    {
     "name": "stdout",
     "output_type": "stream",
     "text": [
      "{'loss': 1.3614, 'learning_rate': 1.9776035834266518e-05, 'epoch': 0.56}\n"
     ]
    },
    {
     "name": "stderr",
     "output_type": "stream",
     "text": [
      "  2%|▏         | 893/44650 [04:33<3:08:00,  3.88it/s]***** Running Evaluation *****\n",
      "  Num examples = 3579\n",
      "  Batch size = 8\n",
      "                                                     \n",
      "  2%|▏         | 893/44650 [04:47<3:08:00,  3.88it/s]Saving model checkpoint to fer-majority-vit/checkpoint-893\n",
      "Configuration saved in fer-majority-vit/checkpoint-893/config.json\n"
     ]
    },
    {
     "name": "stdout",
     "output_type": "stream",
     "text": [
      "{'eval_loss': 0.8583593368530273, 'eval_accuracy': 0.7708857222687902, 'eval_runtime': 13.462, 'eval_samples_per_second': 265.86, 'eval_steps_per_second': 33.279, 'epoch': 1.0}\n"
     ]
    },
    {
     "name": "stderr",
     "output_type": "stream",
     "text": [
      "Model weights saved in fer-majority-vit/checkpoint-893/pytorch_model.bin\n",
      "Image processor saved in fer-majority-vit/checkpoint-893/preprocessor_config.json\n",
      "  2%|▏         | 1000/44650 [05:26<3:38:54,  3.32it/s]"
     ]
    },
    {
     "name": "stdout",
     "output_type": "stream",
     "text": [
      "{'loss': 0.9647, 'learning_rate': 1.955207166853304e-05, 'epoch': 1.12}\n"
     ]
    },
    {
     "name": "stderr",
     "output_type": "stream",
     "text": [
      "  3%|▎         | 1500/44650 [07:58<3:40:54,  3.26it/s]"
     ]
    },
    {
     "name": "stdout",
     "output_type": "stream",
     "text": [
      "{'loss': 0.8346, 'learning_rate': 1.9328107502799555e-05, 'epoch': 1.68}\n"
     ]
    },
    {
     "name": "stderr",
     "output_type": "stream",
     "text": [
      "  4%|▍         | 1786/44650 [09:26<3:06:23,  3.83it/s]***** Running Evaluation *****\n",
      "  Num examples = 3579\n",
      "  Batch size = 8\n",
      "                                                      \n",
      "  4%|▍         | 1786/44650 [09:39<3:06:23,  3.83it/s]Saving model checkpoint to fer-majority-vit/checkpoint-1786\n",
      "Configuration saved in fer-majority-vit/checkpoint-1786/config.json\n"
     ]
    },
    {
     "name": "stdout",
     "output_type": "stream",
     "text": [
      "{'eval_loss': 0.7181516885757446, 'eval_accuracy': 0.8024587873707739, 'eval_runtime': 13.6143, 'eval_samples_per_second': 262.885, 'eval_steps_per_second': 32.907, 'epoch': 2.0}\n"
     ]
    },
    {
     "name": "stderr",
     "output_type": "stream",
     "text": [
      "Model weights saved in fer-majority-vit/checkpoint-1786/pytorch_model.bin\n",
      "Image processor saved in fer-majority-vit/checkpoint-1786/preprocessor_config.json\n",
      "  4%|▍         | 2000/44650 [10:51<3:37:05,  3.27it/s] "
     ]
    },
    {
     "name": "stdout",
     "output_type": "stream",
     "text": [
      "{'loss': 0.7485, 'learning_rate': 1.910414333706607e-05, 'epoch': 2.24}\n"
     ]
    },
    {
     "name": "stderr",
     "output_type": "stream",
     "text": [
      "  6%|▌         | 2500/44650 [13:26<3:37:43,  3.23it/s]"
     ]
    },
    {
     "name": "stdout",
     "output_type": "stream",
     "text": [
      "{'loss': 0.6858, 'learning_rate': 1.888017917133259e-05, 'epoch': 2.8}\n"
     ]
    },
    {
     "name": "stderr",
     "output_type": "stream",
     "text": [
      "  6%|▌         | 2679/44650 [14:21<3:04:26,  3.79it/s]***** Running Evaluation *****\n",
      "  Num examples = 3579\n",
      "  Batch size = 8\n",
      "                                                      \n",
      "  6%|▌         | 2679/44650 [14:35<3:04:26,  3.79it/s]Saving model checkpoint to fer-majority-vit/checkpoint-2679\n",
      "Configuration saved in fer-majority-vit/checkpoint-2679/config.json\n"
     ]
    },
    {
     "name": "stdout",
     "output_type": "stream",
     "text": [
      "{'eval_loss': 0.6545335650444031, 'eval_accuracy': 0.8178262084381112, 'eval_runtime': 13.7758, 'eval_samples_per_second': 259.803, 'eval_steps_per_second': 32.521, 'epoch': 3.0}\n"
     ]
    },
    {
     "name": "stderr",
     "output_type": "stream",
     "text": [
      "Model weights saved in fer-majority-vit/checkpoint-2679/pytorch_model.bin\n",
      "Image processor saved in fer-majority-vit/checkpoint-2679/preprocessor_config.json\n",
      "  7%|▋         | 3000/44650 [16:20<3:35:12,  3.23it/s] "
     ]
    },
    {
     "name": "stdout",
     "output_type": "stream",
     "text": [
      "{'loss': 0.6352, 'learning_rate': 1.8656215005599105e-05, 'epoch': 3.36}\n"
     ]
    },
    {
     "name": "stderr",
     "output_type": "stream",
     "text": [
      "  8%|▊         | 3500/44650 [18:54<3:30:59,  3.25it/s]"
     ]
    },
    {
     "name": "stdout",
     "output_type": "stream",
     "text": [
      "{'loss': 0.6126, 'learning_rate': 1.8432250839865622e-05, 'epoch': 3.92}\n"
     ]
    },
    {
     "name": "stderr",
     "output_type": "stream",
     "text": [
      "  8%|▊         | 3572/44650 [19:16<2:59:01,  3.82it/s]***** Running Evaluation *****\n",
      "  Num examples = 3579\n",
      "  Batch size = 8\n",
      "                                                      \n",
      "  8%|▊         | 3572/44650 [19:29<2:59:01,  3.82it/s]Saving model checkpoint to fer-majority-vit/checkpoint-3572\n",
      "Configuration saved in fer-majority-vit/checkpoint-3572/config.json\n"
     ]
    },
    {
     "name": "stdout",
     "output_type": "stream",
     "text": [
      "{'eval_loss': 0.6458553075790405, 'eval_accuracy': 0.8239731768650461, 'eval_runtime': 13.6248, 'eval_samples_per_second': 262.682, 'eval_steps_per_second': 32.881, 'epoch': 4.0}\n"
     ]
    },
    {
     "name": "stderr",
     "output_type": "stream",
     "text": [
      "Model weights saved in fer-majority-vit/checkpoint-3572/pytorch_model.bin\n",
      "Image processor saved in fer-majority-vit/checkpoint-3572/preprocessor_config.json\n",
      "  9%|▉         | 4000/44650 [21:47<3:28:11,  3.25it/s] "
     ]
    },
    {
     "name": "stdout",
     "output_type": "stream",
     "text": [
      "{'loss': 0.567, 'learning_rate': 1.8208286674132142e-05, 'epoch': 4.48}\n"
     ]
    },
    {
     "name": "stderr",
     "output_type": "stream",
     "text": [
      " 10%|█         | 4465/44650 [24:09<2:53:01,  3.87it/s]***** Running Evaluation *****\n",
      "  Num examples = 3579\n",
      "  Batch size = 8\n",
      "                                                      \n",
      " 10%|█         | 4465/44650 [24:23<2:53:01,  3.87it/s]Saving model checkpoint to fer-majority-vit/checkpoint-4465\n",
      "Configuration saved in fer-majority-vit/checkpoint-4465/config.json\n"
     ]
    },
    {
     "name": "stdout",
     "output_type": "stream",
     "text": [
      "{'eval_loss': 0.5860163569450378, 'eval_accuracy': 0.818105616093881, 'eval_runtime': 13.4616, 'eval_samples_per_second': 265.867, 'eval_steps_per_second': 33.28, 'epoch': 5.0}\n"
     ]
    },
    {
     "name": "stderr",
     "output_type": "stream",
     "text": [
      "Model weights saved in fer-majority-vit/checkpoint-4465/pytorch_model.bin\n",
      "Image processor saved in fer-majority-vit/checkpoint-4465/preprocessor_config.json\n",
      " 10%|█         | 4500/44650 [24:40<3:22:02,  3.31it/s] "
     ]
    },
    {
     "name": "stdout",
     "output_type": "stream",
     "text": [
      "{'loss': 0.5321, 'learning_rate': 1.798432250839866e-05, 'epoch': 5.04}\n"
     ]
    },
    {
     "name": "stderr",
     "output_type": "stream",
     "text": [
      " 11%|█         | 5000/44650 [27:12<3:21:09,  3.29it/s]"
     ]
    },
    {
     "name": "stdout",
     "output_type": "stream",
     "text": [
      "{'loss': 0.4995, 'learning_rate': 1.7760358342665175e-05, 'epoch': 5.6}\n"
     ]
    },
    {
     "name": "stderr",
     "output_type": "stream",
     "text": [
      " 12%|█▏        | 5358/44650 [29:01<2:50:44,  3.84it/s]***** Running Evaluation *****\n",
      "  Num examples = 3579\n",
      "  Batch size = 8\n",
      "                                                      \n",
      " 12%|█▏        | 5358/44650 [29:15<2:50:44,  3.84it/s]Saving model checkpoint to fer-majority-vit/checkpoint-5358\n",
      "Configuration saved in fer-majority-vit/checkpoint-5358/config.json\n"
     ]
    },
    {
     "name": "stdout",
     "output_type": "stream",
     "text": [
      "{'eval_loss': 0.5676377415657043, 'eval_accuracy': 0.8382229673093042, 'eval_runtime': 13.6693, 'eval_samples_per_second': 261.828, 'eval_steps_per_second': 32.774, 'epoch': 6.0}\n"
     ]
    },
    {
     "name": "stderr",
     "output_type": "stream",
     "text": [
      "Model weights saved in fer-majority-vit/checkpoint-5358/pytorch_model.bin\n",
      "Image processor saved in fer-majority-vit/checkpoint-5358/preprocessor_config.json\n",
      " 12%|█▏        | 5500/44650 [30:06<3:20:42,  3.25it/s] "
     ]
    },
    {
     "name": "stdout",
     "output_type": "stream",
     "text": [
      "{'loss': 0.4825, 'learning_rate': 1.7536394176931692e-05, 'epoch': 6.16}\n"
     ]
    },
    {
     "name": "stderr",
     "output_type": "stream",
     "text": [
      " 13%|█▎        | 6000/44650 [32:40<3:18:51,  3.24it/s]"
     ]
    },
    {
     "name": "stdout",
     "output_type": "stream",
     "text": [
      "{'loss': 0.4405, 'learning_rate': 1.731243001119821e-05, 'epoch': 6.72}\n"
     ]
    },
    {
     "name": "stderr",
     "output_type": "stream",
     "text": [
      " 14%|█▍        | 6251/44650 [33:58<2:46:49,  3.84it/s]***** Running Evaluation *****\n",
      "  Num examples = 3579\n",
      "  Batch size = 8\n",
      "                                                      \n",
      " 14%|█▍        | 6251/44650 [34:11<2:46:49,  3.84it/s]Saving model checkpoint to fer-majority-vit/checkpoint-6251\n",
      "Configuration saved in fer-majority-vit/checkpoint-6251/config.json\n"
     ]
    },
    {
     "name": "stdout",
     "output_type": "stream",
     "text": [
      "{'eval_loss': 0.5985879302024841, 'eval_accuracy': 0.8390611902766136, 'eval_runtime': 13.6123, 'eval_samples_per_second': 262.925, 'eval_steps_per_second': 32.912, 'epoch': 7.0}\n"
     ]
    },
    {
     "name": "stderr",
     "output_type": "stream",
     "text": [
      "Model weights saved in fer-majority-vit/checkpoint-6251/pytorch_model.bin\n",
      "Image processor saved in fer-majority-vit/checkpoint-6251/preprocessor_config.json\n",
      " 15%|█▍        | 6500/44650 [35:35<3:15:31,  3.25it/s] "
     ]
    },
    {
     "name": "stdout",
     "output_type": "stream",
     "text": [
      "{'loss': 0.4327, 'learning_rate': 1.708846584546473e-05, 'epoch': 7.28}\n"
     ]
    },
    {
     "name": "stderr",
     "output_type": "stream",
     "text": [
      " 16%|█▌        | 7000/44650 [38:09<3:15:36,  3.21it/s]"
     ]
    },
    {
     "name": "stdout",
     "output_type": "stream",
     "text": [
      "{'loss': 0.409, 'learning_rate': 1.6864501679731245e-05, 'epoch': 7.84}\n"
     ]
    },
    {
     "name": "stderr",
     "output_type": "stream",
     "text": [
      " 16%|█▌        | 7144/44650 [38:53<2:41:55,  3.86it/s]***** Running Evaluation *****\n",
      "  Num examples = 3579\n",
      "  Batch size = 8\n",
      "                                                      \n",
      " 16%|█▌        | 7144/44650 [39:06<2:41:55,  3.86it/s]Saving model checkpoint to fer-majority-vit/checkpoint-7144\n",
      "Configuration saved in fer-majority-vit/checkpoint-7144/config.json\n"
     ]
    },
    {
     "name": "stdout",
     "output_type": "stream",
     "text": [
      "{'eval_loss': 0.5847888588905334, 'eval_accuracy': 0.8242525845208158, 'eval_runtime': 13.7252, 'eval_samples_per_second': 260.762, 'eval_steps_per_second': 32.641, 'epoch': 8.0}\n"
     ]
    },
    {
     "name": "stderr",
     "output_type": "stream",
     "text": [
      "Model weights saved in fer-majority-vit/checkpoint-7144/pytorch_model.bin\n",
      "Image processor saved in fer-majority-vit/checkpoint-7144/preprocessor_config.json\n",
      " 17%|█▋        | 7500/44650 [41:04<3:08:47,  3.28it/s] "
     ]
    },
    {
     "name": "stdout",
     "output_type": "stream",
     "text": [
      "{'loss': 0.3743, 'learning_rate': 1.6640537513997762e-05, 'epoch': 8.4}\n"
     ]
    },
    {
     "name": "stderr",
     "output_type": "stream",
     "text": [
      " 18%|█▊        | 8000/44650 [43:36<3:05:18,  3.30it/s]"
     ]
    },
    {
     "name": "stdout",
     "output_type": "stream",
     "text": [
      "{'loss': 0.3645, 'learning_rate': 1.641657334826428e-05, 'epoch': 8.96}\n"
     ]
    },
    {
     "name": "stderr",
     "output_type": "stream",
     "text": [
      " 18%|█▊        | 8037/44650 [43:47<2:39:26,  3.83it/s]***** Running Evaluation *****\n",
      "  Num examples = 3579\n",
      "  Batch size = 8\n",
      "                                                      \n",
      " 18%|█▊        | 8037/44650 [44:01<2:39:26,  3.83it/s]Saving model checkpoint to fer-majority-vit/checkpoint-8037\n",
      "Configuration saved in fer-majority-vit/checkpoint-8037/config.json\n"
     ]
    },
    {
     "name": "stdout",
     "output_type": "stream",
     "text": [
      "{'eval_loss': 0.5817400813102722, 'eval_accuracy': 0.8206202849958089, 'eval_runtime': 13.4693, 'eval_samples_per_second': 265.715, 'eval_steps_per_second': 33.261, 'epoch': 9.0}\n"
     ]
    },
    {
     "name": "stderr",
     "output_type": "stream",
     "text": [
      "Model weights saved in fer-majority-vit/checkpoint-8037/pytorch_model.bin\n",
      "Image processor saved in fer-majority-vit/checkpoint-8037/preprocessor_config.json\n",
      " 19%|█▉        | 8500/44650 [46:28<3:04:39,  3.26it/s] "
     ]
    },
    {
     "name": "stdout",
     "output_type": "stream",
     "text": [
      "{'loss': 0.3217, 'learning_rate': 1.6192609182530795e-05, 'epoch': 9.52}\n"
     ]
    },
    {
     "name": "stderr",
     "output_type": "stream",
     "text": [
      " 20%|██        | 8930/44650 [48:41<2:36:33,  3.80it/s]***** Running Evaluation *****\n",
      "  Num examples = 3579\n",
      "  Batch size = 8\n",
      "                                                      \n",
      " 20%|██        | 8930/44650 [48:54<2:36:33,  3.80it/s]Saving model checkpoint to fer-majority-vit/checkpoint-8930\n",
      "Configuration saved in fer-majority-vit/checkpoint-8930/config.json\n"
     ]
    },
    {
     "name": "stdout",
     "output_type": "stream",
     "text": [
      "{'eval_loss': 0.6104234457015991, 'eval_accuracy': 0.829002514668902, 'eval_runtime': 13.769, 'eval_samples_per_second': 259.933, 'eval_steps_per_second': 32.537, 'epoch': 10.0}\n"
     ]
    },
    {
     "name": "stderr",
     "output_type": "stream",
     "text": [
      "Model weights saved in fer-majority-vit/checkpoint-8930/pytorch_model.bin\n",
      "Image processor saved in fer-majority-vit/checkpoint-8930/preprocessor_config.json\n",
      " 20%|██        | 9000/44650 [49:23<3:03:42,  3.23it/s] "
     ]
    },
    {
     "name": "stdout",
     "output_type": "stream",
     "text": [
      "{'loss': 0.3321, 'learning_rate': 1.5968645016797312e-05, 'epoch': 10.08}\n"
     ]
    },
    {
     "name": "stderr",
     "output_type": "stream",
     "text": [
      " 21%|██▏       | 9500/44650 [51:57<2:58:47,  3.28it/s]"
     ]
    },
    {
     "name": "stdout",
     "output_type": "stream",
     "text": [
      "{'loss': 0.2867, 'learning_rate': 1.5744680851063832e-05, 'epoch': 10.64}\n"
     ]
    },
    {
     "name": "stderr",
     "output_type": "stream",
     "text": [
      " 22%|██▏       | 9823/44650 [53:37<2:32:04,  3.82it/s]***** Running Evaluation *****\n",
      "  Num examples = 3579\n",
      "  Batch size = 8\n",
      "                                                      \n",
      " 22%|██▏       | 9823/44650 [53:50<2:32:04,  3.82it/s]Saving model checkpoint to fer-majority-vit/checkpoint-9823\n",
      "Configuration saved in fer-majority-vit/checkpoint-9823/config.json\n"
     ]
    },
    {
     "name": "stdout",
     "output_type": "stream",
     "text": [
      "{'eval_loss': 0.6295308470726013, 'eval_accuracy': 0.8371053366862252, 'eval_runtime': 13.6221, 'eval_samples_per_second': 262.736, 'eval_steps_per_second': 32.888, 'epoch': 11.0}\n"
     ]
    },
    {
     "name": "stderr",
     "output_type": "stream",
     "text": [
      "Model weights saved in fer-majority-vit/checkpoint-9823/pytorch_model.bin\n",
      "Image processor saved in fer-majority-vit/checkpoint-9823/preprocessor_config.json\n",
      " 22%|██▏       | 10000/44650 [54:52<2:57:25,  3.25it/s]"
     ]
    },
    {
     "name": "stdout",
     "output_type": "stream",
     "text": [
      "{'loss': 0.2793, 'learning_rate': 1.552071668533035e-05, 'epoch': 11.2}\n"
     ]
    },
    {
     "name": "stderr",
     "output_type": "stream",
     "text": [
      " 24%|██▎       | 10500/44650 [57:26<2:55:12,  3.25it/s]"
     ]
    },
    {
     "name": "stdout",
     "output_type": "stream",
     "text": [
      "{'loss': 0.2621, 'learning_rate': 1.5296752519596865e-05, 'epoch': 11.76}\n"
     ]
    },
    {
     "name": "stderr",
     "output_type": "stream",
     "text": [
      " 24%|██▍       | 10716/44650 [58:33<2:25:36,  3.88it/s]***** Running Evaluation *****\n",
      "  Num examples = 3579\n",
      "  Batch size = 8\n",
      "                                                       \n",
      " 24%|██▍       | 10716/44650 [58:46<2:25:36,  3.88it/s]Saving model checkpoint to fer-majority-vit/checkpoint-10716\n",
      "Configuration saved in fer-majority-vit/checkpoint-10716/config.json\n"
     ]
    },
    {
     "name": "stdout",
     "output_type": "stream",
     "text": [
      "{'eval_loss': 0.6248673796653748, 'eval_accuracy': 0.8323554065381391, 'eval_runtime': 13.4466, 'eval_samples_per_second': 266.165, 'eval_steps_per_second': 33.317, 'epoch': 12.0}\n"
     ]
    },
    {
     "name": "stderr",
     "output_type": "stream",
     "text": [
      "Model weights saved in fer-majority-vit/checkpoint-10716/pytorch_model.bin\n",
      "Image processor saved in fer-majority-vit/checkpoint-10716/preprocessor_config.json\n",
      " 25%|██▍       | 11000/44650 [1:00:18<2:49:47,  3.30it/s]"
     ]
    },
    {
     "name": "stdout",
     "output_type": "stream",
     "text": [
      "{'loss': 0.2597, 'learning_rate': 1.5072788353863384e-05, 'epoch': 12.32}\n"
     ]
    },
    {
     "name": "stderr",
     "output_type": "stream",
     "text": [
      " 26%|██▌       | 11500/44650 [1:02:51<2:47:46,  3.29it/s]"
     ]
    },
    {
     "name": "stdout",
     "output_type": "stream",
     "text": [
      "{'loss': 0.2424, 'learning_rate': 1.48488241881299e-05, 'epoch': 12.88}\n"
     ]
    },
    {
     "name": "stderr",
     "output_type": "stream",
     "text": [
      " 26%|██▌       | 11609/44650 [1:03:24<2:22:13,  3.87it/s]***** Running Evaluation *****\n",
      "  Num examples = 3579\n",
      "  Batch size = 8\n",
      "                                                         \n",
      " 26%|██▌       | 11609/44650 [1:03:37<2:22:13,  3.87it/s]Saving model checkpoint to fer-majority-vit/checkpoint-11609\n",
      "Configuration saved in fer-majority-vit/checkpoint-11609/config.json\n"
     ]
    },
    {
     "name": "stdout",
     "output_type": "stream",
     "text": [
      "{'eval_loss': 0.6575868725776672, 'eval_accuracy': 0.8270466610785135, 'eval_runtime': 13.6049, 'eval_samples_per_second': 263.067, 'eval_steps_per_second': 32.929, 'epoch': 13.0}\n"
     ]
    },
    {
     "name": "stderr",
     "output_type": "stream",
     "text": [
      "Model weights saved in fer-majority-vit/checkpoint-11609/pytorch_model.bin\n",
      "Image processor saved in fer-majority-vit/checkpoint-11609/preprocessor_config.json\n",
      " 27%|██▋       | 12000/44650 [1:05:44<2:49:06,  3.22it/s] "
     ]
    },
    {
     "name": "stdout",
     "output_type": "stream",
     "text": [
      "{'loss': 0.2144, 'learning_rate': 1.4624860022396419e-05, 'epoch': 13.44}\n"
     ]
    },
    {
     "name": "stderr",
     "output_type": "stream",
     "text": [
      " 28%|██▊       | 12500/44650 [1:08:18<2:46:58,  3.21it/s]"
     ]
    },
    {
     "name": "stdout",
     "output_type": "stream",
     "text": [
      "{'loss': 0.2333, 'learning_rate': 1.4400895856662935e-05, 'epoch': 14.0}\n"
     ]
    },
    {
     "name": "stderr",
     "output_type": "stream",
     "text": [
      " 28%|██▊       | 12502/44650 [1:08:19<2:21:30,  3.79it/s]***** Running Evaluation *****\n",
      "  Num examples = 3579\n",
      "  Batch size = 8\n",
      "                                                         \n",
      " 28%|██▊       | 12502/44650 [1:08:33<2:21:30,  3.79it/s]Saving model checkpoint to fer-majority-vit/checkpoint-12502\n",
      "Configuration saved in fer-majority-vit/checkpoint-12502/config.json\n"
     ]
    },
    {
     "name": "stdout",
     "output_type": "stream",
     "text": [
      "{'eval_loss': 0.6815602779388428, 'eval_accuracy': 0.833752444816988, 'eval_runtime': 13.8006, 'eval_samples_per_second': 259.337, 'eval_steps_per_second': 32.462, 'epoch': 14.0}\n"
     ]
    },
    {
     "name": "stderr",
     "output_type": "stream",
     "text": [
      "Model weights saved in fer-majority-vit/checkpoint-12502/pytorch_model.bin\n",
      "Image processor saved in fer-majority-vit/checkpoint-12502/preprocessor_config.json\n",
      " 29%|██▉       | 13000/44650 [1:11:13<2:42:22,  3.25it/s] "
     ]
    },
    {
     "name": "stdout",
     "output_type": "stream",
     "text": [
      "{'loss': 0.1967, 'learning_rate': 1.4176931690929452e-05, 'epoch': 14.56}\n"
     ]
    },
    {
     "name": "stderr",
     "output_type": "stream",
     "text": [
      " 30%|███       | 13395/44650 [1:13:14<2:15:48,  3.84it/s]***** Running Evaluation *****\n",
      "  Num examples = 3579\n",
      "  Batch size = 8\n",
      "                                                         \n",
      " 30%|███       | 13395/44650 [1:13:28<2:15:48,  3.84it/s]Saving model checkpoint to fer-majority-vit/checkpoint-13395\n",
      "Configuration saved in fer-majority-vit/checkpoint-13395/config.json\n"
     ]
    },
    {
     "name": "stdout",
     "output_type": "stream",
     "text": [
      "{'eval_loss': 0.7078720927238464, 'eval_accuracy': 0.8390611902766136, 'eval_runtime': 13.6064, 'eval_samples_per_second': 263.039, 'eval_steps_per_second': 32.926, 'epoch': 15.0}\n"
     ]
    },
    {
     "name": "stderr",
     "output_type": "stream",
     "text": [
      "Model weights saved in fer-majority-vit/checkpoint-13395/pytorch_model.bin\n",
      "Image processor saved in fer-majority-vit/checkpoint-13395/preprocessor_config.json\n",
      " 30%|███       | 13500/44650 [1:14:06<2:39:41,  3.25it/s] "
     ]
    },
    {
     "name": "stdout",
     "output_type": "stream",
     "text": [
      "{'loss': 0.1948, 'learning_rate': 1.395296752519597e-05, 'epoch': 15.12}\n"
     ]
    },
    {
     "name": "stderr",
     "output_type": "stream",
     "text": [
      " 31%|███▏      | 14000/44650 [1:16:40<2:34:31,  3.31it/s]"
     ]
    },
    {
     "name": "stdout",
     "output_type": "stream",
     "text": [
      "{'loss': 0.1817, 'learning_rate': 1.3729003359462487e-05, 'epoch': 15.68}\n"
     ]
    },
    {
     "name": "stderr",
     "output_type": "stream",
     "text": [
      " 32%|███▏      | 14288/44650 [1:18:07<2:09:55,  3.89it/s]***** Running Evaluation *****\n",
      "  Num examples = 3579\n",
      "  Batch size = 8\n",
      "                                                         \n",
      " 32%|███▏      | 14288/44650 [1:18:21<2:09:55,  3.89it/s]Saving model checkpoint to fer-majority-vit/checkpoint-14288\n",
      "Configuration saved in fer-majority-vit/checkpoint-14288/config.json\n"
     ]
    },
    {
     "name": "stdout",
     "output_type": "stream",
     "text": [
      "{'eval_loss': 0.7072768211364746, 'eval_accuracy': 0.8331936295054484, 'eval_runtime': 13.5169, 'eval_samples_per_second': 264.779, 'eval_steps_per_second': 33.144, 'epoch': 16.0}\n"
     ]
    },
    {
     "name": "stderr",
     "output_type": "stream",
     "text": [
      "Model weights saved in fer-majority-vit/checkpoint-14288/pytorch_model.bin\n",
      "Image processor saved in fer-majority-vit/checkpoint-14288/preprocessor_config.json\n",
      " 32%|███▏      | 14500/44650 [1:19:32<2:32:17,  3.30it/s] "
     ]
    },
    {
     "name": "stdout",
     "output_type": "stream",
     "text": [
      "{'loss': 0.1812, 'learning_rate': 1.3505039193729004e-05, 'epoch': 16.24}\n"
     ]
    },
    {
     "name": "stderr",
     "output_type": "stream",
     "text": [
      " 34%|███▎      | 15000/44650 [1:22:04<2:32:28,  3.24it/s]"
     ]
    },
    {
     "name": "stdout",
     "output_type": "stream",
     "text": [
      "{'loss': 0.174, 'learning_rate': 1.3281075027995522e-05, 'epoch': 16.8}\n"
     ]
    },
    {
     "name": "stderr",
     "output_type": "stream",
     "text": [
      " 34%|███▍      | 15181/44650 [1:23:00<2:09:05,  3.80it/s]***** Running Evaluation *****\n",
      "  Num examples = 3579\n",
      "  Batch size = 8\n",
      "                                                         \n",
      " 34%|███▍      | 15181/44650 [1:23:14<2:09:05,  3.80it/s]Saving model checkpoint to fer-majority-vit/checkpoint-15181\n",
      "Configuration saved in fer-majority-vit/checkpoint-15181/config.json\n"
     ]
    },
    {
     "name": "stdout",
     "output_type": "stream",
     "text": [
      "{'eval_loss': 0.7803291082382202, 'eval_accuracy': 0.8320759988823694, 'eval_runtime': 13.7074, 'eval_samples_per_second': 261.1, 'eval_steps_per_second': 32.683, 'epoch': 17.0}\n"
     ]
    },
    {
     "name": "stderr",
     "output_type": "stream",
     "text": [
      "Model weights saved in fer-majority-vit/checkpoint-15181/pytorch_model.bin\n",
      "Image processor saved in fer-majority-vit/checkpoint-15181/preprocessor_config.json\n",
      " 35%|███▍      | 15500/44650 [1:24:59<2:30:34,  3.23it/s] "
     ]
    },
    {
     "name": "stdout",
     "output_type": "stream",
     "text": [
      "{'loss': 0.1541, 'learning_rate': 1.3057110862262039e-05, 'epoch': 17.36}\n"
     ]
    },
    {
     "name": "stderr",
     "output_type": "stream",
     "text": [
      " 36%|███▌      | 16000/44650 [1:27:34<2:27:56,  3.23it/s]"
     ]
    },
    {
     "name": "stdout",
     "output_type": "stream",
     "text": [
      "{'loss': 0.1588, 'learning_rate': 1.2833146696528555e-05, 'epoch': 17.92}\n"
     ]
    },
    {
     "name": "stderr",
     "output_type": "stream",
     "text": [
      " 36%|███▌      | 16074/44650 [1:27:56<2:04:39,  3.82it/s]***** Running Evaluation *****\n",
      "  Num examples = 3579\n",
      "  Batch size = 8\n",
      "                                                         \n",
      " 36%|███▌      | 16074/44650 [1:28:10<2:04:39,  3.82it/s]Saving model checkpoint to fer-majority-vit/checkpoint-16074\n",
      "Configuration saved in fer-majority-vit/checkpoint-16074/config.json\n"
     ]
    },
    {
     "name": "stdout",
     "output_type": "stream",
     "text": [
      "{'eval_loss': 0.7831529974937439, 'eval_accuracy': 0.8398994132439229, 'eval_runtime': 13.704, 'eval_samples_per_second': 261.164, 'eval_steps_per_second': 32.691, 'epoch': 18.0}\n"
     ]
    },
    {
     "name": "stderr",
     "output_type": "stream",
     "text": [
      "Model weights saved in fer-majority-vit/checkpoint-16074/pytorch_model.bin\n",
      "Image processor saved in fer-majority-vit/checkpoint-16074/preprocessor_config.json\n",
      " 37%|███▋      | 16500/44650 [1:30:28<2:24:38,  3.24it/s] "
     ]
    },
    {
     "name": "stdout",
     "output_type": "stream",
     "text": [
      "{'loss': 0.1445, 'learning_rate': 1.2609182530795074e-05, 'epoch': 18.48}\n"
     ]
    },
    {
     "name": "stderr",
     "output_type": "stream",
     "text": [
      " 38%|███▊      | 16967/44650 [1:32:52<2:00:24,  3.83it/s]***** Running Evaluation *****\n",
      "  Num examples = 3579\n",
      "  Batch size = 8\n",
      "                                                         \n",
      " 38%|███▊      | 16967/44650 [1:33:05<2:00:24,  3.83it/s]Saving model checkpoint to fer-majority-vit/checkpoint-16967\n",
      "Configuration saved in fer-majority-vit/checkpoint-16967/config.json\n"
     ]
    },
    {
     "name": "stdout",
     "output_type": "stream",
     "text": [
      "{'eval_loss': 0.8927794694900513, 'eval_accuracy': 0.8398994132439229, 'eval_runtime': 13.5371, 'eval_samples_per_second': 264.384, 'eval_steps_per_second': 33.094, 'epoch': 19.0}\n"
     ]
    },
    {
     "name": "stderr",
     "output_type": "stream",
     "text": [
      "Model weights saved in fer-majority-vit/checkpoint-16967/pytorch_model.bin\n",
      "Image processor saved in fer-majority-vit/checkpoint-16967/preprocessor_config.json\n",
      " 38%|███▊      | 17000/44650 [1:33:22<2:19:05,  3.31it/s] "
     ]
    },
    {
     "name": "stdout",
     "output_type": "stream",
     "text": [
      "{'loss': 0.1456, 'learning_rate': 1.238521836506159e-05, 'epoch': 19.04}\n"
     ]
    },
    {
     "name": "stderr",
     "output_type": "stream",
     "text": [
      " 39%|███▉      | 17500/44650 [1:35:54<2:17:53,  3.28it/s]"
     ]
    },
    {
     "name": "stdout",
     "output_type": "stream",
     "text": [
      "{'loss': 0.1296, 'learning_rate': 1.2161254199328107e-05, 'epoch': 19.6}\n"
     ]
    },
    {
     "name": "stderr",
     "output_type": "stream",
     "text": [
      " 40%|████      | 17860/44650 [1:37:43<1:55:02,  3.88it/s]***** Running Evaluation *****\n",
      "  Num examples = 3579\n",
      "  Batch size = 8\n",
      "                                                         \n",
      " 40%|████      | 17860/44650 [1:37:57<1:55:02,  3.88it/s]Saving model checkpoint to fer-majority-vit/checkpoint-17860\n",
      "Configuration saved in fer-majority-vit/checkpoint-17860/config.json\n"
     ]
    },
    {
     "name": "stdout",
     "output_type": "stream",
     "text": [
      "{'eval_loss': 0.8498286008834839, 'eval_accuracy': 0.8348700754400671, 'eval_runtime': 13.4628, 'eval_samples_per_second': 265.843, 'eval_steps_per_second': 33.277, 'epoch': 20.0}\n"
     ]
    },
    {
     "name": "stderr",
     "output_type": "stream",
     "text": [
      "Model weights saved in fer-majority-vit/checkpoint-17860/pytorch_model.bin\n",
      "Image processor saved in fer-majority-vit/checkpoint-17860/preprocessor_config.json\n",
      " 40%|████      | 18000/44650 [1:38:46<2:15:11,  3.29it/s] "
     ]
    },
    {
     "name": "stdout",
     "output_type": "stream",
     "text": [
      "{'loss': 0.1377, 'learning_rate': 1.1937290033594627e-05, 'epoch': 20.16}\n"
     ]
    },
    {
     "name": "stderr",
     "output_type": "stream",
     "text": [
      " 41%|████▏     | 18500/44650 [1:41:19<2:13:31,  3.26it/s]"
     ]
    },
    {
     "name": "stdout",
     "output_type": "stream",
     "text": [
      "{'loss': 0.1311, 'learning_rate': 1.1713325867861142e-05, 'epoch': 20.72}\n"
     ]
    },
    {
     "name": "stderr",
     "output_type": "stream",
     "text": [
      " 42%|████▏     | 18753/44650 [1:42:37<1:53:19,  3.81it/s]***** Running Evaluation *****\n",
      "  Num examples = 3579\n",
      "  Batch size = 8\n",
      "                                                         \n",
      " 42%|████▏     | 18753/44650 [1:42:51<1:53:19,  3.81it/s]Saving model checkpoint to fer-majority-vit/checkpoint-18753\n",
      "Configuration saved in fer-majority-vit/checkpoint-18753/config.json\n"
     ]
    },
    {
     "name": "stdout",
     "output_type": "stream",
     "text": [
      "{'eval_loss': 0.8655171990394592, 'eval_accuracy': 0.837384744341995, 'eval_runtime': 13.7025, 'eval_samples_per_second': 261.192, 'eval_steps_per_second': 32.695, 'epoch': 21.0}\n"
     ]
    },
    {
     "name": "stderr",
     "output_type": "stream",
     "text": [
      "Model weights saved in fer-majority-vit/checkpoint-18753/pytorch_model.bin\n",
      "Image processor saved in fer-majority-vit/checkpoint-18753/preprocessor_config.json\n",
      " 43%|████▎     | 19000/44650 [1:44:15<2:12:08,  3.24it/s] "
     ]
    },
    {
     "name": "stdout",
     "output_type": "stream",
     "text": [
      "{'loss': 0.1277, 'learning_rate': 1.1489361702127662e-05, 'epoch': 21.28}\n"
     ]
    },
    {
     "name": "stderr",
     "output_type": "stream",
     "text": [
      " 44%|████▎     | 19500/44650 [1:46:49<2:09:00,  3.25it/s]"
     ]
    },
    {
     "name": "stdout",
     "output_type": "stream",
     "text": [
      "{'loss': 0.127, 'learning_rate': 1.1265397536394179e-05, 'epoch': 21.84}\n"
     ]
    },
    {
     "name": "stderr",
     "output_type": "stream",
     "text": [
      " 44%|████▍     | 19646/44650 [1:47:34<1:48:31,  3.84it/s]***** Running Evaluation *****\n",
      "  Num examples = 3579\n",
      "  Batch size = 8\n",
      "                                                         \n",
      " 44%|████▍     | 19646/44650 [1:47:47<1:48:31,  3.84it/s]Saving model checkpoint to fer-majority-vit/checkpoint-19646\n",
      "Configuration saved in fer-majority-vit/checkpoint-19646/config.json\n"
     ]
    },
    {
     "name": "stdout",
     "output_type": "stream",
     "text": [
      "{'eval_loss': 0.8327947854995728, 'eval_accuracy': 0.8359877060631461, 'eval_runtime': 13.5778, 'eval_samples_per_second': 263.593, 'eval_steps_per_second': 32.995, 'epoch': 22.0}\n"
     ]
    },
    {
     "name": "stderr",
     "output_type": "stream",
     "text": [
      "Model weights saved in fer-majority-vit/checkpoint-19646/pytorch_model.bin\n",
      "Image processor saved in fer-majority-vit/checkpoint-19646/preprocessor_config.json\n",
      " 45%|████▍     | 20000/44650 [1:49:43<2:06:34,  3.25it/s] "
     ]
    },
    {
     "name": "stdout",
     "output_type": "stream",
     "text": [
      "{'loss': 0.1116, 'learning_rate': 1.1041433370660695e-05, 'epoch': 22.4}\n"
     ]
    },
    {
     "name": "stderr",
     "output_type": "stream",
     "text": [
      " 46%|████▌     | 20500/44650 [1:52:17<2:03:23,  3.26it/s]"
     ]
    },
    {
     "name": "stdout",
     "output_type": "stream",
     "text": [
      "{'loss': 0.1237, 'learning_rate': 1.0817469204927214e-05, 'epoch': 22.96}\n"
     ]
    },
    {
     "name": "stderr",
     "output_type": "stream",
     "text": [
      " 46%|████▌     | 20539/44650 [1:52:29<1:44:34,  3.84it/s]***** Running Evaluation *****\n",
      "  Num examples = 3579\n",
      "  Batch size = 8\n",
      "                                                         \n",
      " 46%|████▌     | 20539/44650 [1:52:42<1:44:34,  3.84it/s]Saving model checkpoint to fer-majority-vit/checkpoint-20539\n",
      "Configuration saved in fer-majority-vit/checkpoint-20539/config.json\n"
     ]
    },
    {
     "name": "stdout",
     "output_type": "stream",
     "text": [
      "{'eval_loss': 0.8344739079475403, 'eval_accuracy': 0.8376641519977648, 'eval_runtime': 13.5558, 'eval_samples_per_second': 264.02, 'eval_steps_per_second': 33.049, 'epoch': 23.0}\n"
     ]
    },
    {
     "name": "stderr",
     "output_type": "stream",
     "text": [
      "Model weights saved in fer-majority-vit/checkpoint-20539/pytorch_model.bin\n",
      "Image processor saved in fer-majority-vit/checkpoint-20539/preprocessor_config.json\n",
      " 47%|████▋     | 21000/44650 [1:55:09<1:58:07,  3.34it/s] "
     ]
    },
    {
     "name": "stdout",
     "output_type": "stream",
     "text": [
      "{'loss': 0.1085, 'learning_rate': 1.059350503919373e-05, 'epoch': 23.52}\n"
     ]
    },
    {
     "name": "stderr",
     "output_type": "stream",
     "text": [
      " 48%|████▊     | 21432/44650 [1:57:20<1:40:27,  3.85it/s]***** Running Evaluation *****\n",
      "  Num examples = 3579\n",
      "  Batch size = 8\n",
      "                                                         \n",
      " 48%|████▊     | 21432/44650 [1:57:34<1:40:27,  3.85it/s]Saving model checkpoint to fer-majority-vit/checkpoint-21432\n",
      "Configuration saved in fer-majority-vit/checkpoint-21432/config.json\n"
     ]
    },
    {
     "name": "stdout",
     "output_type": "stream",
     "text": [
      "{'eval_loss': 0.9259078502655029, 'eval_accuracy': 0.8351494830958368, 'eval_runtime': 13.6063, 'eval_samples_per_second': 263.04, 'eval_steps_per_second': 32.926, 'epoch': 24.0}\n"
     ]
    },
    {
     "name": "stderr",
     "output_type": "stream",
     "text": [
      "Model weights saved in fer-majority-vit/checkpoint-21432/pytorch_model.bin\n",
      "Image processor saved in fer-majority-vit/checkpoint-21432/preprocessor_config.json\n",
      " 48%|████▊     | 21500/44650 [1:58:01<1:57:54,  3.27it/s] "
     ]
    },
    {
     "name": "stdout",
     "output_type": "stream",
     "text": [
      "{'loss': 0.1075, 'learning_rate': 1.0369540873460247e-05, 'epoch': 24.08}\n"
     ]
    },
    {
     "name": "stderr",
     "output_type": "stream",
     "text": [
      " 49%|████▉     | 22000/44650 [2:00:35<1:56:58,  3.23it/s]"
     ]
    },
    {
     "name": "stdout",
     "output_type": "stream",
     "text": [
      "{'loss': 0.0996, 'learning_rate': 1.0145576707726765e-05, 'epoch': 24.64}\n"
     ]
    },
    {
     "name": "stderr",
     "output_type": "stream",
     "text": [
      " 50%|█████     | 22325/44650 [2:02:15<1:37:30,  3.82it/s]***** Running Evaluation *****\n",
      "  Num examples = 3579\n",
      "  Batch size = 8\n",
      "                                                         \n",
      " 50%|█████     | 22325/44650 [2:02:29<1:37:30,  3.82it/s]Saving model checkpoint to fer-majority-vit/checkpoint-22325\n",
      "Configuration saved in fer-majority-vit/checkpoint-22325/config.json\n"
     ]
    },
    {
     "name": "stdout",
     "output_type": "stream",
     "text": [
      "{'eval_loss': 0.8843470811843872, 'eval_accuracy': 0.837384744341995, 'eval_runtime': 13.6866, 'eval_samples_per_second': 261.497, 'eval_steps_per_second': 32.733, 'epoch': 25.0}\n"
     ]
    },
    {
     "name": "stderr",
     "output_type": "stream",
     "text": [
      "Model weights saved in fer-majority-vit/checkpoint-22325/pytorch_model.bin\n",
      "Image processor saved in fer-majority-vit/checkpoint-22325/preprocessor_config.json\n",
      " 50%|█████     | 22500/44650 [2:03:29<1:53:24,  3.26it/s] "
     ]
    },
    {
     "name": "stdout",
     "output_type": "stream",
     "text": [
      "{'loss': 0.107, 'learning_rate': 9.921612541993282e-06, 'epoch': 25.2}\n"
     ]
    },
    {
     "name": "stderr",
     "output_type": "stream",
     "text": [
      " 52%|█████▏    | 23000/44650 [2:06:03<1:50:38,  3.26it/s]"
     ]
    },
    {
     "name": "stdout",
     "output_type": "stream",
     "text": [
      "{'loss': 0.0936, 'learning_rate': 9.697648376259799e-06, 'epoch': 25.76}\n"
     ]
    },
    {
     "name": "stderr",
     "output_type": "stream",
     "text": [
      " 52%|█████▏    | 23218/44650 [2:07:11<1:33:38,  3.81it/s]***** Running Evaluation *****\n",
      "  Num examples = 3579\n",
      "  Batch size = 8\n",
      "                                                         \n",
      " 52%|█████▏    | 23218/44650 [2:07:24<1:33:38,  3.81it/s]Saving model checkpoint to fer-majority-vit/checkpoint-23218\n",
      "Configuration saved in fer-majority-vit/checkpoint-23218/config.json\n"
     ]
    },
    {
     "name": "stdout",
     "output_type": "stream",
     "text": [
      "{'eval_loss': 0.9551302194595337, 'eval_accuracy': 0.8379435596535345, 'eval_runtime': 13.6042, 'eval_samples_per_second': 263.081, 'eval_steps_per_second': 32.931, 'epoch': 26.0}\n"
     ]
    },
    {
     "name": "stderr",
     "output_type": "stream",
     "text": [
      "Model weights saved in fer-majority-vit/checkpoint-23218/pytorch_model.bin\n",
      "Image processor saved in fer-majority-vit/checkpoint-23218/preprocessor_config.json\n",
      " 53%|█████▎    | 23500/44650 [2:08:57<1:46:35,  3.31it/s] "
     ]
    },
    {
     "name": "stdout",
     "output_type": "stream",
     "text": [
      "{'loss': 0.0992, 'learning_rate': 9.473684210526315e-06, 'epoch': 26.32}\n"
     ]
    },
    {
     "name": "stderr",
     "output_type": "stream",
     "text": [
      " 54%|█████▍    | 24000/44650 [2:11:29<1:44:33,  3.29it/s]"
     ]
    },
    {
     "name": "stdout",
     "output_type": "stream",
     "text": [
      "{'loss': 0.0966, 'learning_rate': 9.249720044792834e-06, 'epoch': 26.88}\n"
     ]
    },
    {
     "name": "stderr",
     "output_type": "stream",
     "text": [
      " 54%|█████▍    | 24111/44650 [2:12:03<1:28:45,  3.86it/s]***** Running Evaluation *****\n",
      "  Num examples = 3579\n",
      "  Batch size = 8\n",
      "                                                         \n",
      " 54%|█████▍    | 24111/44650 [2:12:17<1:28:45,  3.86it/s]Saving model checkpoint to fer-majority-vit/checkpoint-24111\n",
      "Configuration saved in fer-majority-vit/checkpoint-24111/config.json\n"
     ]
    },
    {
     "name": "stdout",
     "output_type": "stream",
     "text": [
      "{'eval_loss': 0.9632986187934875, 'eval_accuracy': 0.8357082984073764, 'eval_runtime': 13.5295, 'eval_samples_per_second': 264.533, 'eval_steps_per_second': 33.113, 'epoch': 27.0}\n"
     ]
    },
    {
     "name": "stderr",
     "output_type": "stream",
     "text": [
      "Model weights saved in fer-majority-vit/checkpoint-24111/pytorch_model.bin\n",
      "Image processor saved in fer-majority-vit/checkpoint-24111/preprocessor_config.json\n",
      " 55%|█████▍    | 24500/44650 [2:14:22<1:41:44,  3.30it/s] "
     ]
    },
    {
     "name": "stdout",
     "output_type": "stream",
     "text": [
      "{'loss': 0.0884, 'learning_rate': 9.02575587905935e-06, 'epoch': 27.44}\n"
     ]
    },
    {
     "name": "stderr",
     "output_type": "stream",
     "text": [
      " 56%|█████▌    | 25000/44650 [2:16:54<1:40:43,  3.25it/s]"
     ]
    },
    {
     "name": "stdout",
     "output_type": "stream",
     "text": [
      "{'loss': 0.0883, 'learning_rate': 8.801791713325869e-06, 'epoch': 28.0}\n"
     ]
    },
    {
     "name": "stderr",
     "output_type": "stream",
     "text": [
      " 56%|█████▌    | 25004/44650 [2:16:55<1:26:07,  3.80it/s]***** Running Evaluation *****\n",
      "  Num examples = 3579\n",
      "  Batch size = 8\n",
      "                                                         \n",
      " 56%|█████▌    | 25004/44650 [2:17:09<1:26:07,  3.80it/s]Saving model checkpoint to fer-majority-vit/checkpoint-25004\n",
      "Configuration saved in fer-majority-vit/checkpoint-25004/config.json\n"
     ]
    },
    {
     "name": "stdout",
     "output_type": "stream",
     "text": [
      "{'eval_loss': 0.9425562024116516, 'eval_accuracy': 0.8432523051131601, 'eval_runtime': 13.8229, 'eval_samples_per_second': 258.918, 'eval_steps_per_second': 32.41, 'epoch': 28.0}\n"
     ]
    },
    {
     "name": "stderr",
     "output_type": "stream",
     "text": [
      "Model weights saved in fer-majority-vit/checkpoint-25004/pytorch_model.bin\n",
      "Image processor saved in fer-majority-vit/checkpoint-25004/preprocessor_config.json\n",
      " 57%|█████▋    | 25500/44650 [2:19:49<1:39:04,  3.22it/s] "
     ]
    },
    {
     "name": "stdout",
     "output_type": "stream",
     "text": [
      "{'loss': 0.0831, 'learning_rate': 8.577827547592386e-06, 'epoch': 28.56}\n"
     ]
    },
    {
     "name": "stderr",
     "output_type": "stream",
     "text": [
      " 58%|█████▊    | 25897/44650 [2:21:52<1:21:41,  3.83it/s]***** Running Evaluation *****\n",
      "  Num examples = 3579\n",
      "  Batch size = 8\n",
      "                                                         \n",
      " 58%|█████▊    | 25897/44650 [2:22:05<1:21:41,  3.83it/s]Saving model checkpoint to fer-majority-vit/checkpoint-25897\n",
      "Configuration saved in fer-majority-vit/checkpoint-25897/config.json\n"
     ]
    },
    {
     "name": "stdout",
     "output_type": "stream",
     "text": [
      "{'eval_loss': 0.9456034898757935, 'eval_accuracy': 0.8362671137189159, 'eval_runtime': 13.5851, 'eval_samples_per_second': 263.45, 'eval_steps_per_second': 32.977, 'epoch': 29.0}\n"
     ]
    },
    {
     "name": "stderr",
     "output_type": "stream",
     "text": [
      "Model weights saved in fer-majority-vit/checkpoint-25897/pytorch_model.bin\n",
      "Image processor saved in fer-majority-vit/checkpoint-25897/preprocessor_config.json\n",
      " 58%|█████▊    | 26000/44650 [2:22:43<1:35:16,  3.26it/s] "
     ]
    },
    {
     "name": "stdout",
     "output_type": "stream",
     "text": [
      "{'loss': 0.0862, 'learning_rate': 8.353863381858904e-06, 'epoch': 29.12}\n"
     ]
    },
    {
     "name": "stderr",
     "output_type": "stream",
     "text": [
      " 59%|█████▉    | 26500/44650 [2:25:17<1:32:57,  3.25it/s]"
     ]
    },
    {
     "name": "stdout",
     "output_type": "stream",
     "text": [
      "{'loss': 0.0815, 'learning_rate': 8.12989921612542e-06, 'epoch': 29.68}\n"
     ]
    },
    {
     "name": "stderr",
     "output_type": "stream",
     "text": [
      " 60%|██████    | 26790/44650 [2:26:46<1:17:36,  3.84it/s]***** Running Evaluation *****\n",
      "  Num examples = 3579\n",
      "  Batch size = 8\n",
      "                                                         \n",
      " 60%|██████    | 26790/44650 [2:27:00<1:17:36,  3.84it/s]Saving model checkpoint to fer-majority-vit/checkpoint-26790\n",
      "Configuration saved in fer-majority-vit/checkpoint-26790/config.json\n"
     ]
    },
    {
     "name": "stdout",
     "output_type": "stream",
     "text": [
      "{'eval_loss': 0.953723132610321, 'eval_accuracy': 0.8331936295054484, 'eval_runtime': 13.5793, 'eval_samples_per_second': 263.563, 'eval_steps_per_second': 32.991, 'epoch': 30.0}\n"
     ]
    },
    {
     "name": "stderr",
     "output_type": "stream",
     "text": [
      "Model weights saved in fer-majority-vit/checkpoint-26790/pytorch_model.bin\n",
      "Image processor saved in fer-majority-vit/checkpoint-26790/preprocessor_config.json\n",
      " 60%|██████    | 27000/44650 [2:28:11<1:30:09,  3.26it/s] "
     ]
    },
    {
     "name": "stdout",
     "output_type": "stream",
     "text": [
      "{'loss': 0.0857, 'learning_rate': 7.905935050391937e-06, 'epoch': 30.24}\n"
     ]
    },
    {
     "name": "stderr",
     "output_type": "stream",
     "text": [
      " 62%|██████▏   | 27500/44650 [2:30:43<1:27:11,  3.28it/s]"
     ]
    },
    {
     "name": "stdout",
     "output_type": "stream",
     "text": [
      "{'loss': 0.0809, 'learning_rate': 7.681970884658456e-06, 'epoch': 30.8}\n"
     ]
    },
    {
     "name": "stderr",
     "output_type": "stream",
     "text": [
      " 62%|██████▏   | 27683/44650 [2:31:39<1:13:15,  3.86it/s]***** Running Evaluation *****\n",
      "  Num examples = 3579\n",
      "  Batch size = 8\n",
      "                                                         \n",
      " 62%|██████▏   | 27683/44650 [2:31:52<1:13:15,  3.86it/s]Saving model checkpoint to fer-majority-vit/checkpoint-27683\n",
      "Configuration saved in fer-majority-vit/checkpoint-27683/config.json\n"
     ]
    },
    {
     "name": "stdout",
     "output_type": "stream",
     "text": [
      "{'eval_loss': 0.9657320380210876, 'eval_accuracy': 0.8351494830958368, 'eval_runtime': 13.4836, 'eval_samples_per_second': 265.434, 'eval_steps_per_second': 33.226, 'epoch': 31.0}\n"
     ]
    },
    {
     "name": "stderr",
     "output_type": "stream",
     "text": [
      "Model weights saved in fer-majority-vit/checkpoint-27683/pytorch_model.bin\n",
      "Image processor saved in fer-majority-vit/checkpoint-27683/preprocessor_config.json\n",
      " 63%|██████▎   | 28000/44650 [2:33:36<1:24:06,  3.30it/s] "
     ]
    },
    {
     "name": "stdout",
     "output_type": "stream",
     "text": [
      "{'loss': 0.0775, 'learning_rate': 7.458006718924973e-06, 'epoch': 31.35}\n"
     ]
    },
    {
     "name": "stderr",
     "output_type": "stream",
     "text": [
      " 64%|██████▍   | 28500/44650 [2:36:09<1:22:35,  3.26it/s]"
     ]
    },
    {
     "name": "stdout",
     "output_type": "stream",
     "text": [
      "{'loss': 0.0831, 'learning_rate': 7.234042553191491e-06, 'epoch': 31.91}\n"
     ]
    },
    {
     "name": "stderr",
     "output_type": "stream",
     "text": [
      " 64%|██████▍   | 28576/44650 [2:36:33<1:10:03,  3.82it/s]***** Running Evaluation *****\n",
      "  Num examples = 3579\n",
      "  Batch size = 8\n",
      "                                                         \n",
      " 64%|██████▍   | 28576/44650 [2:36:46<1:10:03,  3.82it/s]Saving model checkpoint to fer-majority-vit/checkpoint-28576\n",
      "Configuration saved in fer-majority-vit/checkpoint-28576/config.json\n"
     ]
    },
    {
     "name": "stdout",
     "output_type": "stream",
     "text": [
      "{'eval_loss': 1.1286839246749878, 'eval_accuracy': 0.8351494830958368, 'eval_runtime': 13.593, 'eval_samples_per_second': 263.298, 'eval_steps_per_second': 32.958, 'epoch': 32.0}\n"
     ]
    },
    {
     "name": "stderr",
     "output_type": "stream",
     "text": [
      "Model weights saved in fer-majority-vit/checkpoint-28576/pytorch_model.bin\n",
      "Image processor saved in fer-majority-vit/checkpoint-28576/preprocessor_config.json\n",
      " 65%|██████▍   | 29000/44650 [2:39:04<1:21:19,  3.21it/s] "
     ]
    },
    {
     "name": "stdout",
     "output_type": "stream",
     "text": [
      "{'loss': 0.065, 'learning_rate': 7.010078387458007e-06, 'epoch': 32.47}\n"
     ]
    },
    {
     "name": "stderr",
     "output_type": "stream",
     "text": [
      " 66%|██████▌   | 29469/44650 [2:41:28<1:05:58,  3.84it/s]***** Running Evaluation *****\n",
      "  Num examples = 3579\n",
      "  Batch size = 8\n",
      "                                                         \n",
      " 66%|██████▌   | 29469/44650 [2:41:42<1:05:58,  3.84it/s]Saving model checkpoint to fer-majority-vit/checkpoint-29469\n",
      "Configuration saved in fer-majority-vit/checkpoint-29469/config.json\n"
     ]
    },
    {
     "name": "stdout",
     "output_type": "stream",
     "text": [
      "{'eval_loss': 1.0399457216262817, 'eval_accuracy': 0.8412964515227718, 'eval_runtime': 13.5778, 'eval_samples_per_second': 263.592, 'eval_steps_per_second': 32.995, 'epoch': 33.0}\n"
     ]
    },
    {
     "name": "stderr",
     "output_type": "stream",
     "text": [
      "Model weights saved in fer-majority-vit/checkpoint-29469/pytorch_model.bin\n",
      "Image processor saved in fer-majority-vit/checkpoint-29469/preprocessor_config.json\n",
      " 66%|██████▌   | 29500/44650 [2:41:58<1:16:43,  3.29it/s] "
     ]
    },
    {
     "name": "stdout",
     "output_type": "stream",
     "text": [
      "{'loss': 0.0773, 'learning_rate': 6.786114221724525e-06, 'epoch': 33.03}\n"
     ]
    },
    {
     "name": "stderr",
     "output_type": "stream",
     "text": [
      " 67%|██████▋   | 30000/44650 [2:44:32<1:14:20,  3.28it/s]"
     ]
    },
    {
     "name": "stdout",
     "output_type": "stream",
     "text": [
      "{'loss': 0.0645, 'learning_rate': 6.562150055991042e-06, 'epoch': 33.59}\n"
     ]
    },
    {
     "name": "stderr",
     "output_type": "stream",
     "text": [
      " 68%|██████▊   | 30362/44650 [2:46:23<1:01:53,  3.85it/s]***** Running Evaluation *****\n",
      "  Num examples = 3579\n",
      "  Batch size = 8\n",
      "                                                         \n",
      " 68%|██████▊   | 30362/44650 [2:46:36<1:01:53,  3.85it/s]Saving model checkpoint to fer-majority-vit/checkpoint-30362\n",
      "Configuration saved in fer-majority-vit/checkpoint-30362/config.json\n"
     ]
    },
    {
     "name": "stdout",
     "output_type": "stream",
     "text": [
      "{'eval_loss': 1.007745623588562, 'eval_accuracy': 0.8415758591785415, 'eval_runtime': 13.5888, 'eval_samples_per_second': 263.378, 'eval_steps_per_second': 32.968, 'epoch': 34.0}\n"
     ]
    },
    {
     "name": "stderr",
     "output_type": "stream",
     "text": [
      "Model weights saved in fer-majority-vit/checkpoint-30362/pytorch_model.bin\n",
      "Image processor saved in fer-majority-vit/checkpoint-30362/preprocessor_config.json\n",
      " 68%|██████▊   | 30500/44650 [2:47:25<1:11:20,  3.31it/s] "
     ]
    },
    {
     "name": "stdout",
     "output_type": "stream",
     "text": [
      "{'loss': 0.068, 'learning_rate': 6.338185890257559e-06, 'epoch': 34.15}\n"
     ]
    },
    {
     "name": "stderr",
     "output_type": "stream",
     "text": [
      " 69%|██████▉   | 31000/44650 [2:49:57<1:08:52,  3.30it/s]"
     ]
    },
    {
     "name": "stdout",
     "output_type": "stream",
     "text": [
      "{'loss': 0.0621, 'learning_rate': 6.1142217245240765e-06, 'epoch': 34.71}\n"
     ]
    },
    {
     "name": "stderr",
     "output_type": "stream",
     "text": [
      " 70%|███████   | 31255/44650 [2:51:14<57:44,  3.87it/s]  ***** Running Evaluation *****\n",
      "  Num examples = 3579\n",
      "  Batch size = 8\n",
      "                                                       \n",
      " 70%|███████   | 31255/44650 [2:51:28<57:44,  3.87it/s]Saving model checkpoint to fer-majority-vit/checkpoint-31255\n",
      "Configuration saved in fer-majority-vit/checkpoint-31255/config.json\n"
     ]
    },
    {
     "name": "stdout",
     "output_type": "stream",
     "text": [
      "{'eval_loss': 1.0763698816299438, 'eval_accuracy': 0.8387817826208438, 'eval_runtime': 13.5437, 'eval_samples_per_second': 264.256, 'eval_steps_per_second': 33.078, 'epoch': 35.0}\n"
     ]
    },
    {
     "name": "stderr",
     "output_type": "stream",
     "text": [
      "Model weights saved in fer-majority-vit/checkpoint-31255/pytorch_model.bin\n",
      "Image processor saved in fer-majority-vit/checkpoint-31255/preprocessor_config.json\n",
      " 71%|███████   | 31500/44650 [2:52:50<1:07:20,  3.25it/s] "
     ]
    },
    {
     "name": "stdout",
     "output_type": "stream",
     "text": [
      "{'loss': 0.0632, 'learning_rate': 5.890257558790594e-06, 'epoch': 35.27}\n"
     ]
    },
    {
     "name": "stderr",
     "output_type": "stream",
     "text": [
      " 72%|███████▏  | 32000/44650 [2:55:24<1:05:27,  3.22it/s]"
     ]
    },
    {
     "name": "stdout",
     "output_type": "stream",
     "text": [
      "{'loss': 0.0619, 'learning_rate': 5.6662933930571115e-06, 'epoch': 35.83}\n"
     ]
    },
    {
     "name": "stderr",
     "output_type": "stream",
     "text": [
      " 72%|███████▏  | 32148/44650 [2:56:10<54:50,  3.80it/s]  ***** Running Evaluation *****\n",
      "  Num examples = 3579\n",
      "  Batch size = 8\n",
      "                                                       \n",
      " 72%|███████▏  | 32148/44650 [2:56:24<54:50,  3.80it/s]Saving model checkpoint to fer-majority-vit/checkpoint-32148\n",
      "Configuration saved in fer-majority-vit/checkpoint-32148/config.json\n"
     ]
    },
    {
     "name": "stdout",
     "output_type": "stream",
     "text": [
      "{'eval_loss': 1.1049423217773438, 'eval_accuracy': 0.8362671137189159, 'eval_runtime': 13.6578, 'eval_samples_per_second': 262.049, 'eval_steps_per_second': 32.802, 'epoch': 36.0}\n"
     ]
    },
    {
     "name": "stderr",
     "output_type": "stream",
     "text": [
      "Model weights saved in fer-majority-vit/checkpoint-32148/pytorch_model.bin\n",
      "Image processor saved in fer-majority-vit/checkpoint-32148/preprocessor_config.json\n",
      " 73%|███████▎  | 32500/44650 [2:58:19<1:02:12,  3.26it/s] "
     ]
    },
    {
     "name": "stdout",
     "output_type": "stream",
     "text": [
      "{'loss': 0.0585, 'learning_rate': 5.442329227323628e-06, 'epoch': 36.39}\n"
     ]
    },
    {
     "name": "stderr",
     "output_type": "stream",
     "text": [
      " 74%|███████▍  | 33000/44650 [3:00:53<59:45,  3.25it/s]  "
     ]
    },
    {
     "name": "stdout",
     "output_type": "stream",
     "text": [
      "{'loss': 0.0608, 'learning_rate': 5.218365061590146e-06, 'epoch': 36.95}\n"
     ]
    },
    {
     "name": "stderr",
     "output_type": "stream",
     "text": [
      " 74%|███████▍  | 33041/44650 [3:01:06<50:34,  3.83it/s]  ***** Running Evaluation *****\n",
      "  Num examples = 3579\n",
      "  Batch size = 8\n",
      "                                                       \n",
      " 74%|███████▍  | 33041/44650 [3:01:19<50:34,  3.83it/s]Saving model checkpoint to fer-majority-vit/checkpoint-33041\n",
      "Configuration saved in fer-majority-vit/checkpoint-33041/config.json\n"
     ]
    },
    {
     "name": "stdout",
     "output_type": "stream",
     "text": [
      "{'eval_loss': 1.0818915367126465, 'eval_accuracy': 0.8401788208996926, 'eval_runtime': 13.6417, 'eval_samples_per_second': 262.358, 'eval_steps_per_second': 32.841, 'epoch': 37.0}\n"
     ]
    },
    {
     "name": "stderr",
     "output_type": "stream",
     "text": [
      "Model weights saved in fer-majority-vit/checkpoint-33041/pytorch_model.bin\n",
      "Image processor saved in fer-majority-vit/checkpoint-33041/preprocessor_config.json\n",
      " 75%|███████▌  | 33500/44650 [3:03:47<56:49,  3.27it/s]   "
     ]
    },
    {
     "name": "stdout",
     "output_type": "stream",
     "text": [
      "{'loss': 0.0525, 'learning_rate': 4.994400895856663e-06, 'epoch': 37.51}\n"
     ]
    },
    {
     "name": "stderr",
     "output_type": "stream",
     "text": [
      " 76%|███████▌  | 33934/44650 [3:05:59<46:13,  3.86it/s]***** Running Evaluation *****\n",
      "  Num examples = 3579\n",
      "  Batch size = 8\n",
      "                                                       \n",
      " 76%|███████▌  | 33934/44650 [3:06:12<46:13,  3.86it/s]Saving model checkpoint to fer-majority-vit/checkpoint-33934\n",
      "Configuration saved in fer-majority-vit/checkpoint-33934/config.json\n"
     ]
    },
    {
     "name": "stdout",
     "output_type": "stream",
     "text": [
      "{'eval_loss': 1.1278294324874878, 'eval_accuracy': 0.837384744341995, 'eval_runtime': 13.4981, 'eval_samples_per_second': 265.148, 'eval_steps_per_second': 33.19, 'epoch': 38.0}\n"
     ]
    },
    {
     "name": "stderr",
     "output_type": "stream",
     "text": [
      "Model weights saved in fer-majority-vit/checkpoint-33934/pytorch_model.bin\n",
      "Image processor saved in fer-majority-vit/checkpoint-33934/preprocessor_config.json\n",
      " 76%|███████▌  | 34000/44650 [3:06:39<53:52,  3.29it/s]   "
     ]
    },
    {
     "name": "stdout",
     "output_type": "stream",
     "text": [
      "{'loss': 0.0582, 'learning_rate': 4.770436730123181e-06, 'epoch': 38.07}\n"
     ]
    },
    {
     "name": "stderr",
     "output_type": "stream",
     "text": [
      " 77%|███████▋  | 34500/44650 [3:09:11<51:28,  3.29it/s]"
     ]
    },
    {
     "name": "stdout",
     "output_type": "stream",
     "text": [
      "{'loss': 0.0473, 'learning_rate': 4.546472564389698e-06, 'epoch': 38.63}\n"
     ]
    },
    {
     "name": "stderr",
     "output_type": "stream",
     "text": [
      " 78%|███████▊  | 34827/44650 [3:10:51<42:04,  3.89it/s]***** Running Evaluation *****\n",
      "  Num examples = 3579\n",
      "  Batch size = 8\n",
      "                                                       \n",
      " 78%|███████▊  | 34827/44650 [3:11:04<42:04,  3.89it/s]Saving model checkpoint to fer-majority-vit/checkpoint-34827\n",
      "Configuration saved in fer-majority-vit/checkpoint-34827/config.json\n"
     ]
    },
    {
     "name": "stdout",
     "output_type": "stream",
     "text": [
      "{'eval_loss': 1.1347544193267822, 'eval_accuracy': 0.8357082984073764, 'eval_runtime': 13.4705, 'eval_samples_per_second': 265.692, 'eval_steps_per_second': 33.258, 'epoch': 39.0}\n"
     ]
    },
    {
     "name": "stderr",
     "output_type": "stream",
     "text": [
      "Model weights saved in fer-majority-vit/checkpoint-34827/pytorch_model.bin\n",
      "Image processor saved in fer-majority-vit/checkpoint-34827/preprocessor_config.json\n",
      " 78%|███████▊  | 35000/44650 [3:12:06<49:47,  3.23it/s]   "
     ]
    },
    {
     "name": "stdout",
     "output_type": "stream",
     "text": [
      "{'loss': 0.0574, 'learning_rate': 4.322508398656216e-06, 'epoch': 39.19}\n"
     ]
    },
    {
     "name": "stderr",
     "output_type": "stream",
     "text": [
      " 80%|███████▉  | 35500/44650 [3:14:40<47:13,  3.23it/s]"
     ]
    },
    {
     "name": "stdout",
     "output_type": "stream",
     "text": [
      "{'loss': 0.0489, 'learning_rate': 4.0985442329227325e-06, 'epoch': 39.75}\n"
     ]
    },
    {
     "name": "stderr",
     "output_type": "stream",
     "text": [
      " 80%|████████  | 35720/44650 [3:15:48<39:03,  3.81it/s]***** Running Evaluation *****\n",
      "  Num examples = 3579\n",
      "  Batch size = 8\n",
      "                                                       \n",
      " 80%|████████  | 35720/44650 [3:16:02<39:03,  3.81it/s]Saving model checkpoint to fer-majority-vit/checkpoint-35720\n",
      "Configuration saved in fer-majority-vit/checkpoint-35720/config.json\n"
     ]
    },
    {
     "name": "stdout",
     "output_type": "stream",
     "text": [
      "{'eval_loss': 1.0816543102264404, 'eval_accuracy': 0.833752444816988, 'eval_runtime': 13.5542, 'eval_samples_per_second': 264.051, 'eval_steps_per_second': 33.052, 'epoch': 40.0}\n"
     ]
    },
    {
     "name": "stderr",
     "output_type": "stream",
     "text": [
      "Model weights saved in fer-majority-vit/checkpoint-35720/pytorch_model.bin\n",
      "Image processor saved in fer-majority-vit/checkpoint-35720/preprocessor_config.json\n",
      " 81%|████████  | 36000/44650 [3:17:35<44:12,  3.26it/s]   "
     ]
    },
    {
     "name": "stdout",
     "output_type": "stream",
     "text": [
      "{'loss': 0.0488, 'learning_rate': 3.87458006718925e-06, 'epoch': 40.31}\n"
     ]
    },
    {
     "name": "stderr",
     "output_type": "stream",
     "text": [
      " 82%|████████▏ | 36500/44650 [3:20:09<41:43,  3.26it/s]  "
     ]
    },
    {
     "name": "stdout",
     "output_type": "stream",
     "text": [
      "{'loss': 0.0494, 'learning_rate': 3.6506159014557675e-06, 'epoch': 40.87}\n"
     ]
    },
    {
     "name": "stderr",
     "output_type": "stream",
     "text": [
      " 82%|████████▏ | 36613/44650 [3:20:44<35:16,  3.80it/s]***** Running Evaluation *****\n",
      "  Num examples = 3579\n",
      "  Batch size = 8\n",
      "                                                       \n",
      " 82%|████████▏ | 36613/44650 [3:20:58<35:16,  3.80it/s]Saving model checkpoint to fer-majority-vit/checkpoint-36613\n",
      "Configuration saved in fer-majority-vit/checkpoint-36613/config.json\n"
     ]
    },
    {
     "name": "stdout",
     "output_type": "stream",
     "text": [
      "{'eval_loss': 1.133273720741272, 'eval_accuracy': 0.8368259290304554, 'eval_runtime': 13.7587, 'eval_samples_per_second': 260.126, 'eval_steps_per_second': 32.561, 'epoch': 41.0}\n"
     ]
    },
    {
     "name": "stderr",
     "output_type": "stream",
     "text": [
      "Model weights saved in fer-majority-vit/checkpoint-36613/pytorch_model.bin\n",
      "Image processor saved in fer-majority-vit/checkpoint-36613/preprocessor_config.json\n",
      " 83%|████████▎ | 37000/44650 [3:23:03<38:50,  3.28it/s]   "
     ]
    },
    {
     "name": "stdout",
     "output_type": "stream",
     "text": [
      "{'loss': 0.0432, 'learning_rate': 3.4266517357222846e-06, 'epoch': 41.43}\n"
     ]
    },
    {
     "name": "stderr",
     "output_type": "stream",
     "text": [
      " 84%|████████▍ | 37500/44650 [3:25:35<36:11,  3.29it/s]"
     ]
    },
    {
     "name": "stdout",
     "output_type": "stream",
     "text": [
      "{'loss': 0.0491, 'learning_rate': 3.202687569988802e-06, 'epoch': 41.99}\n"
     ]
    },
    {
     "name": "stderr",
     "output_type": "stream",
     "text": [
      " 84%|████████▍ | 37506/44650 [3:25:37<30:48,  3.87it/s]***** Running Evaluation *****\n",
      "  Num examples = 3579\n",
      "  Batch size = 8\n",
      "                                                       \n",
      " 84%|████████▍ | 37506/44650 [3:25:51<30:48,  3.87it/s]Saving model checkpoint to fer-majority-vit/checkpoint-37506\n",
      "Configuration saved in fer-majority-vit/checkpoint-37506/config.json\n"
     ]
    },
    {
     "name": "stdout",
     "output_type": "stream",
     "text": [
      "{'eval_loss': 1.1273245811462402, 'eval_accuracy': 0.8382229673093042, 'eval_runtime': 13.4676, 'eval_samples_per_second': 265.748, 'eval_steps_per_second': 33.265, 'epoch': 42.0}\n"
     ]
    },
    {
     "name": "stderr",
     "output_type": "stream",
     "text": [
      "Model weights saved in fer-majority-vit/checkpoint-37506/pytorch_model.bin\n",
      "Image processor saved in fer-majority-vit/checkpoint-37506/preprocessor_config.json\n",
      " 85%|████████▌ | 38000/44650 [3:28:28<34:02,  3.26it/s]   "
     ]
    },
    {
     "name": "stdout",
     "output_type": "stream",
     "text": [
      "{'loss': 0.0457, 'learning_rate': 2.978723404255319e-06, 'epoch': 42.55}\n"
     ]
    },
    {
     "name": "stderr",
     "output_type": "stream",
     "text": [
      " 86%|████████▌ | 38399/44650 [3:30:31<27:23,  3.80it/s]***** Running Evaluation *****\n",
      "  Num examples = 3579\n",
      "  Batch size = 8\n",
      "                                                       \n",
      " 86%|████████▌ | 38399/44650 [3:30:45<27:23,  3.80it/s]Saving model checkpoint to fer-majority-vit/checkpoint-38399\n",
      "Configuration saved in fer-majority-vit/checkpoint-38399/config.json\n"
     ]
    },
    {
     "name": "stdout",
     "output_type": "stream",
     "text": [
      "{'eval_loss': 1.1361011266708374, 'eval_accuracy': 0.8343112601285275, 'eval_runtime': 13.6599, 'eval_samples_per_second': 262.007, 'eval_steps_per_second': 32.797, 'epoch': 43.0}\n"
     ]
    },
    {
     "name": "stderr",
     "output_type": "stream",
     "text": [
      "Model weights saved in fer-majority-vit/checkpoint-38399/pytorch_model.bin\n",
      "Image processor saved in fer-majority-vit/checkpoint-38399/preprocessor_config.json\n",
      " 86%|████████▌ | 38500/44650 [3:31:23<31:22,  3.27it/s]   "
     ]
    },
    {
     "name": "stdout",
     "output_type": "stream",
     "text": [
      "{'loss': 0.0438, 'learning_rate': 2.754759238521837e-06, 'epoch': 43.11}\n"
     ]
    },
    {
     "name": "stderr",
     "output_type": "stream",
     "text": [
      " 87%|████████▋ | 39000/44650 [3:33:57<28:55,  3.26it/s]"
     ]
    },
    {
     "name": "stdout",
     "output_type": "stream",
     "text": [
      "{'loss': 0.0434, 'learning_rate': 2.530795072788354e-06, 'epoch': 43.67}\n"
     ]
    },
    {
     "name": "stderr",
     "output_type": "stream",
     "text": [
      " 88%|████████▊ | 39292/44650 [3:35:27<23:14,  3.84it/s]***** Running Evaluation *****\n",
      "  Num examples = 3579\n",
      "  Batch size = 8\n",
      "                                                       \n",
      " 88%|████████▊ | 39292/44650 [3:35:40<23:14,  3.84it/s]Saving model checkpoint to fer-majority-vit/checkpoint-39292\n",
      "Configuration saved in fer-majority-vit/checkpoint-39292/config.json\n"
     ]
    },
    {
     "name": "stdout",
     "output_type": "stream",
     "text": [
      "{'eval_loss': 1.1497032642364502, 'eval_accuracy': 0.8359877060631461, 'eval_runtime': 13.5575, 'eval_samples_per_second': 263.986, 'eval_steps_per_second': 33.044, 'epoch': 44.0}\n"
     ]
    },
    {
     "name": "stderr",
     "output_type": "stream",
     "text": [
      "Model weights saved in fer-majority-vit/checkpoint-39292/pytorch_model.bin\n",
      "Image processor saved in fer-majority-vit/checkpoint-39292/preprocessor_config.json\n",
      " 88%|████████▊ | 39500/44650 [3:36:51<26:22,  3.25it/s]  "
     ]
    },
    {
     "name": "stdout",
     "output_type": "stream",
     "text": [
      "{'loss': 0.044, 'learning_rate': 2.3068309070548713e-06, 'epoch': 44.23}\n"
     ]
    },
    {
     "name": "stderr",
     "output_type": "stream",
     "text": [
      " 90%|████████▉ | 40000/44650 [3:39:24<23:33,  3.29it/s]"
     ]
    },
    {
     "name": "stdout",
     "output_type": "stream",
     "text": [
      "{'loss': 0.042, 'learning_rate': 2.082866741321389e-06, 'epoch': 44.79}\n"
     ]
    },
    {
     "name": "stderr",
     "output_type": "stream",
     "text": [
      " 90%|█████████ | 40185/44650 [3:40:21<19:28,  3.82it/s]***** Running Evaluation *****\n",
      "  Num examples = 3579\n",
      "  Batch size = 8\n",
      "                                                       \n",
      " 90%|█████████ | 40185/44650 [3:40:35<19:28,  3.82it/s]Saving model checkpoint to fer-majority-vit/checkpoint-40185\n",
      "Configuration saved in fer-majority-vit/checkpoint-40185/config.json\n"
     ]
    },
    {
     "name": "stdout",
     "output_type": "stream",
     "text": [
      "{'eval_loss': 1.1494611501693726, 'eval_accuracy': 0.8357082984073764, 'eval_runtime': 13.6209, 'eval_samples_per_second': 262.758, 'eval_steps_per_second': 32.891, 'epoch': 45.0}\n"
     ]
    },
    {
     "name": "stderr",
     "output_type": "stream",
     "text": [
      "Model weights saved in fer-majority-vit/checkpoint-40185/pytorch_model.bin\n",
      "Image processor saved in fer-majority-vit/checkpoint-40185/preprocessor_config.json\n",
      " 91%|█████████ | 40500/44650 [3:42:18<20:58,  3.30it/s]  "
     ]
    },
    {
     "name": "stdout",
     "output_type": "stream",
     "text": [
      "{'loss': 0.0428, 'learning_rate': 1.8589025755879061e-06, 'epoch': 45.35}\n"
     ]
    },
    {
     "name": "stderr",
     "output_type": "stream",
     "text": [
      " 92%|█████████▏| 41000/44650 [3:44:50<18:26,  3.30it/s]"
     ]
    },
    {
     "name": "stdout",
     "output_type": "stream",
     "text": [
      "{'loss': 0.0395, 'learning_rate': 1.6349384098544236e-06, 'epoch': 45.91}\n"
     ]
    },
    {
     "name": "stderr",
     "output_type": "stream",
     "text": [
      " 92%|█████████▏| 41078/44650 [3:45:13<15:20,  3.88it/s]***** Running Evaluation *****\n",
      "  Num examples = 3579\n",
      "  Batch size = 8\n",
      "                                                       \n",
      " 92%|█████████▏| 41078/44650 [3:45:27<15:20,  3.88it/s]Saving model checkpoint to fer-majority-vit/checkpoint-41078\n",
      "Configuration saved in fer-majority-vit/checkpoint-41078/config.json\n"
     ]
    },
    {
     "name": "stdout",
     "output_type": "stream",
     "text": [
      "{'eval_loss': 1.1707115173339844, 'eval_accuracy': 0.8368259290304554, 'eval_runtime': 13.4317, 'eval_samples_per_second': 266.459, 'eval_steps_per_second': 33.354, 'epoch': 46.0}\n"
     ]
    },
    {
     "name": "stderr",
     "output_type": "stream",
     "text": [
      "Model weights saved in fer-majority-vit/checkpoint-41078/pytorch_model.bin\n",
      "Image processor saved in fer-majority-vit/checkpoint-41078/preprocessor_config.json\n",
      " 93%|█████████▎| 41500/44650 [3:47:42<16:13,  3.24it/s]  "
     ]
    },
    {
     "name": "stdout",
     "output_type": "stream",
     "text": [
      "{'loss': 0.0348, 'learning_rate': 1.4109742441209407e-06, 'epoch': 46.47}\n"
     ]
    },
    {
     "name": "stderr",
     "output_type": "stream",
     "text": [
      " 94%|█████████▍| 41971/44650 [3:50:07<11:43,  3.81it/s]***** Running Evaluation *****\n",
      "  Num examples = 3579\n",
      "  Batch size = 8\n",
      "                                                       \n",
      " 94%|█████████▍| 41971/44650 [3:50:21<11:43,  3.81it/s]Saving model checkpoint to fer-majority-vit/checkpoint-41971\n",
      "Configuration saved in fer-majority-vit/checkpoint-41971/config.json\n"
     ]
    },
    {
     "name": "stdout",
     "output_type": "stream",
     "text": [
      "{'eval_loss': 1.1637473106384277, 'eval_accuracy': 0.8343112601285275, 'eval_runtime': 13.794, 'eval_samples_per_second': 259.461, 'eval_steps_per_second': 32.478, 'epoch': 47.0}\n"
     ]
    },
    {
     "name": "stderr",
     "output_type": "stream",
     "text": [
      "Model weights saved in fer-majority-vit/checkpoint-41971/pytorch_model.bin\n",
      "Image processor saved in fer-majority-vit/checkpoint-41971/preprocessor_config.json\n",
      " 94%|█████████▍| 42000/44650 [3:50:37<13:38,  3.24it/s]  "
     ]
    },
    {
     "name": "stdout",
     "output_type": "stream",
     "text": [
      "{'loss': 0.0401, 'learning_rate': 1.1870100783874582e-06, 'epoch': 47.03}\n"
     ]
    },
    {
     "name": "stderr",
     "output_type": "stream",
     "text": [
      " 95%|█████████▌| 42500/44650 [3:53:11<10:57,  3.27it/s]"
     ]
    },
    {
     "name": "stdout",
     "output_type": "stream",
     "text": [
      "{'loss': 0.0368, 'learning_rate': 9.630459126539753e-07, 'epoch': 47.59}\n"
     ]
    },
    {
     "name": "stderr",
     "output_type": "stream",
     "text": [
      " 96%|█████████▌| 42864/44650 [3:55:03<07:45,  3.84it/s]***** Running Evaluation *****\n",
      "  Num examples = 3579\n",
      "  Batch size = 8\n",
      "                                                       \n",
      " 96%|█████████▌| 42864/44650 [3:55:16<07:45,  3.84it/s]Saving model checkpoint to fer-majority-vit/checkpoint-42864\n",
      "Configuration saved in fer-majority-vit/checkpoint-42864/config.json\n"
     ]
    },
    {
     "name": "stdout",
     "output_type": "stream",
     "text": [
      "{'eval_loss': 1.1780108213424683, 'eval_accuracy': 0.8362671137189159, 'eval_runtime': 13.5955, 'eval_samples_per_second': 263.249, 'eval_steps_per_second': 32.952, 'epoch': 48.0}\n"
     ]
    },
    {
     "name": "stderr",
     "output_type": "stream",
     "text": [
      "Model weights saved in fer-majority-vit/checkpoint-42864/pytorch_model.bin\n",
      "Image processor saved in fer-majority-vit/checkpoint-42864/preprocessor_config.json\n",
      " 96%|█████████▋| 43000/44650 [3:56:05<08:24,  3.27it/s]  "
     ]
    },
    {
     "name": "stdout",
     "output_type": "stream",
     "text": [
      "{'loss': 0.0359, 'learning_rate': 7.390817469204927e-07, 'epoch': 48.15}\n"
     ]
    },
    {
     "name": "stderr",
     "output_type": "stream",
     "text": [
      " 97%|█████████▋| 43500/44650 [3:58:39<05:47,  3.31it/s]"
     ]
    },
    {
     "name": "stdout",
     "output_type": "stream",
     "text": [
      "{'loss': 0.0342, 'learning_rate': 5.151175811870101e-07, 'epoch': 48.71}\n"
     ]
    },
    {
     "name": "stderr",
     "output_type": "stream",
     "text": [
      " 98%|█████████▊| 43757/44650 [3:59:57<03:50,  3.88it/s]***** Running Evaluation *****\n",
      "  Num examples = 3579\n",
      "  Batch size = 8\n",
      "                                                       \n",
      " 98%|█████████▊| 43757/44650 [4:00:10<03:50,  3.88it/s]Saving model checkpoint to fer-majority-vit/checkpoint-43757\n",
      "Configuration saved in fer-majority-vit/checkpoint-43757/config.json\n"
     ]
    },
    {
     "name": "stdout",
     "output_type": "stream",
     "text": [
      "{'eval_loss': 1.1620757579803467, 'eval_accuracy': 0.8354288907516066, 'eval_runtime': 13.3648, 'eval_samples_per_second': 267.793, 'eval_steps_per_second': 33.521, 'epoch': 49.0}\n"
     ]
    },
    {
     "name": "stderr",
     "output_type": "stream",
     "text": [
      "Model weights saved in fer-majority-vit/checkpoint-43757/pytorch_model.bin\n",
      "Image processor saved in fer-majority-vit/checkpoint-43757/preprocessor_config.json\n",
      " 99%|█████████▊| 44000/44650 [4:01:30<03:17,  3.29it/s]  "
     ]
    },
    {
     "name": "stdout",
     "output_type": "stream",
     "text": [
      "{'loss': 0.0337, 'learning_rate': 2.911534154535275e-07, 'epoch': 49.27}\n"
     ]
    },
    {
     "name": "stderr",
     "output_type": "stream",
     "text": [
      "100%|█████████▉| 44500/44650 [4:04:02<00:45,  3.28it/s]"
     ]
    },
    {
     "name": "stdout",
     "output_type": "stream",
     "text": [
      "{'loss': 0.0333, 'learning_rate': 6.71892497200448e-08, 'epoch': 49.83}\n"
     ]
    },
    {
     "name": "stderr",
     "output_type": "stream",
     "text": [
      "100%|██████████| 44650/44650 [4:04:48<00:00,  3.85it/s]***** Running Evaluation *****\n",
      "  Num examples = 3579\n",
      "  Batch size = 8\n",
      "                                                       \n",
      "100%|██████████| 44650/44650 [4:05:02<00:00,  3.85it/s]Saving model checkpoint to fer-majority-vit/checkpoint-44650\n",
      "Configuration saved in fer-majority-vit/checkpoint-44650/config.json\n"
     ]
    },
    {
     "name": "stdout",
     "output_type": "stream",
     "text": [
      "{'eval_loss': 1.1783571243286133, 'eval_accuracy': 0.8371053366862252, 'eval_runtime': 13.5938, 'eval_samples_per_second': 263.281, 'eval_steps_per_second': 32.956, 'epoch': 50.0}\n"
     ]
    },
    {
     "name": "stderr",
     "output_type": "stream",
     "text": [
      "Model weights saved in fer-majority-vit/checkpoint-44650/pytorch_model.bin\n",
      "Image processor saved in fer-majority-vit/checkpoint-44650/preprocessor_config.json\n",
      "\n",
      "\n",
      "Training completed. Do not forget to share your model on huggingface.co/models =)\n",
      "\n",
      "\n",
      "Loading best model from fer-majority-vit/checkpoint-25004 (score: 0.8432523051131601).\n",
      "100%|██████████| 44650/44650 [4:05:11<00:00,  3.03it/s]"
     ]
    },
    {
     "name": "stdout",
     "output_type": "stream",
     "text": [
      "{'train_runtime': 14711.7321, 'train_samples_per_second': 97.059, 'train_steps_per_second': 3.035, 'train_loss': 0.19998515983444845, 'epoch': 50.0}\n"
     ]
    },
    {
     "name": "stderr",
     "output_type": "stream",
     "text": [
      "\n"
     ]
    },
    {
     "data": {
      "text/plain": [
       "TrainOutput(global_step=44650, training_loss=0.19998515983444845, metrics={'train_runtime': 14711.7321, 'train_samples_per_second': 97.059, 'train_steps_per_second': 3.035, 'train_loss': 0.19998515983444845, 'epoch': 50.0})"
      ]
     },
     "execution_count": 14,
     "metadata": {},
     "output_type": "execute_result"
    }
   ],
   "source": [
    "trainer.train()"
   ]
  },
  {
   "cell_type": "code",
   "execution_count": 15,
   "metadata": {},
   "outputs": [
    {
     "name": "stderr",
     "output_type": "stream",
     "text": [
      "***** Running Prediction *****\n",
      "  Num examples = 3573\n",
      "  Batch size = 8\n",
      "100%|██████████| 447/447 [00:13<00:00, 33.71it/s]\n"
     ]
    }
   ],
   "source": [
    "outputs = trainer.predict(test_dataset)"
   ]
  },
  {
   "cell_type": "code",
   "execution_count": 16,
   "metadata": {},
   "outputs": [
    {
     "name": "stdout",
     "output_type": "stream",
     "text": [
      "{'test_loss': 1.1084121465682983, 'test_accuracy': 0.8158410299468234, 'test_runtime': 13.2975, 'test_samples_per_second': 268.697, 'test_steps_per_second': 33.615}\n"
     ]
    }
   ],
   "source": [
    "print(outputs.metrics)"
   ]
  },
  {
   "cell_type": "code",
   "execution_count": 17,
   "metadata": {},
   "outputs": [
    {
     "data": {
      "text/plain": [
       "<sklearn.metrics._plot.confusion_matrix.ConfusionMatrixDisplay at 0x7f422c54ac20>"
      ]
     },
     "execution_count": 17,
     "metadata": {},
     "output_type": "execute_result"
    },
    {
     "data": {
      "image/png": "[encoded data removed]",
      "text/plain": [
       "<Figure size 1200x1200 with 2 Axes>"
      ]
     },
     "metadata": {},
     "output_type": "display_data"
    }
   ],
   "source": [
    "from sklearn.metrics import confusion_matrix, ConfusionMatrixDisplay\n",
    "import matplotlib.pyplot as plt\n",
    "\n",
    "y_true = outputs.label_ids\n",
    "y_pred = outputs.predictions.argmax(1)\n",
    "\n",
    "labels = list(label2id.keys())[:-1]\n",
    "cm = confusion_matrix(y_true, y_pred, normalize='true')\n",
    "disp = ConfusionMatrixDisplay(confusion_matrix=cm, display_labels=labels)\n",
    "fig, ax = plt.subplots(figsize=(12,12))\n",
    "disp.plot(ax=ax)"
   ]
  },
  {
   "cell_type": "code",
   "execution_count": null,
   "metadata": {},
   "outputs": [],
   "source": []
  }
 ],
 "metadata": {
  "kernelspec": {
   "display_name": "lab-work-gFKfzxI5",
   "language": "python",
   "name": "python3"
  },
  "language_info": {
   "codemirror_mode": {
    "name": "ipython",
    "version": 3
   },
   "file_extension": ".py",
   "mimetype": "text/x-python",
   "name": "python",
   "nbconvert_exporter": "python",
   "pygments_lexer": "ipython3",
   "version": "3.10.10"
  },
  "orig_nbformat": 4,
  "vscode": {
   "interpreter": {
    "hash": "849f61b40a9f0695613f10abe0801a9209e9c807f7f85006c3621f09dc21595f"
   }
  }
 },
 "nbformat": 4,
 "nbformat_minor": 2
}
